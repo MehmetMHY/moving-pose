{
 "cells": [
  {
   "cell_type": "code",
   "execution_count": 1,
   "metadata": {},
   "outputs": [],
   "source": [
    "from mpl_toolkits.mplot3d import Axes3D\n",
    "import matplotlib.pyplot as plt\n",
    "import numpy as np\n",
    "\n",
    "%matplotlib notebook"
   ]
  },
  {
   "cell_type": "code",
   "execution_count": 2,
   "metadata": {},
   "outputs": [],
   "source": [
    "import sys\n",
    "sys.path.append(\"../\")\n",
    "import preprocessing.skeletonnormalization as sn\n",
    "import preprocessing.get_data as gd\n",
    "from data_collection.find_r import *"
   ]
  },
  {
   "cell_type": "code",
   "execution_count": 3,
   "metadata": {},
   "outputs": [],
   "source": [
    "# load normalized training data\n",
    "train = gd.load_data('../pickle/norm_train.p')\n",
    "# a08_s01_e01_skeleton_proj.txt         hands raised over head\n",
    "# a10_s06_e02_skeleton_proj.txt         wave\n",
    "# select a sequence of frames from the training data\n",
    "#action_data = train[\"a08_s01_e01_skeleton_proj.txt\"]\n",
    "action_data = train[\"a08_s01_e02_skeleton_proj.txt\"]"
   ]
  },
  {
   "cell_type": "code",
   "execution_count": 4,
   "metadata": {},
   "outputs": [],
   "source": [
    "# initialize joint colors of skeleton\n",
    "colors = ['blue' for i in range(20)]\n",
    "colors[0] = 'red'  # hip is red\n",
    "colors[7] = 'green'  # hands and feet are green\n",
    "colors[11] = 'green'\n",
    "colors[15] = 'green'\n",
    "colors[19] = 'green'\n",
    "colors[3] = 'black' # head is black"
   ]
  },
  {
   "cell_type": "code",
   "execution_count": 5,
   "metadata": {},
   "outputs": [],
   "source": [
    "def attemp1(all_frames):\n",
    "    for i in range(len(all_frames)):\n",
    "        all_frames[i] = gaussian_filter1d(all_frames[i], 1)\n",
    "    return all_frames"
   ]
  },
  {
   "cell_type": "code",
   "execution_count": 6,
   "metadata": {},
   "outputs": [
    {
     "name": "stdout",
     "output_type": "stream",
     "text": [
      "[[ 0.00000000e+00  0.00000000e+00  0.00000000e+00]\n",
      " [-1.73153888e-02  5.10348301e-02  4.55668126e-02]\n",
      " [-2.30719969e-02  3.67648279e-01  4.36479432e-02]\n",
      " [-2.74148541e-03  5.70953394e-01  5.04247804e-02]\n",
      " [-2.12321521e-01  3.26907062e-01  2.78260498e-04]]\n",
      "\n",
      "[[0.05448868 0.24420134 0.40261995 0.24420134 0.05448868]]\n",
      "\n",
      "[[-0.02575628  0.31772563  0.04102997]]\n"
     ]
    }
   ],
   "source": [
    "from scipy.ndimage import gaussian_filter1d\n",
    "import cv2\n",
    "\n",
    "kernel = np.array(cv2.getGaussianKernel(ksize=5,sigma=1))\n",
    "kernel = np.transpose(kernel)\n",
    "all_frames = [np.array(i)[:,2:] for i in action_data]\n",
    "\n",
    "mat_slice = np.array(all_frames[0][:5,:3])\n",
    "\n",
    "print(mat_slice)\n",
    "print()\n",
    "print(kernel)\n",
    "print()\n",
    "print(np.dot(kernel, mat_slice))\n"
   ]
  },
  {
   "cell_type": "code",
   "execution_count": null,
   "metadata": {},
   "outputs": [],
   "source": []
  },
  {
   "cell_type": "code",
   "execution_count": 1,
   "metadata": {},
   "outputs": [
    {
     "ename": "NameError",
     "evalue": "name 'action_data' is not defined",
     "output_type": "error",
     "traceback": [
      "\u001b[0;31m---------------------------------------------------------------------------\u001b[0m",
      "\u001b[0;31mNameError\u001b[0m                                 Traceback (most recent call last)",
      "\u001b[0;32m<ipython-input-1-877ebe857301>\u001b[0m in \u001b[0;36m<module>\u001b[0;34m\u001b[0m\n\u001b[1;32m      2\u001b[0m \u001b[0;34m\u001b[0m\u001b[0m\n\u001b[1;32m      3\u001b[0m \u001b[0;31m# get array of all frames without joint number or frame number\u001b[0m\u001b[0;34m\u001b[0m\u001b[0;34m\u001b[0m\u001b[0;34m\u001b[0m\u001b[0m\n\u001b[0;32m----> 4\u001b[0;31m \u001b[0mall_frames\u001b[0m \u001b[0;34m=\u001b[0m \u001b[0;34m[\u001b[0m\u001b[0mnp\u001b[0m\u001b[0;34m.\u001b[0m\u001b[0marray\u001b[0m\u001b[0;34m(\u001b[0m\u001b[0mi\u001b[0m\u001b[0;34m)\u001b[0m\u001b[0;34m[\u001b[0m\u001b[0;34m:\u001b[0m\u001b[0;34m,\u001b[0m\u001b[0;36m2\u001b[0m\u001b[0;34m:\u001b[0m\u001b[0;34m]\u001b[0m \u001b[0;32mfor\u001b[0m \u001b[0mi\u001b[0m \u001b[0;32min\u001b[0m \u001b[0maction_data\u001b[0m\u001b[0;34m]\u001b[0m\u001b[0;34m\u001b[0m\u001b[0;34m\u001b[0m\u001b[0m\n\u001b[0m\u001b[1;32m      5\u001b[0m \u001b[0mmax_frame\u001b[0m \u001b[0;34m=\u001b[0m \u001b[0mlen\u001b[0m\u001b[0;34m(\u001b[0m\u001b[0mall_frames\u001b[0m\u001b[0;34m)\u001b[0m\u001b[0;34m\u001b[0m\u001b[0;34m\u001b[0m\u001b[0m\n\u001b[1;32m      6\u001b[0m \u001b[0;34m\u001b[0m\u001b[0m\n",
      "\u001b[0;31mNameError\u001b[0m: name 'action_data' is not defined"
     ]
    }
   ],
   "source": [
    "import matplotlib.animation\n",
    "\n",
    "# get array of all frames without joint number or frame number\n",
    "all_frames = [np.array(i)[:,2:] for i in action_data]\n",
    "max_frame = len(all_frames)\n",
    "\n",
    "\n",
    "def update_graph(frame_data):\n",
    "    xs, ys, zs = frame_data[:,0], frame_data[:,1], frame_data[:,2]\n",
    "    graph._offsets3d = (xs, ys, zs)\n",
    "#     p1 = [xs[2], ys[2], zs[2]]\n",
    "#     p2 = [xs[4], ys[4], zs[4]]\n",
    "#     temp = plt.plot(p1, p2)\n",
    "    return graph\n",
    "\n",
    "\n",
    "fig = plt.figure()\n",
    "#fig.set_size_inches(9.5, 9.5)\n",
    "ax = fig.add_subplot(111, projection='3d')\n",
    "ax.view_init(-75,  90)\n",
    "points = all_frames[0]\n",
    "graph = ax.scatter(points[:,0], points[:,1], points[:,2], color=colors)\n",
    "\n",
    "#xs, ys, zs = all_frames[0][:,0], all_frames[0][:,1], all_frames[0][:,2] ; print(xs)\n",
    "\n",
    "ani = matplotlib.animation.FuncAnimation(fig, update_graph, all_frames, interval=90)"
   ]
  },
  {
   "cell_type": "code",
   "execution_count": null,
   "metadata": {},
   "outputs": [],
   "source": []
  }
 ],
 "metadata": {
  "kernelspec": {
   "display_name": "Python 3",
   "language": "python",
   "name": "python3"
  },
  "language_info": {
   "codemirror_mode": {
    "name": "ipython",
    "version": 3
   },
   "file_extension": ".py",
   "mimetype": "text/x-python",
   "name": "python",
   "nbconvert_exporter": "python",
   "pygments_lexer": "ipython3",
   "version": "3.8.3"
  }
 },
 "nbformat": 4,
 "nbformat_minor": 4
}
