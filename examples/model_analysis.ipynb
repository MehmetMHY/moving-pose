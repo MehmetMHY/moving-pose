{
 "cells": [
  {
   "cell_type": "markdown",
   "source": [
    "### Run ACTION_RECOGNITION.ipynb before running model_analysis.ipynb #####"
   ],
   "metadata": {
    "collapsed": false
   }
  },
  {
   "cell_type": "code",
   "execution_count": null,
   "outputs": [],
   "source": [
    "from sklearn import metrics\n",
    "import os\n",
    "import pickle"
   ],
   "metadata": {
    "collapsed": false,
    "pycharm": {
     "name": "#%%\n"
    }
   }
  },
  {
   "cell_type": "markdown",
   "source": [
    "### Tuning parameters"
   ],
   "metadata": {
    "collapsed": false,
    "pycharm": {
     "name": "#%% md\n"
    }
   }
  },
  {
   "cell_type": "code",
   "execution_count": null,
   "outputs": [],
   "source": [],
   "metadata": {
    "collapsed": false,
    "pycharm": {
     "name": "#%%\n"
    }
   }
  },
  {
   "cell_type": "markdown",
   "source": [
    "### Load model data and generate metrics"
   ],
   "metadata": {
    "collapsed": false,
    "pycharm": {
     "name": "#%% md\n"
    }
   }
  },
  {
   "cell_type": "code",
   "execution_count": null,
   "metadata": {
    "collapsed": true
   },
   "outputs": [],
   "source": [
    "cur_uuid = str(input(\"cur_uuid:\"))\n",
    "dir_path = f\"../pickle/{cur_uuid}\"\n",
    "\n",
    "if not (cur_uuid != \"\" and os.path.isdir(dir_path)):\n",
    "    print(\"ERROR :: UUID not found\")\n",
    "    print(\"Please enter the correct UUID or run action_recognition.ipynb and pass in the associated UUID\")\n",
    "    exit(1)\n",
    "\n",
    "print(\"Loading data...\")\n",
    "\n",
    "with open(dir_path + \"/train_test_splits.p\", 'rb') as fp:\n",
    "    training_data = pickle.load(fp)\n",
    "\n",
    "X_train, X_test = training_data[\"X_train\"], training_data[\"X_test\"]\n",
    "y_train, y_test = training_data[\"y_train\"], training_data[\"y_test\"]\n",
    "\n",
    "all_predictions_fns = [file_name for file_name in os.listdir(dir_path) if file_name.startswith(\"prediction\")]\n",
    "\n",
    "# results_dict[str(action_classifier)] = {\n",
    "#   \"y_pred\": y_pred,\n",
    "#   \"action_classifier_params\": action_classifier_params,\n",
    "#   \"confusion_matrix\": confusion_matrix,\n",
    "#   \"precision\": precision,\n",
    "#   \"recall\": recall,\n",
    "#   \"fscore\": fscore,\n",
    "#   \"support\": support\n",
    "#   \"accuracy\": accuracy\n",
    "# }\n",
    "predictions_dict = {}\n",
    "\n",
    "for prediction_fn in all_predictions_fns:\n",
    "    with open(f\"{dir_path}/{prediction_fn}.p\", 'rb') as fp:\n",
    "        prediction_info = pickle.load(fp)\n",
    "\n",
    "        action_classifier_name = prediction_info[\"action_classifier_name\"]\n",
    "        y_pred = prediction_info[\"y_pred\"]\n",
    "        action_classifier_params = prediction_info[\"action_classifier_params\"]\n",
    "\n",
    "        confusion_matrix = metrics.confusion_matrix(y_test, y_pred)\n",
    "        precision, recall, fscore, support = metrics.precision_recall_fscore_support(y_test, y_pred)\n",
    "        accuracy = metrics.accuracy_score(y_test, y_pred)\n",
    "\n",
    "        predictions_dict[action_classifier_name] = {\n",
    "            \"y_pred\": y_pred,\n",
    "            \"action_classifier_params\": action_classifier_params,\n",
    "            \"confusion_matrix\": confusion_matrix,\n",
    "            \"precision\": precision,\n",
    "            \"recall\": recall,\n",
    "            \"fscore\": fscore,\n",
    "            \"support\": support,\n",
    "            \"accuracy\": accuracy\n",
    "        }"
   ]
  },
  {
   "cell_type": "markdown",
   "source": [
    "#### Perform Analysis and decide on best model"
   ],
   "metadata": {
    "collapsed": false,
    "pycharm": {
     "name": "#%% md\n"
    }
   }
  },
  {
   "cell_type": "code",
   "execution_count": null,
   "outputs": [],
   "source": [
    "\n"
   ],
   "metadata": {
    "collapsed": false,
    "pycharm": {
     "name": "#%%\n"
    }
   }
  }
 ],
 "metadata": {
  "kernelspec": {
   "display_name": "Python 3",
   "language": "python",
   "name": "python3"
  },
  "language_info": {
   "codemirror_mode": {
    "name": "ipython",
    "version": 2
   },
   "file_extension": ".py",
   "mimetype": "text/x-python",
   "name": "python",
   "nbconvert_exporter": "python",
   "pygments_lexer": "ipython2",
   "version": "2.7.6"
  }
 },
 "nbformat": 4,
 "nbformat_minor": 0
}