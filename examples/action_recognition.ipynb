{
 "cells": [
  {
   "cell_type": "code",
   "execution_count": 11,
   "metadata": {},
   "outputs": [],
   "source": [
    "import sys\n",
    "sys.path.append(\"..\")\n",
    "from sklearn.model_selection import train_test_split\n",
    "import numpy as np\n",
    "\n",
    "from movingpose.estimator import neighbors\n",
    "from movingpose.estimator import classifiers\n",
    "\n",
    "from movingpose.preprocessing import moving_pose\n",
    "from movingpose.preprocessing import kinect_skeleton_data"
   ]
  },
  {
   "cell_type": "markdown",
   "metadata": {},
   "source": [
    "## Pickle multiview action data"
   ]
  },
  {
   "cell_type": "code",
   "execution_count": 12,
   "metadata": {
    "pycharm": {
     "name": "#%%\n"
    }
   },
   "outputs": [
    {
     "name": "stdout",
     "output_type": "stream",
     "text": [
      "Pickling skeleton data...\n",
      "Saving data...\n",
      "Saved data to file: ../pickle/multiview.p\n",
      "Program took 15.604558944702148 to run!\n"
     ]
    }
   ],
   "source": [
    "kinect_skeleton_data.pickle_dir(\"../pickle/multiview.p\", \"../ext/dataset/multiview_action/\")"
   ]
  },
  {
   "cell_type": "markdown",
   "metadata": {},
   "source": [
    "## Load pickled multiview action data"
   ]
  },
  {
   "cell_type": "code",
   "execution_count": 13,
   "metadata": {
    "pycharm": {
     "name": "#%%\n"
    }
   },
   "outputs": [],
   "source": [
    "raw_data_dict = kinect_skeleton_data.load_pickle(\"../pickle/multiview.p\")"
   ]
  },
  {
   "cell_type": "markdown",
   "metadata": {},
   "source": [
    "## Format multiview action data"
   ]
  },
  {
   "cell_type": "code",
   "execution_count": 14,
   "metadata": {
    "pycharm": {
     "name": "#%%\n"
    }
   },
   "outputs": [
    {
     "name": "stderr",
     "output_type": "stream",
     "text": [
      "/home/mobley/Documents/mines/machine-learning/CSCI470-Final/movingpose/preprocessing/moving_pose.py:103: VisibleDeprecationWarning: Creating an ndarray from ragged nested sequences (which is a list-or-tuple of lists-or-tuples-or ndarrays with different lengths or shapes) is deprecated. If you meant to do this, you must specify 'dtype=object' when creating the ndarray\n",
      "  return np.array(X), labels\n"
     ]
    }
   ],
   "source": [
    "X, labels = moving_pose.format_skeleton_data_dict(raw_data_dict)"
   ]
  },
  {
   "cell_type": "markdown",
   "metadata": {},
   "source": [
    "## Perform basic verification that skeleton data is formatted correctly"
   ]
  },
  {
   "cell_type": "code",
   "execution_count": 15,
   "metadata": {
    "pycharm": {
     "name": "#%%\n"
    }
   },
   "outputs": [
    {
     "ename": "AssertionError",
     "evalue": "2.0 =/= 0",
     "output_type": "error",
     "traceback": [
      "\u001B[0;31m---------------------------------------------------------------------------\u001B[0m",
      "\u001B[0;31mAssertionError\u001B[0m                            Traceback (most recent call last)",
      "\u001B[0;32m<ipython-input-15-caaa1f44875a>\u001B[0m in \u001B[0;36m<module>\u001B[0;34m\u001B[0m\n\u001B[1;32m      4\u001B[0m             \u001B[0;32massert\u001B[0m \u001B[0mlist\u001B[0m\u001B[0;34m(\u001B[0m\u001B[0maction_data\u001B[0m\u001B[0;34m[\u001B[0m\u001B[0mi\u001B[0m\u001B[0;34m]\u001B[0m\u001B[0;34m[\u001B[0m\u001B[0;34m:\u001B[0m\u001B[0;34m-\u001B[0m\u001B[0;36m1\u001B[0m\u001B[0;34m]\u001B[0m\u001B[0;34m)\u001B[0m \u001B[0;34m==\u001B[0m \u001B[0;34m[\u001B[0m\u001B[0;36m0\u001B[0m\u001B[0;34m,\u001B[0m \u001B[0;36m0\u001B[0m\u001B[0;34m,\u001B[0m \u001B[0;36m0\u001B[0m\u001B[0;34m,\u001B[0m \u001B[0;36m0\u001B[0m\u001B[0;34m,\u001B[0m \u001B[0;36m0\u001B[0m\u001B[0;34m,\u001B[0m \u001B[0;36m0\u001B[0m\u001B[0;34m,\u001B[0m \u001B[0;36m0\u001B[0m\u001B[0;34m,\u001B[0m \u001B[0;36m0\u001B[0m\u001B[0;34m,\u001B[0m \u001B[0;36m0\u001B[0m\u001B[0;34m]\u001B[0m\u001B[0;34m\u001B[0m\u001B[0;34m\u001B[0m\u001B[0m\n\u001B[1;32m      5\u001B[0m         \u001B[0;32massert\u001B[0m \u001B[0maction_data\u001B[0m\u001B[0;34m[\u001B[0m\u001B[0mi\u001B[0m\u001B[0;34m]\u001B[0m\u001B[0;34m.\u001B[0m\u001B[0mshape\u001B[0m \u001B[0;34m==\u001B[0m \u001B[0;34m(\u001B[0m\u001B[0;36m10\u001B[0m\u001B[0;34m,\u001B[0m \u001B[0;34m)\u001B[0m\u001B[0;34m,\u001B[0m \u001B[0;34mf\"{action_data[i].shape} =/= (10, )\"\u001B[0m\u001B[0;34m\u001B[0m\u001B[0;34m\u001B[0m\u001B[0m\n\u001B[0;32m----> 6\u001B[0;31m         \u001B[0;32massert\u001B[0m \u001B[0maction_data\u001B[0m\u001B[0;34m[\u001B[0m\u001B[0mi\u001B[0m\u001B[0;34m]\u001B[0m\u001B[0;34m[\u001B[0m\u001B[0;34m-\u001B[0m\u001B[0;36m1\u001B[0m\u001B[0;34m]\u001B[0m \u001B[0;34m==\u001B[0m \u001B[0mi\u001B[0m\u001B[0;34m//\u001B[0m\u001B[0;36m20\u001B[0m\u001B[0;34m,\u001B[0m \u001B[0;34mf\"{action_data[i][-1]} =/= {i//20}\"\u001B[0m\u001B[0;34m\u001B[0m\u001B[0;34m\u001B[0m\u001B[0m\n\u001B[0m\u001B[1;32m      7\u001B[0m \u001B[0;34m\u001B[0m\u001B[0m\n",
      "\u001B[0;31mAssertionError\u001B[0m: 2.0 =/= 0"
     ]
    }
   ],
   "source": [
    "for action_data in X:\n",
    "    for i in range(len(action_data)):\n",
    "        if i%20 == 0:\n",
    "            assert list(action_data[i][:-1]) == [0, 0, 0, 0, 0, 0, 0, 0, 0]\n",
    "        assert action_data[i].shape == (10, ), f\"{action_data[i].shape} =/= (10, )\"\n",
    "        assert action_data[i][-1] == i//20, f\"{action_data[i][-1]} =/= {i//20}\""
   ]
  },
  {
   "cell_type": "markdown",
   "source": [
    "## Create train/test split"
   ],
   "metadata": {
    "collapsed": false
   }
  },
  {
   "cell_type": "code",
   "execution_count": null,
   "metadata": {
    "pycharm": {
     "name": "#%%\n"
    }
   },
   "outputs": [],
   "source": [
    "X_train, X_test, y_train, y_test = train_test_split(X, labels, random_state=42)"
   ]
  },
  {
   "cell_type": "markdown",
   "metadata": {},
   "source": [
    "## Train Action Classifier with normalized training data"
   ]
  },
  {
   "cell_type": "code",
   "execution_count": null,
   "metadata": {
    "pycharm": {
     "name": "#%%\n"
    },
    "scrolled": true
   },
   "outputs": [],
   "source": [
    "best_score = sys.maxsize\n",
    "best_action_classifier = None\n",
    "for n_neighbors in range(5, 15, 5):\n",
    "    for n_training_neighbors in range(10, 40, 10):\n",
    "        for alpha in np.arange(0.2, 0.8, 0.1):\n",
    "            for beta in np.arange(0.1, 0.5, 0.1):\n",
    "                for kappa in range(3, 10, 1):\n",
    "                    nearest_pose_estimator = neighbors.NearestPoses(\n",
    "                        n_neighbors=n_neighbors,\n",
    "                        n_training_neighbors=n_training_neighbors,\n",
    "                        alpha=alpha,\n",
    "                        beta=beta,\n",
    "                        kappa=kappa\n",
    "                    )\n",
    "                    for theta in np.arange(0.2, 0.8, 0.05):\n",
    "                        for n in range(5, 15, 1):\n",
    "                            action_classifier = classifiers.ActionClassifier(\n",
    "                                nearest_pose_estimator=nearest_pose_estimator,\n",
    "                                theta=theta,\n",
    "                                n=n\n",
    "                            )\n",
    "                            action_classifier.fit(X_train, y_train)\n",
    "                            y_pred = action_classifier.predict(X_test)\n",
    "\n",
    "                            diff = 0\n",
    "                            for pred, actual in zip(y_pred, y_test):\n",
    "                                diff += abs(pred - actual)\n",
    "\n",
    "                            if diff < best_score:\n",
    "                                best_score = diff\n",
    "                                best_action_classifier = action_classifier"
   ]
  },
  {
   "cell_type": "markdown",
   "metadata": {},
   "source": [
    "## Print best action classifier and its score"
   ]
  },
  {
   "cell_type": "code",
   "execution_count": null,
   "metadata": {
    "pycharm": {
     "name": "#%%\n"
    }
   },
   "outputs": [],
   "source": [
    "print(f\"The best action classifier was {best_action_classifier}\")\n",
    "print(\"\\n--------------\\n\")\n",
    "print(f\"Its score was: {best_score}\")"
   ]
  },
  {
   "cell_type": "markdown",
   "metadata": {},
   "source": [
    "## Save the best action classifier"
   ]
  },
  {
   "cell_type": "code",
   "execution_count": null,
   "metadata": {
    "pycharm": {
     "name": "#%%\n"
    }
   },
   "outputs": [],
   "source": [
    "best_action_classifier.save_pickle(\"../pickle/best_action_classifier.p\")"
   ]
  },
  {
   "cell_type": "markdown",
   "metadata": {},
   "source": [
    "## Load best action classifier"
   ]
  },
  {
   "cell_type": "code",
   "execution_count": null,
   "metadata": {
    "pycharm": {
     "name": "#%%\n"
    }
   },
   "outputs": [],
   "source": [
    "action_classifier = classifiers.load_pickle(\"../pickle/best_action_classifier.p\")"
   ]
  },
  {
   "cell_type": "markdown",
   "metadata": {},
   "source": [
    "## Predict live data"
   ]
  },
  {
   "cell_type": "code",
   "execution_count": null,
   "metadata": {
    "pycharm": {
     "name": "#%%\n"
    }
   },
   "outputs": [],
   "source": [
    "#TODO add live predictions when mehmet publishes the UI code"
   ]
  },
  {
   "cell_type": "markdown",
   "metadata": {},
   "source": [
    "# DAB"
   ]
  },
  {
   "cell_type": "code",
   "execution_count": null,
   "metadata": {
    "pycharm": {
     "name": "#%%\n"
    }
   },
   "outputs": [],
   "source": [
    "print(\"dab\")\n"
   ]
  }
 ],
 "metadata": {
  "kernelspec": {
   "display_name": "Python 3",
   "language": "python",
   "name": "python3"
  },
  "language_info": {
   "codemirror_mode": {
    "name": "ipython",
    "version": 3
   },
   "file_extension": ".py",
   "mimetype": "text/x-python",
   "name": "python",
   "nbconvert_exporter": "python",
   "pygments_lexer": "ipython3",
   "version": "3.8.6"
  }
 },
 "nbformat": 4,
 "nbformat_minor": 1
}