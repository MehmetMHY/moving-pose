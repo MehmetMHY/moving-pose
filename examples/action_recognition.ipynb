{
 "cells": [
  {
   "cell_type": "code",
   "execution_count": 1,
   "metadata": {},
   "outputs": [],
   "source": [
    "import multiprocessing\n",
    "import os\n",
    "import sys\n",
    "import time\n",
    "sys.path.append(\"..\")\n",
    "from sklearn.model_selection import train_test_split\n",
    "\n",
    "from movingpose.estimator import neighbors\n",
    "from movingpose.estimator import classifiers\n",
    "\n",
    "from movingpose.preprocessing import moving_pose\n",
    "from movingpose.preprocessing import kinect_skeleton_data"
   ]
  },
  {
   "cell_type": "markdown",
   "metadata": {},
   "source": [
    "## Pickle multiview action data"
   ]
  },
  {
   "cell_type": "code",
   "execution_count": 2,
   "metadata": {
    "pycharm": {
     "name": "#%%\n"
    }
   },
   "outputs": [
    {
     "name": "stdout",
     "output_type": "stream",
     "text": [
      "Pickling skeleton data...\n",
      "Saving data...\n",
      "Saved data to file: ../pickle/multiview.p\n",
      "Program took 17.773548126220703 to run!\n"
     ]
    }
   ],
   "source": [
    "kinect_skeleton_data.pickle_dir(\"../pickle/multiview.p\", \"../ext/dataset/multiview_action/\")"
   ]
  },
  {
   "cell_type": "markdown",
   "metadata": {},
   "source": [
    "## Load pickled multiview action data"
   ]
  },
  {
   "cell_type": "code",
   "execution_count": 3,
   "metadata": {
    "pycharm": {
     "name": "#%%\n"
    }
   },
   "outputs": [],
   "source": [
    "raw_data_dict = kinect_skeleton_data.load_pickle(\"../pickle/multiview.p\")"
   ]
  },
  {
   "cell_type": "markdown",
   "metadata": {},
   "source": [
    "## Format multiview action data"
   ]
  },
  {
   "cell_type": "code",
   "execution_count": 4,
   "metadata": {
    "pycharm": {
     "name": "#%%\n"
    }
   },
   "outputs": [],
   "source": [
    "X, labels = moving_pose.format_skeleton_data_dict(raw_data_dict)"
   ]
  },
  {
   "cell_type": "markdown",
   "metadata": {},
   "source": [
    "## Perform basic verification that skeleton data is formatted correctly"
   ]
  },
  {
   "cell_type": "code",
   "execution_count": 5,
   "metadata": {
    "pycharm": {
     "name": "#%%\n"
    }
   },
   "outputs": [],
   "source": [
    "for action in X:\n",
    "    for frame_num, pose in enumerate(action):\n",
    "        assert pose.shape == (20, 10), f\"{pose.shape} =/= (20, 10)\"\n",
    "        for i, descriptor in enumerate(pose):\n",
    "            if i == 0:\n",
    "                assert list(descriptor)[:-1] == [0, 0, 0, 0, 0, 0, 0, 0, 0]\n",
    "            assert descriptor[-1] == frame_num, f\"{descriptor[-1]} =/= {frame_num}\""
   ]
  },
  {
   "cell_type": "markdown",
   "metadata": {},
   "source": [
    "## Create train/test split"
   ]
  },
  {
   "cell_type": "code",
   "execution_count": 6,
   "metadata": {
    "pycharm": {
     "name": "#%%\n"
    }
   },
   "outputs": [],
   "source": [
    "X_train, X_test, y_train, y_test = train_test_split(X, labels, random_state=42)"
   ]
  },
  {
   "cell_type": "markdown",
   "metadata": {
    "pycharm": {
     "name": "#%% md\n"
    }
   },
   "source": [
    "## Pickle Action Classifiers"
   ]
  },
  {
   "cell_type": "code",
   "execution_count": 7,
   "metadata": {
    "pycharm": {
     "name": "#%%\n"
    }
   },
   "outputs": [],
   "source": [
    "def pickle_action_classifiers(n_training_neighbors, cache_path):\n",
    "    nearest_pose_estimator = neighbors.NearestPoses(\n",
    "        n_neighbors=20,\n",
    "        n_training_neighbors=n_training_neighbors,\n",
    "        alpha=0.75,\n",
    "        beta=0.6,\n",
    "        kappa=80\n",
    "    )\n",
    "    action_classifier = classifiers.ActionClassifier(\n",
    "        nearest_pose_estimator=nearest_pose_estimator,\n",
    "        theta=0.5,\n",
    "        n=80\n",
    "    )\n",
    "    action_classifier.fit(\n",
    "        X_train,\n",
    "        y_train,\n",
    "        cache_path=cache_path,\n",
    "        verbose=True\n",
    "    )\n",
    "\n",
    "cache_workers = []\n",
    "for n_training_neighbors in [2000, 5000, 10000, 20000, 30000, 40000]:\n",
    "    cache_path = f\"../pickle/action_classifier_training-{str(n_training_neighbors)}.p\"\n",
    "    if not os.path.exists(cache_path):\n",
    "        worker = multiprocessing.Process(\n",
    "            target=\n",
    "                pickle_action_classifiers,\n",
    "            args=(\n",
    "                n_training_neighbors,\n",
    "                cache_path\n",
    "            )\n",
    "        )\n",
    "        cache_workers.append(worker)\n",
    "\n",
    "for cache_worker in cache_workers:\n",
    "    cache_worker.start()\n",
    "    \n",
    "for cache_worker in cache_workers:\n",
    "    cache_worker.join()"
   ]
  },
  {
   "cell_type": "markdown",
   "metadata": {},
   "source": [
    "## Train Action Classifier with normalized training data"
   ]
  },
  {
   "cell_type": "code",
   "execution_count": 8,
   "metadata": {
    "pycharm": {
     "name": "#%%\n"
    }
   },
   "outputs": [
    {
     "name": "stdout",
     "output_type": "stream",
     "text": [
      "Training 0.0% complete\n",
      "Training -0.2% complete\n",
      "Training -0.5% complete\n",
      "Training -0.7000000000000001% complete\n",
      "Training -0.8999999999999999% complete\n",
      "Training -1.2% complete\n",
      "Training -1.4000000000000001% complete\n",
      "Training -1.6% complete\n",
      "Training -1.9% complete\n",
      "Training -2.1% complete\n",
      "Training -2.3% complete\n",
      "Training -2.5% complete\n",
      "Training -2.8000000000000003% complete\n",
      "Training -3.0% complete\n",
      "Training -3.2% complete\n",
      "Training -3.5000000000000004% complete\n",
      "Training -3.6999999999999997% complete\n",
      "Training -3.9% complete\n",
      "Training -4.2% complete\n",
      "Training -4.3999999999999995% complete\n",
      "Training 4.6% complete\n"
     ]
    },
    {
     "name": "stderr",
     "output_type": "stream",
     "text": [
      "Process Process-11:\n",
      "Traceback (most recent call last):\n",
      "  File \"/usr/lib/python3.8/multiprocessing/process.py\", line 315, in _bootstrap\n",
      "    self.run()\n",
      "  File \"/usr/lib/python3.8/multiprocessing/process.py\", line 108, in run\n",
      "    self._target(*self._args, **self._kwargs)\n",
      "  File \"<ipython-input-8-da8517d8986f>\", line 19, in score\n",
      "    result = action_classifier.predict_all(X_test)\n",
      "  File \"/home/mobley/Documents/repos/CSCI470-Final/movingpose/estimator/classifiers.py\", line 123, in predict_all\n",
      "    result.append(self.predict(Xs[i], poses_are_normalized, verbose=verbose))\n",
      "  File \"/home/mobley/Documents/repos/CSCI470-Final/movingpose/estimator/classifiers.py\", line 95, in predict\n",
      "    for nearby_pose, score in self.nearest_pose_estimator.k_poses(pose, verbose=verbose):\n",
      "  File \"/home/mobley/Documents/repos/CSCI470-Final/movingpose/estimator/neighbors.py\", line 206, in k_poses\n",
      "    traditional_knn = KNeighborsClassifier(\n",
      "  File \"/home/mobley/Documents/repos/CSCI470-Final/venv/lib/python3.8/site-packages/sklearn/neighbors/_base.py\", line 1131, in fit\n",
      "    X, y = self._validate_data(X, y, accept_sparse=\"csr\",\n",
      "  File \"/home/mobley/Documents/repos/CSCI470-Final/venv/lib/python3.8/site-packages/sklearn/base.py\", line 432, in _validate_data\n",
      "    X, y = check_X_y(X, y, **check_params)\n",
      "  File \"/home/mobley/Documents/repos/CSCI470-Final/venv/lib/python3.8/site-packages/sklearn/utils/validation.py\", line 72, in inner_f\n",
      "    return f(**kwargs)\n",
      "  File \"/home/mobley/Documents/repos/CSCI470-Final/venv/lib/python3.8/site-packages/sklearn/utils/validation.py\", line 795, in check_X_y\n",
      "    X = check_array(X, accept_sparse=accept_sparse,\n",
      "  File \"/home/mobley/Documents/repos/CSCI470-Final/venv/lib/python3.8/site-packages/sklearn/utils/validation.py\", line 72, in inner_f\n",
      "    return f(**kwargs)\n",
      "  File \"/home/mobley/Documents/repos/CSCI470-Final/venv/lib/python3.8/site-packages/sklearn/utils/validation.py\", line 619, in check_array\n",
      "    raise ValueError(\n",
      "ValueError: Expected 2D array, got 1D array instead:\n",
      "array=[].\n",
      "Reshape your data either using array.reshape(-1, 1) if your data has a single feature or array.reshape(1, -1) if it contains a single sample.\n",
      "Process Process-12:\n",
      "Traceback (most recent call last):\n",
      "  File \"/usr/lib/python3.8/multiprocessing/process.py\", line 315, in _bootstrap\n",
      "    self.run()\n",
      "  File \"/usr/lib/python3.8/multiprocessing/process.py\", line 108, in run\n",
      "    self._target(*self._args, **self._kwargs)\n",
      "  File \"<ipython-input-8-da8517d8986f>\", line 19, in score\n",
      "    result = action_classifier.predict_all(X_test)\n",
      "  File \"/home/mobley/Documents/repos/CSCI470-Final/movingpose/estimator/classifiers.py\", line 123, in predict_all\n",
      "    result.append(self.predict(Xs[i], poses_are_normalized, verbose=verbose))\n",
      "  File \"/home/mobley/Documents/repos/CSCI470-Final/movingpose/estimator/classifiers.py\", line 95, in predict\n",
      "    for nearby_pose, score in self.nearest_pose_estimator.k_poses(pose, verbose=verbose):\n",
      "  File \"/home/mobley/Documents/repos/CSCI470-Final/movingpose/estimator/neighbors.py\", line 206, in k_poses\n",
      "    traditional_knn = KNeighborsClassifier(\n",
      "  File \"/home/mobley/Documents/repos/CSCI470-Final/venv/lib/python3.8/site-packages/sklearn/neighbors/_base.py\", line 1131, in fit\n",
      "    X, y = self._validate_data(X, y, accept_sparse=\"csr\",\n",
      "  File \"/home/mobley/Documents/repos/CSCI470-Final/venv/lib/python3.8/site-packages/sklearn/base.py\", line 432, in _validate_data\n",
      "    X, y = check_X_y(X, y, **check_params)\n",
      "  File \"/home/mobley/Documents/repos/CSCI470-Final/venv/lib/python3.8/site-packages/sklearn/utils/validation.py\", line 72, in inner_f\n",
      "    return f(**kwargs)\n",
      "  File \"/home/mobley/Documents/repos/CSCI470-Final/venv/lib/python3.8/site-packages/sklearn/utils/validation.py\", line 795, in check_X_y\n",
      "    X = check_array(X, accept_sparse=accept_sparse,\n",
      "  File \"/home/mobley/Documents/repos/CSCI470-Final/venv/lib/python3.8/site-packages/sklearn/utils/validation.py\", line 72, in inner_f\n",
      "    return f(**kwargs)\n",
      "  File \"/home/mobley/Documents/repos/CSCI470-Final/venv/lib/python3.8/site-packages/sklearn/utils/validation.py\", line 619, in check_array\n",
      "    raise ValueError(\n",
      "ValueError: Expected 2D array, got 1D array instead:\n",
      "array=[].\n",
      "Reshape your data either using array.reshape(-1, 1) if your data has a single feature or array.reshape(1, -1) if it contains a single sample.\n",
      "Process Process-13:\n",
      "Traceback (most recent call last):\n",
      "  File \"/usr/lib/python3.8/multiprocessing/process.py\", line 315, in _bootstrap\n",
      "    self.run()\n",
      "  File \"/usr/lib/python3.8/multiprocessing/process.py\", line 108, in run\n",
      "    self._target(*self._args, **self._kwargs)\n",
      "  File \"<ipython-input-8-da8517d8986f>\", line 19, in score\n",
      "    result = action_classifier.predict_all(X_test)\n",
      "  File \"/home/mobley/Documents/repos/CSCI470-Final/movingpose/estimator/classifiers.py\", line 123, in predict_all\n",
      "    result.append(self.predict(Xs[i], poses_are_normalized, verbose=verbose))\n",
      "  File \"/home/mobley/Documents/repos/CSCI470-Final/movingpose/estimator/classifiers.py\", line 95, in predict\n",
      "    for nearby_pose, score in self.nearest_pose_estimator.k_poses(pose, verbose=verbose):\n",
      "  File \"/home/mobley/Documents/repos/CSCI470-Final/movingpose/estimator/neighbors.py\", line 206, in k_poses\n",
      "    traditional_knn = KNeighborsClassifier(\n",
      "  File \"/home/mobley/Documents/repos/CSCI470-Final/venv/lib/python3.8/site-packages/sklearn/neighbors/_base.py\", line 1131, in fit\n",
      "    X, y = self._validate_data(X, y, accept_sparse=\"csr\",\n",
      "  File \"/home/mobley/Documents/repos/CSCI470-Final/venv/lib/python3.8/site-packages/sklearn/base.py\", line 432, in _validate_data\n",
      "    X, y = check_X_y(X, y, **check_params)\n",
      "  File \"/home/mobley/Documents/repos/CSCI470-Final/venv/lib/python3.8/site-packages/sklearn/utils/validation.py\", line 72, in inner_f\n",
      "    return f(**kwargs)\n",
      "  File \"/home/mobley/Documents/repos/CSCI470-Final/venv/lib/python3.8/site-packages/sklearn/utils/validation.py\", line 795, in check_X_y\n",
      "    X = check_array(X, accept_sparse=accept_sparse,\n",
      "  File \"/home/mobley/Documents/repos/CSCI470-Final/venv/lib/python3.8/site-packages/sklearn/utils/validation.py\", line 72, in inner_f\n",
      "    return f(**kwargs)\n",
      "  File \"/home/mobley/Documents/repos/CSCI470-Final/venv/lib/python3.8/site-packages/sklearn/utils/validation.py\", line 619, in check_array\n",
      "    raise ValueError(\n",
      "ValueError: Expected 2D array, got 1D array instead:\n",
      "array=[].\n",
      "Reshape your data either using array.reshape(-1, 1) if your data has a single feature or array.reshape(1, -1) if it contains a single sample.\n",
      "Process Process-23:\n",
      "Process Process-29:\n",
      "Traceback (most recent call last):\n",
      "Traceback (most recent call last):\n",
      "  File \"/usr/lib/python3.8/multiprocessing/process.py\", line 315, in _bootstrap\n",
      "    self.run()\n",
      "  File \"/usr/lib/python3.8/multiprocessing/process.py\", line 315, in _bootstrap\n",
      "    self.run()\n",
      "  File \"/usr/lib/python3.8/multiprocessing/process.py\", line 108, in run\n",
      "    self._target(*self._args, **self._kwargs)\n",
      "  File \"/usr/lib/python3.8/multiprocessing/process.py\", line 108, in run\n",
      "    self._target(*self._args, **self._kwargs)\n",
      "  File \"<ipython-input-8-da8517d8986f>\", line 19, in score\n",
      "    result = action_classifier.predict_all(X_test)\n",
      "  File \"<ipython-input-8-da8517d8986f>\", line 19, in score\n",
      "    result = action_classifier.predict_all(X_test)\n",
      "  File \"/home/mobley/Documents/repos/CSCI470-Final/movingpose/estimator/classifiers.py\", line 123, in predict_all\n",
      "    result.append(self.predict(Xs[i], poses_are_normalized, verbose=verbose))\n",
      "  File \"/home/mobley/Documents/repos/CSCI470-Final/movingpose/estimator/classifiers.py\", line 123, in predict_all\n",
      "    result.append(self.predict(Xs[i], poses_are_normalized, verbose=verbose))\n",
      "  File \"/home/mobley/Documents/repos/CSCI470-Final/movingpose/estimator/classifiers.py\", line 95, in predict\n",
      "    for nearby_pose, score in self.nearest_pose_estimator.k_poses(pose, verbose=verbose):\n",
      "  File \"/home/mobley/Documents/repos/CSCI470-Final/movingpose/estimator/classifiers.py\", line 95, in predict\n",
      "    for nearby_pose, score in self.nearest_pose_estimator.k_poses(pose, verbose=verbose):\n",
      "  File \"/home/mobley/Documents/repos/CSCI470-Final/movingpose/estimator/neighbors.py\", line 206, in k_poses\n",
      "    traditional_knn = KNeighborsClassifier(\n",
      "  File \"/home/mobley/Documents/repos/CSCI470-Final/movingpose/estimator/neighbors.py\", line 206, in k_poses\n",
      "    traditional_knn = KNeighborsClassifier(\n",
      "  File \"/home/mobley/Documents/repos/CSCI470-Final/venv/lib/python3.8/site-packages/sklearn/neighbors/_base.py\", line 1157, in fit\n",
      "    return self._fit(X)\n",
      "  File \"/home/mobley/Documents/repos/CSCI470-Final/venv/lib/python3.8/site-packages/sklearn/neighbors/_base.py\", line 1131, in fit\n",
      "    X, y = self._validate_data(X, y, accept_sparse=\"csr\",\n",
      "  File \"/home/mobley/Documents/repos/CSCI470-Final/venv/lib/python3.8/site-packages/sklearn/neighbors/_base.py\", line 456, in _fit\n",
      "    self._tree = KDTree(X, self.leaf_size,\n",
      "  File \"/home/mobley/Documents/repos/CSCI470-Final/venv/lib/python3.8/site-packages/sklearn/base.py\", line 432, in _validate_data\n",
      "    X, y = check_X_y(X, y, **check_params)\n",
      "KeyboardInterrupt\n",
      "  File \"/home/mobley/Documents/repos/CSCI470-Final/venv/lib/python3.8/site-packages/sklearn/utils/validation.py\", line 72, in inner_f\n",
      "    return f(**kwargs)\n",
      "  File \"/home/mobley/Documents/repos/CSCI470-Final/venv/lib/python3.8/site-packages/sklearn/utils/validation.py\", line 795, in check_X_y\n",
      "    X = check_array(X, accept_sparse=accept_sparse,\n",
      "  File \"/home/mobley/Documents/repos/CSCI470-Final/venv/lib/python3.8/site-packages/sklearn/utils/validation.py\", line 72, in inner_f\n",
      "    return f(**kwargs)\n",
      "  File \"/home/mobley/Documents/repos/CSCI470-Final/venv/lib/python3.8/site-packages/sklearn/utils/validation.py\", line 598, in check_array\n",
      "    array = np.asarray(array, order=order, dtype=dtype)\n",
      "  File \"/home/mobley/Documents/repos/CSCI470-Final/venv/lib/python3.8/site-packages/numpy/core/_asarray.py\", line 85, in asarray\n",
      "    return array(a, dtype, copy=False, order=order)\n",
      "KeyboardInterrupt\n",
      "Process Process-28:\n",
      "Traceback (most recent call last):\n",
      "  File \"/usr/lib/python3.8/multiprocessing/process.py\", line 315, in _bootstrap\n",
      "    self.run()\n",
      "  File \"/usr/lib/python3.8/multiprocessing/process.py\", line 108, in run\n",
      "    self._target(*self._args, **self._kwargs)\n",
      "  File \"<ipython-input-8-da8517d8986f>\", line 19, in score\n",
      "    result = action_classifier.predict_all(X_test)\n",
      "  File \"/home/mobley/Documents/repos/CSCI470-Final/movingpose/estimator/classifiers.py\", line 123, in predict_all\n",
      "    result.append(self.predict(Xs[i], poses_are_normalized, verbose=verbose))\n",
      "  File \"/home/mobley/Documents/repos/CSCI470-Final/movingpose/estimator/classifiers.py\", line 95, in predict\n",
      "    for nearby_pose, score in self.nearest_pose_estimator.k_poses(pose, verbose=verbose):\n",
      "  File \"/home/mobley/Documents/repos/CSCI470-Final/movingpose/estimator/neighbors.py\", line 206, in k_poses\n",
      "    traditional_knn = KNeighborsClassifier(\n",
      "  File \"/home/mobley/Documents/repos/CSCI470-Final/venv/lib/python3.8/site-packages/sklearn/neighbors/_base.py\", line 1131, in fit\n",
      "    X, y = self._validate_data(X, y, accept_sparse=\"csr\",\n",
      "  File \"/home/mobley/Documents/repos/CSCI470-Final/venv/lib/python3.8/site-packages/sklearn/base.py\", line 432, in _validate_data\n",
      "    X, y = check_X_y(X, y, **check_params)\n",
      "  File \"/home/mobley/Documents/repos/CSCI470-Final/venv/lib/python3.8/site-packages/sklearn/utils/validation.py\", line 72, in inner_f\n",
      "    return f(**kwargs)\n",
      "  File \"/home/mobley/Documents/repos/CSCI470-Final/venv/lib/python3.8/site-packages/sklearn/utils/validation.py\", line 795, in check_X_y\n",
      "    X = check_array(X, accept_sparse=accept_sparse,\n",
      "  File \"/home/mobley/Documents/repos/CSCI470-Final/venv/lib/python3.8/site-packages/sklearn/utils/validation.py\", line 72, in inner_f\n",
      "    return f(**kwargs)\n",
      "  File \"/home/mobley/Documents/repos/CSCI470-Final/venv/lib/python3.8/site-packages/sklearn/utils/validation.py\", line 598, in check_array\n",
      "    array = np.asarray(array, order=order, dtype=dtype)\n",
      "  File \"/home/mobley/Documents/repos/CSCI470-Final/venv/lib/python3.8/site-packages/numpy/core/_asarray.py\", line 85, in asarray\n",
      "    return array(a, dtype, copy=False, order=order)\n",
      "Process Process-25:\n",
      "KeyboardInterrupt\n",
      "Traceback (most recent call last):\n",
      "  File \"/usr/lib/python3.8/multiprocessing/process.py\", line 315, in _bootstrap\n",
      "    self.run()\n",
      "  File \"/usr/lib/python3.8/multiprocessing/process.py\", line 108, in run\n",
      "    self._target(*self._args, **self._kwargs)\n",
      "  File \"<ipython-input-8-da8517d8986f>\", line 19, in score\n",
      "    result = action_classifier.predict_all(X_test)\n",
      "  File \"/home/mobley/Documents/repos/CSCI470-Final/movingpose/estimator/classifiers.py\", line 123, in predict_all\n",
      "    result.append(self.predict(Xs[i], poses_are_normalized, verbose=verbose))\n",
      "  File \"/home/mobley/Documents/repos/CSCI470-Final/movingpose/estimator/classifiers.py\", line 95, in predict\n",
      "    for nearby_pose, score in self.nearest_pose_estimator.k_poses(pose, verbose=verbose):\n",
      "  File \"/home/mobley/Documents/repos/CSCI470-Final/movingpose/estimator/neighbors.py\", line 206, in k_poses\n",
      "    traditional_knn = KNeighborsClassifier(\n",
      "  File \"/home/mobley/Documents/repos/CSCI470-Final/venv/lib/python3.8/site-packages/sklearn/neighbors/_base.py\", line 1157, in fit\n",
      "    return self._fit(X)\n",
      "Process Process-32:\n",
      "Traceback (most recent call last):\n",
      "Process Process-42:\n",
      "  File \"/usr/lib/python3.8/multiprocessing/process.py\", line 315, in _bootstrap\n",
      "    self.run()\n",
      "Process Process-24:\n",
      "  File \"/home/mobley/Documents/repos/CSCI470-Final/venv/lib/python3.8/site-packages/sklearn/neighbors/_base.py\", line 456, in _fit\n",
      "    self._tree = KDTree(X, self.leaf_size,\n",
      "  File \"/usr/lib/python3.8/multiprocessing/process.py\", line 108, in run\n",
      "    self._target(*self._args, **self._kwargs)\n",
      "Traceback (most recent call last):\n",
      "  File \"<ipython-input-8-da8517d8986f>\", line 19, in score\n",
      "    result = action_classifier.predict_all(X_test)\n",
      "KeyboardInterrupt\n",
      "Traceback (most recent call last):\n",
      "  File \"/usr/lib/python3.8/multiprocessing/process.py\", line 315, in _bootstrap\n",
      "    self.run()\n",
      "  File \"/home/mobley/Documents/repos/CSCI470-Final/movingpose/estimator/classifiers.py\", line 123, in predict_all\n",
      "    result.append(self.predict(Xs[i], poses_are_normalized, verbose=verbose))\n",
      "  File \"/usr/lib/python3.8/multiprocessing/process.py\", line 108, in run\n",
      "    self._target(*self._args, **self._kwargs)\n",
      "  File \"/home/mobley/Documents/repos/CSCI470-Final/movingpose/estimator/classifiers.py\", line 95, in predict\n",
      "    for nearby_pose, score in self.nearest_pose_estimator.k_poses(pose, verbose=verbose):\n",
      "  File \"<ipython-input-8-da8517d8986f>\", line 19, in score\n",
      "    result = action_classifier.predict_all(X_test)\n",
      "  File \"/home/mobley/Documents/repos/CSCI470-Final/movingpose/estimator/neighbors.py\", line 206, in k_poses\n",
      "    traditional_knn = KNeighborsClassifier(\n",
      "  File \"/home/mobley/Documents/repos/CSCI470-Final/movingpose/estimator/classifiers.py\", line 123, in predict_all\n",
      "    result.append(self.predict(Xs[i], poses_are_normalized, verbose=verbose))\n",
      "  File \"/home/mobley/Documents/repos/CSCI470-Final/venv/lib/python3.8/site-packages/sklearn/neighbors/_base.py\", line 1157, in fit\n",
      "    return self._fit(X)\n",
      "  File \"/home/mobley/Documents/repos/CSCI470-Final/movingpose/estimator/classifiers.py\", line 95, in predict\n",
      "    for nearby_pose, score in self.nearest_pose_estimator.k_poses(pose, verbose=verbose):\n",
      "  File \"/usr/lib/python3.8/multiprocessing/process.py\", line 315, in _bootstrap\n",
      "    self.run()\n",
      "  File \"/home/mobley/Documents/repos/CSCI470-Final/venv/lib/python3.8/site-packages/sklearn/neighbors/_base.py\", line 456, in _fit\n",
      "    self._tree = KDTree(X, self.leaf_size,\n",
      "  File \"/home/mobley/Documents/repos/CSCI470-Final/movingpose/estimator/neighbors.py\", line 206, in k_poses\n",
      "    traditional_knn = KNeighborsClassifier(\n",
      "  File \"/usr/lib/python3.8/multiprocessing/process.py\", line 108, in run\n",
      "    self._target(*self._args, **self._kwargs)\n",
      "KeyboardInterrupt\n",
      "Process Process-37:\n",
      "  File \"<ipython-input-8-da8517d8986f>\", line 19, in score\n",
      "    result = action_classifier.predict_all(X_test)\n",
      "  File \"/home/mobley/Documents/repos/CSCI470-Final/venv/lib/python3.8/site-packages/sklearn/neighbors/_base.py\", line 1157, in fit\n",
      "    return self._fit(X)\n",
      "Traceback (most recent call last):\n",
      "  File \"/home/mobley/Documents/repos/CSCI470-Final/venv/lib/python3.8/site-packages/sklearn/neighbors/_base.py\", line 456, in _fit\n",
      "    self._tree = KDTree(X, self.leaf_size,\n",
      "  File \"/usr/lib/python3.8/multiprocessing/process.py\", line 315, in _bootstrap\n",
      "    self.run()\n",
      "KeyboardInterrupt\n",
      "  File \"/home/mobley/Documents/repos/CSCI470-Final/movingpose/estimator/classifiers.py\", line 123, in predict_all\n",
      "    result.append(self.predict(Xs[i], poses_are_normalized, verbose=verbose))\n",
      "  File \"/usr/lib/python3.8/multiprocessing/process.py\", line 108, in run\n",
      "    self._target(*self._args, **self._kwargs)\n",
      "  File \"/home/mobley/Documents/repos/CSCI470-Final/movingpose/estimator/classifiers.py\", line 95, in predict\n",
      "    for nearby_pose, score in self.nearest_pose_estimator.k_poses(pose, verbose=verbose):\n",
      "  File \"/home/mobley/Documents/repos/CSCI470-Final/movingpose/estimator/neighbors.py\", line 206, in k_poses\n",
      "    traditional_knn = KNeighborsClassifier(\n",
      "  File \"<ipython-input-8-da8517d8986f>\", line 19, in score\n",
      "    result = action_classifier.predict_all(X_test)\n",
      "  File \"/home/mobley/Documents/repos/CSCI470-Final/venv/lib/python3.8/site-packages/sklearn/neighbors/_base.py\", line 1157, in fit\n",
      "    return self._fit(X)\n",
      "  File \"/home/mobley/Documents/repos/CSCI470-Final/movingpose/estimator/classifiers.py\", line 123, in predict_all\n",
      "    result.append(self.predict(Xs[i], poses_are_normalized, verbose=verbose))\n",
      "  File \"/home/mobley/Documents/repos/CSCI470-Final/venv/lib/python3.8/site-packages/sklearn/neighbors/_base.py\", line 456, in _fit\n",
      "    self._tree = KDTree(X, self.leaf_size,\n",
      "  File \"/home/mobley/Documents/repos/CSCI470-Final/movingpose/estimator/classifiers.py\", line 95, in predict\n",
      "    for nearby_pose, score in self.nearest_pose_estimator.k_poses(pose, verbose=verbose):\n",
      "  File \"/home/mobley/Documents/repos/CSCI470-Final/movingpose/estimator/neighbors.py\", line 206, in k_poses\n",
      "    traditional_knn = KNeighborsClassifier(\n",
      "KeyboardInterrupt\n",
      "  File \"/home/mobley/Documents/repos/CSCI470-Final/venv/lib/python3.8/site-packages/sklearn/neighbors/_base.py\", line 1157, in fit\n",
      "    return self._fit(X)\n",
      "Process Process-30:\n",
      "  File \"/home/mobley/Documents/repos/CSCI470-Final/venv/lib/python3.8/site-packages/sklearn/neighbors/_base.py\", line 456, in _fit\n",
      "    self._tree = KDTree(X, self.leaf_size,\n",
      "KeyboardInterrupt\n",
      "Traceback (most recent call last):\n",
      "  File \"/usr/lib/python3.8/multiprocessing/process.py\", line 315, in _bootstrap\n",
      "    self.run()\n",
      "  File \"/usr/lib/python3.8/multiprocessing/process.py\", line 108, in run\n",
      "    self._target(*self._args, **self._kwargs)\n",
      "  File \"<ipython-input-8-da8517d8986f>\", line 19, in score\n",
      "    result = action_classifier.predict_all(X_test)\n",
      "  File \"/home/mobley/Documents/repos/CSCI470-Final/movingpose/estimator/classifiers.py\", line 123, in predict_all\n",
      "    result.append(self.predict(Xs[i], poses_are_normalized, verbose=verbose))\n",
      "  File \"/home/mobley/Documents/repos/CSCI470-Final/movingpose/estimator/classifiers.py\", line 95, in predict\n",
      "    for nearby_pose, score in self.nearest_pose_estimator.k_poses(pose, verbose=verbose):\n",
      "  File \"/home/mobley/Documents/repos/CSCI470-Final/movingpose/estimator/neighbors.py\", line 206, in k_poses\n",
      "    traditional_knn = KNeighborsClassifier(\n",
      "  File \"/home/mobley/Documents/repos/CSCI470-Final/venv/lib/python3.8/site-packages/sklearn/neighbors/_base.py\", line 1131, in fit\n",
      "    X, y = self._validate_data(X, y, accept_sparse=\"csr\",\n",
      "  File \"/home/mobley/Documents/repos/CSCI470-Final/venv/lib/python3.8/site-packages/sklearn/base.py\", line 432, in _validate_data\n",
      "    X, y = check_X_y(X, y, **check_params)\n",
      "  File \"/home/mobley/Documents/repos/CSCI470-Final/venv/lib/python3.8/site-packages/sklearn/utils/validation.py\", line 72, in inner_f\n",
      "    return f(**kwargs)\n",
      "  File \"/home/mobley/Documents/repos/CSCI470-Final/venv/lib/python3.8/site-packages/sklearn/utils/validation.py\", line 795, in check_X_y\n",
      "    X = check_array(X, accept_sparse=accept_sparse,\n",
      "  File \"/home/mobley/Documents/repos/CSCI470-Final/venv/lib/python3.8/site-packages/sklearn/utils/validation.py\", line 72, in inner_f\n",
      "    return f(**kwargs)\n",
      "Process Process-36:\n",
      "  File \"/home/mobley/Documents/repos/CSCI470-Final/venv/lib/python3.8/site-packages/sklearn/utils/validation.py\", line 598, in check_array\n",
      "    array = np.asarray(array, order=order, dtype=dtype)\n",
      "  File \"/home/mobley/Documents/repos/CSCI470-Final/venv/lib/python3.8/site-packages/numpy/core/_asarray.py\", line 85, in asarray\n",
      "    return array(a, dtype, copy=False, order=order)\n",
      "Traceback (most recent call last):\n",
      "  File \"/usr/lib/python3.8/multiprocessing/process.py\", line 315, in _bootstrap\n",
      "    self.run()\n",
      "  File \"/usr/lib/python3.8/multiprocessing/process.py\", line 108, in run\n",
      "    self._target(*self._args, **self._kwargs)\n",
      "KeyboardInterrupt\n",
      "  File \"<ipython-input-8-da8517d8986f>\", line 19, in score\n",
      "    result = action_classifier.predict_all(X_test)\n",
      "  File \"/home/mobley/Documents/repos/CSCI470-Final/movingpose/estimator/classifiers.py\", line 123, in predict_all\n",
      "    result.append(self.predict(Xs[i], poses_are_normalized, verbose=verbose))\n",
      "  File \"/home/mobley/Documents/repos/CSCI470-Final/movingpose/estimator/classifiers.py\", line 95, in predict\n",
      "    for nearby_pose, score in self.nearest_pose_estimator.k_poses(pose, verbose=verbose):\n",
      "  File \"/home/mobley/Documents/repos/CSCI470-Final/movingpose/estimator/neighbors.py\", line 206, in k_poses\n",
      "    traditional_knn = KNeighborsClassifier(\n",
      "  File \"/home/mobley/Documents/repos/CSCI470-Final/venv/lib/python3.8/site-packages/sklearn/neighbors/_base.py\", line 1157, in fit\n",
      "    return self._fit(X)\n",
      "  File \"/home/mobley/Documents/repos/CSCI470-Final/venv/lib/python3.8/site-packages/sklearn/neighbors/_base.py\", line 456, in _fit\n",
      "    self._tree = KDTree(X, self.leaf_size,\n",
      "KeyboardInterrupt\n",
      "Process Process-26:\n",
      "Traceback (most recent call last):\n",
      "  File \"/usr/lib/python3.8/multiprocessing/process.py\", line 315, in _bootstrap\n",
      "    self.run()\n",
      "  File \"/usr/lib/python3.8/multiprocessing/process.py\", line 108, in run\n",
      "    self._target(*self._args, **self._kwargs)\n",
      "  File \"<ipython-input-8-da8517d8986f>\", line 19, in score\n",
      "    result = action_classifier.predict_all(X_test)\n",
      "  File \"/home/mobley/Documents/repos/CSCI470-Final/movingpose/estimator/classifiers.py\", line 123, in predict_all\n",
      "    result.append(self.predict(Xs[i], poses_are_normalized, verbose=verbose))\n",
      "  File \"/home/mobley/Documents/repos/CSCI470-Final/movingpose/estimator/classifiers.py\", line 95, in predict\n",
      "    for nearby_pose, score in self.nearest_pose_estimator.k_poses(pose, verbose=verbose):\n",
      "  File \"/home/mobley/Documents/repos/CSCI470-Final/movingpose/estimator/neighbors.py\", line 206, in k_poses\n",
      "    traditional_knn = KNeighborsClassifier(\n",
      "  File \"/home/mobley/Documents/repos/CSCI470-Final/venv/lib/python3.8/site-packages/sklearn/neighbors/_base.py\", line 1131, in fit\n",
      "    X, y = self._validate_data(X, y, accept_sparse=\"csr\",\n",
      "  File \"/home/mobley/Documents/repos/CSCI470-Final/venv/lib/python3.8/site-packages/sklearn/base.py\", line 432, in _validate_data\n",
      "    X, y = check_X_y(X, y, **check_params)\n",
      "  File \"/home/mobley/Documents/repos/CSCI470-Final/venv/lib/python3.8/site-packages/sklearn/utils/validation.py\", line 72, in inner_f\n",
      "    return f(**kwargs)\n",
      "  File \"/home/mobley/Documents/repos/CSCI470-Final/venv/lib/python3.8/site-packages/sklearn/utils/validation.py\", line 795, in check_X_y\n",
      "    X = check_array(X, accept_sparse=accept_sparse,\n",
      "  File \"/home/mobley/Documents/repos/CSCI470-Final/venv/lib/python3.8/site-packages/sklearn/utils/validation.py\", line 72, in inner_f\n",
      "    return f(**kwargs)\n",
      "  File \"/home/mobley/Documents/repos/CSCI470-Final/venv/lib/python3.8/site-packages/sklearn/utils/validation.py\", line 598, in check_array\n",
      "    array = np.asarray(array, order=order, dtype=dtype)\n",
      "  File \"/home/mobley/Documents/repos/CSCI470-Final/venv/lib/python3.8/site-packages/numpy/core/_asarray.py\", line 85, in asarray\n",
      "    return array(a, dtype, copy=False, order=order)\n",
      "KeyboardInterrupt\n",
      "Process Process-27:\n",
      "Traceback (most recent call last):\n",
      "  File \"/usr/lib/python3.8/multiprocessing/process.py\", line 315, in _bootstrap\n",
      "    self.run()\n",
      "  File \"/usr/lib/python3.8/multiprocessing/process.py\", line 108, in run\n",
      "    self._target(*self._args, **self._kwargs)\n",
      "  File \"<ipython-input-8-da8517d8986f>\", line 19, in score\n",
      "    result = action_classifier.predict_all(X_test)\n",
      "  File \"/home/mobley/Documents/repos/CSCI470-Final/movingpose/estimator/classifiers.py\", line 123, in predict_all\n",
      "    result.append(self.predict(Xs[i], poses_are_normalized, verbose=verbose))\n",
      "  File \"/home/mobley/Documents/repos/CSCI470-Final/movingpose/estimator/classifiers.py\", line 95, in predict\n",
      "    for nearby_pose, score in self.nearest_pose_estimator.k_poses(pose, verbose=verbose):\n",
      "  File \"/home/mobley/Documents/repos/CSCI470-Final/movingpose/estimator/neighbors.py\", line 206, in k_poses\n",
      "    traditional_knn = KNeighborsClassifier(\n",
      "  File \"/home/mobley/Documents/repos/CSCI470-Final/venv/lib/python3.8/site-packages/sklearn/neighbors/_base.py\", line 1131, in fit\n",
      "    X, y = self._validate_data(X, y, accept_sparse=\"csr\",\n",
      "  File \"/home/mobley/Documents/repos/CSCI470-Final/venv/lib/python3.8/site-packages/sklearn/base.py\", line 432, in _validate_data\n",
      "    X, y = check_X_y(X, y, **check_params)\n",
      "  File \"/home/mobley/Documents/repos/CSCI470-Final/venv/lib/python3.8/site-packages/sklearn/utils/validation.py\", line 72, in inner_f\n",
      "    return f(**kwargs)\n",
      "  File \"/home/mobley/Documents/repos/CSCI470-Final/venv/lib/python3.8/site-packages/sklearn/utils/validation.py\", line 795, in check_X_y\n",
      "    X = check_array(X, accept_sparse=accept_sparse,\n",
      "  File \"/home/mobley/Documents/repos/CSCI470-Final/venv/lib/python3.8/site-packages/sklearn/utils/validation.py\", line 72, in inner_f\n",
      "    return f(**kwargs)\n",
      "  File \"/home/mobley/Documents/repos/CSCI470-Final/venv/lib/python3.8/site-packages/sklearn/utils/validation.py\", line 598, in check_array\n",
      "    array = np.asarray(array, order=order, dtype=dtype)\n",
      "  File \"/home/mobley/Documents/repos/CSCI470-Final/venv/lib/python3.8/site-packages/numpy/core/_asarray.py\", line 85, in asarray\n",
      "    return array(a, dtype, copy=False, order=order)\n",
      "KeyboardInterrupt\n",
      "Process Process-31:\n",
      "Traceback (most recent call last):\n",
      "  File \"/usr/lib/python3.8/multiprocessing/process.py\", line 315, in _bootstrap\n",
      "    self.run()\n",
      "  File \"/usr/lib/python3.8/multiprocessing/process.py\", line 108, in run\n",
      "    self._target(*self._args, **self._kwargs)\n",
      "  File \"<ipython-input-8-da8517d8986f>\", line 19, in score\n",
      "    result = action_classifier.predict_all(X_test)\n",
      "  File \"/home/mobley/Documents/repos/CSCI470-Final/movingpose/estimator/classifiers.py\", line 123, in predict_all\n",
      "    result.append(self.predict(Xs[i], poses_are_normalized, verbose=verbose))\n",
      "  File \"/home/mobley/Documents/repos/CSCI470-Final/movingpose/estimator/classifiers.py\", line 95, in predict\n",
      "    for nearby_pose, score in self.nearest_pose_estimator.k_poses(pose, verbose=verbose):\n",
      "  File \"/home/mobley/Documents/repos/CSCI470-Final/movingpose/estimator/neighbors.py\", line 206, in k_poses\n",
      "    traditional_knn = KNeighborsClassifier(\n",
      "  File \"/home/mobley/Documents/repos/CSCI470-Final/venv/lib/python3.8/site-packages/sklearn/neighbors/_base.py\", line 1157, in fit\n",
      "    return self._fit(X)\n",
      "  File \"/home/mobley/Documents/repos/CSCI470-Final/venv/lib/python3.8/site-packages/sklearn/neighbors/_base.py\", line 456, in _fit\n",
      "    self._tree = KDTree(X, self.leaf_size,\n",
      "KeyboardInterrupt\n",
      "Process Process-34:\n",
      "Traceback (most recent call last):\n",
      "  File \"/usr/lib/python3.8/multiprocessing/process.py\", line 315, in _bootstrap\n",
      "    self.run()\n",
      "  File \"/usr/lib/python3.8/multiprocessing/process.py\", line 108, in run\n",
      "    self._target(*self._args, **self._kwargs)\n",
      "  File \"<ipython-input-8-da8517d8986f>\", line 19, in score\n",
      "    result = action_classifier.predict_all(X_test)\n",
      "Process Process-33:\n",
      "  File \"/home/mobley/Documents/repos/CSCI470-Final/movingpose/estimator/classifiers.py\", line 123, in predict_all\n",
      "    result.append(self.predict(Xs[i], poses_are_normalized, verbose=verbose))\n",
      "  File \"/home/mobley/Documents/repos/CSCI470-Final/movingpose/estimator/classifiers.py\", line 95, in predict\n",
      "    for nearby_pose, score in self.nearest_pose_estimator.k_poses(pose, verbose=verbose):\n",
      "  File \"/home/mobley/Documents/repos/CSCI470-Final/movingpose/estimator/neighbors.py\", line 206, in k_poses\n",
      "    traditional_knn = KNeighborsClassifier(\n",
      "  File \"/home/mobley/Documents/repos/CSCI470-Final/venv/lib/python3.8/site-packages/sklearn/neighbors/_base.py\", line 1131, in fit\n",
      "    X, y = self._validate_data(X, y, accept_sparse=\"csr\",\n",
      "Traceback (most recent call last):\n",
      "  File \"/home/mobley/Documents/repos/CSCI470-Final/venv/lib/python3.8/site-packages/sklearn/base.py\", line 432, in _validate_data\n",
      "    X, y = check_X_y(X, y, **check_params)\n",
      "  File \"/home/mobley/Documents/repos/CSCI470-Final/venv/lib/python3.8/site-packages/sklearn/utils/validation.py\", line 72, in inner_f\n",
      "    return f(**kwargs)\n",
      "  File \"/usr/lib/python3.8/multiprocessing/process.py\", line 315, in _bootstrap\n",
      "    self.run()\n",
      "  File \"/home/mobley/Documents/repos/CSCI470-Final/venv/lib/python3.8/site-packages/sklearn/utils/validation.py\", line 795, in check_X_y\n",
      "    X = check_array(X, accept_sparse=accept_sparse,\n",
      "  File \"/usr/lib/python3.8/multiprocessing/process.py\", line 108, in run\n",
      "    self._target(*self._args, **self._kwargs)\n",
      "  File \"<ipython-input-8-da8517d8986f>\", line 19, in score\n",
      "    result = action_classifier.predict_all(X_test)\n",
      "  File \"/home/mobley/Documents/repos/CSCI470-Final/venv/lib/python3.8/site-packages/sklearn/utils/validation.py\", line 72, in inner_f\n",
      "    return f(**kwargs)\n",
      "  File \"/home/mobley/Documents/repos/CSCI470-Final/movingpose/estimator/classifiers.py\", line 123, in predict_all\n",
      "    result.append(self.predict(Xs[i], poses_are_normalized, verbose=verbose))\n",
      "  File \"/home/mobley/Documents/repos/CSCI470-Final/venv/lib/python3.8/site-packages/sklearn/utils/validation.py\", line 598, in check_array\n",
      "    array = np.asarray(array, order=order, dtype=dtype)\n",
      "  File \"/home/mobley/Documents/repos/CSCI470-Final/movingpose/estimator/classifiers.py\", line 95, in predict\n",
      "    for nearby_pose, score in self.nearest_pose_estimator.k_poses(pose, verbose=verbose):\n",
      "  File \"/home/mobley/Documents/repos/CSCI470-Final/venv/lib/python3.8/site-packages/numpy/core/_asarray.py\", line 85, in asarray\n",
      "    return array(a, dtype, copy=False, order=order)\n",
      "KeyboardInterrupt\n",
      "  File \"/home/mobley/Documents/repos/CSCI470-Final/movingpose/estimator/neighbors.py\", line 206, in k_poses\n",
      "    traditional_knn = KNeighborsClassifier(\n",
      "  File \"/home/mobley/Documents/repos/CSCI470-Final/venv/lib/python3.8/site-packages/sklearn/neighbors/_base.py\", line 1131, in fit\n",
      "    X, y = self._validate_data(X, y, accept_sparse=\"csr\",\n",
      "  File \"/home/mobley/Documents/repos/CSCI470-Final/venv/lib/python3.8/site-packages/sklearn/base.py\", line 432, in _validate_data\n",
      "    X, y = check_X_y(X, y, **check_params)\n",
      "  File \"/home/mobley/Documents/repos/CSCI470-Final/venv/lib/python3.8/site-packages/sklearn/utils/validation.py\", line 72, in inner_f\n",
      "    return f(**kwargs)\n",
      "  File \"/home/mobley/Documents/repos/CSCI470-Final/venv/lib/python3.8/site-packages/sklearn/utils/validation.py\", line 795, in check_X_y\n",
      "    X = check_array(X, accept_sparse=accept_sparse,\n",
      "  File \"/home/mobley/Documents/repos/CSCI470-Final/venv/lib/python3.8/site-packages/sklearn/utils/validation.py\", line 72, in inner_f\n",
      "    return f(**kwargs)\n",
      "  File \"/home/mobley/Documents/repos/CSCI470-Final/venv/lib/python3.8/site-packages/sklearn/utils/validation.py\", line 598, in check_array\n",
      "    array = np.asarray(array, order=order, dtype=dtype)\n",
      "  File \"/home/mobley/Documents/repos/CSCI470-Final/venv/lib/python3.8/site-packages/numpy/core/_asarray.py\", line 85, in asarray\n",
      "    return array(a, dtype, copy=False, order=order)\n",
      "KeyboardInterrupt\n"
     ]
    },
    {
     "ename": "KeyboardInterrupt",
     "evalue": "",
     "output_type": "error",
     "traceback": [
      "\u001B[0;31m---------------------------------------------------------------------------\u001B[0m",
      "\u001B[0;31mKeyboardInterrupt\u001B[0m                         Traceback (most recent call last)",
      "\u001B[0;32m<ipython-input-8-da8517d8986f>\u001B[0m in \u001B[0;36m<module>\u001B[0;34m\u001B[0m\n\u001B[1;32m     59\u001B[0m         \u001B[0mos\u001B[0m\u001B[0;34m.\u001B[0m\u001B[0msystem\u001B[0m\u001B[0;34m(\u001B[0m\u001B[0;34m'clear'\u001B[0m\u001B[0;34m)\u001B[0m\u001B[0;34m\u001B[0m\u001B[0;34m\u001B[0m\u001B[0m\n\u001B[1;32m     60\u001B[0m         \u001B[0mprint\u001B[0m\u001B[0;34m(\u001B[0m\u001B[0;34mf\"Training {100*round((num_workers_executed-(num_cpu_cores + i))/len(workers), 3)}% complete\"\u001B[0m\u001B[0;34m)\u001B[0m\u001B[0;34m\u001B[0m\u001B[0;34m\u001B[0m\u001B[0m\n\u001B[0;32m---> 61\u001B[0;31m         \u001B[0mworkers\u001B[0m\u001B[0;34m[\u001B[0m\u001B[0mnum_workers_executed\u001B[0m \u001B[0;34m-\u001B[0m \u001B[0mi\u001B[0m\u001B[0;34m]\u001B[0m\u001B[0;34m.\u001B[0m\u001B[0mjoin\u001B[0m\u001B[0;34m(\u001B[0m\u001B[0;34m)\u001B[0m\u001B[0;34m\u001B[0m\u001B[0;34m\u001B[0m\u001B[0m\n\u001B[0m\u001B[1;32m     62\u001B[0m     \u001B[0mnum_workers_executed\u001B[0m \u001B[0;34m+=\u001B[0m \u001B[0mnum_cpu_cores\u001B[0m\u001B[0;34m\u001B[0m\u001B[0;34m\u001B[0m\u001B[0m\n\u001B[1;32m     63\u001B[0m \u001B[0;34m\u001B[0m\u001B[0m\n",
      "\u001B[0;32m/usr/lib/python3.8/multiprocessing/process.py\u001B[0m in \u001B[0;36mjoin\u001B[0;34m(self, timeout)\u001B[0m\n\u001B[1;32m    147\u001B[0m         \u001B[0;32massert\u001B[0m \u001B[0mself\u001B[0m\u001B[0;34m.\u001B[0m\u001B[0m_parent_pid\u001B[0m \u001B[0;34m==\u001B[0m \u001B[0mos\u001B[0m\u001B[0;34m.\u001B[0m\u001B[0mgetpid\u001B[0m\u001B[0;34m(\u001B[0m\u001B[0;34m)\u001B[0m\u001B[0;34m,\u001B[0m \u001B[0;34m'can only join a child process'\u001B[0m\u001B[0;34m\u001B[0m\u001B[0;34m\u001B[0m\u001B[0m\n\u001B[1;32m    148\u001B[0m         \u001B[0;32massert\u001B[0m \u001B[0mself\u001B[0m\u001B[0;34m.\u001B[0m\u001B[0m_popen\u001B[0m \u001B[0;32mis\u001B[0m \u001B[0;32mnot\u001B[0m \u001B[0;32mNone\u001B[0m\u001B[0;34m,\u001B[0m \u001B[0;34m'can only join a started process'\u001B[0m\u001B[0;34m\u001B[0m\u001B[0;34m\u001B[0m\u001B[0m\n\u001B[0;32m--> 149\u001B[0;31m         \u001B[0mres\u001B[0m \u001B[0;34m=\u001B[0m \u001B[0mself\u001B[0m\u001B[0;34m.\u001B[0m\u001B[0m_popen\u001B[0m\u001B[0;34m.\u001B[0m\u001B[0mwait\u001B[0m\u001B[0;34m(\u001B[0m\u001B[0mtimeout\u001B[0m\u001B[0;34m)\u001B[0m\u001B[0;34m\u001B[0m\u001B[0;34m\u001B[0m\u001B[0m\n\u001B[0m\u001B[1;32m    150\u001B[0m         \u001B[0;32mif\u001B[0m \u001B[0mres\u001B[0m \u001B[0;32mis\u001B[0m \u001B[0;32mnot\u001B[0m \u001B[0;32mNone\u001B[0m\u001B[0;34m:\u001B[0m\u001B[0;34m\u001B[0m\u001B[0;34m\u001B[0m\u001B[0m\n\u001B[1;32m    151\u001B[0m             \u001B[0m_children\u001B[0m\u001B[0;34m.\u001B[0m\u001B[0mdiscard\u001B[0m\u001B[0;34m(\u001B[0m\u001B[0mself\u001B[0m\u001B[0;34m)\u001B[0m\u001B[0;34m\u001B[0m\u001B[0;34m\u001B[0m\u001B[0m\n",
      "\u001B[0;32m/usr/lib/python3.8/multiprocessing/popen_fork.py\u001B[0m in \u001B[0;36mwait\u001B[0;34m(self, timeout)\u001B[0m\n\u001B[1;32m     45\u001B[0m                     \u001B[0;32mreturn\u001B[0m \u001B[0;32mNone\u001B[0m\u001B[0;34m\u001B[0m\u001B[0;34m\u001B[0m\u001B[0m\n\u001B[1;32m     46\u001B[0m             \u001B[0;31m# This shouldn't block if wait() returned successfully.\u001B[0m\u001B[0;34m\u001B[0m\u001B[0;34m\u001B[0m\u001B[0;34m\u001B[0m\u001B[0m\n\u001B[0;32m---> 47\u001B[0;31m             \u001B[0;32mreturn\u001B[0m \u001B[0mself\u001B[0m\u001B[0;34m.\u001B[0m\u001B[0mpoll\u001B[0m\u001B[0;34m(\u001B[0m\u001B[0mos\u001B[0m\u001B[0;34m.\u001B[0m\u001B[0mWNOHANG\u001B[0m \u001B[0;32mif\u001B[0m \u001B[0mtimeout\u001B[0m \u001B[0;34m==\u001B[0m \u001B[0;36m0.0\u001B[0m \u001B[0;32melse\u001B[0m \u001B[0;36m0\u001B[0m\u001B[0;34m)\u001B[0m\u001B[0;34m\u001B[0m\u001B[0;34m\u001B[0m\u001B[0m\n\u001B[0m\u001B[1;32m     48\u001B[0m         \u001B[0;32mreturn\u001B[0m \u001B[0mself\u001B[0m\u001B[0;34m.\u001B[0m\u001B[0mreturncode\u001B[0m\u001B[0;34m\u001B[0m\u001B[0;34m\u001B[0m\u001B[0m\n\u001B[1;32m     49\u001B[0m \u001B[0;34m\u001B[0m\u001B[0m\n",
      "\u001B[0;32m/usr/lib/python3.8/multiprocessing/popen_fork.py\u001B[0m in \u001B[0;36mpoll\u001B[0;34m(self, flag)\u001B[0m\n\u001B[1;32m     25\u001B[0m         \u001B[0;32mif\u001B[0m \u001B[0mself\u001B[0m\u001B[0;34m.\u001B[0m\u001B[0mreturncode\u001B[0m \u001B[0;32mis\u001B[0m \u001B[0;32mNone\u001B[0m\u001B[0;34m:\u001B[0m\u001B[0;34m\u001B[0m\u001B[0;34m\u001B[0m\u001B[0m\n\u001B[1;32m     26\u001B[0m             \u001B[0;32mtry\u001B[0m\u001B[0;34m:\u001B[0m\u001B[0;34m\u001B[0m\u001B[0;34m\u001B[0m\u001B[0m\n\u001B[0;32m---> 27\u001B[0;31m                 \u001B[0mpid\u001B[0m\u001B[0;34m,\u001B[0m \u001B[0msts\u001B[0m \u001B[0;34m=\u001B[0m \u001B[0mos\u001B[0m\u001B[0;34m.\u001B[0m\u001B[0mwaitpid\u001B[0m\u001B[0;34m(\u001B[0m\u001B[0mself\u001B[0m\u001B[0;34m.\u001B[0m\u001B[0mpid\u001B[0m\u001B[0;34m,\u001B[0m \u001B[0mflag\u001B[0m\u001B[0;34m)\u001B[0m\u001B[0;34m\u001B[0m\u001B[0;34m\u001B[0m\u001B[0m\n\u001B[0m\u001B[1;32m     28\u001B[0m             \u001B[0;32mexcept\u001B[0m \u001B[0mOSError\u001B[0m \u001B[0;32mas\u001B[0m \u001B[0me\u001B[0m\u001B[0;34m:\u001B[0m\u001B[0;34m\u001B[0m\u001B[0;34m\u001B[0m\u001B[0m\n\u001B[1;32m     29\u001B[0m                 \u001B[0;31m# Child process not yet created. See #1731717\u001B[0m\u001B[0;34m\u001B[0m\u001B[0;34m\u001B[0m\u001B[0;34m\u001B[0m\u001B[0m\n",
      "\u001B[0;31mKeyboardInterrupt\u001B[0m: "
     ]
    }
   ],
   "source": [
    "def score(return_dict, n_neighbors, n_training_neighbors, alpha, beta, kappa, theta, n):\n",
    "    nearest_pose_estimator = neighbors.NearestPoses(\n",
    "        n_neighbors=n_neighbors,\n",
    "        n_training_neighbors=n_training_neighbors,\n",
    "        alpha=alpha,\n",
    "        beta=beta,\n",
    "        kappa=kappa\n",
    "    )\n",
    "    action_classifier = classifiers.ActionClassifier(\n",
    "        nearest_pose_estimator=nearest_pose_estimator,\n",
    "        theta=theta,\n",
    "        n=n\n",
    "    )\n",
    "    action_classifier.fit(\n",
    "        X_train,\n",
    "        y_train,\n",
    "        cache_path=f\"../pickle/action_classifier_training-{str(n_training_neighbors)}.p\"\n",
    "    )\n",
    "    result = action_classifier.predict_all(X_test)\n",
    "    return_dict[(n_neighbors, n_training_neighbors, alpha, beta, kappa, theta, n)] = (action_classifier, result)\n",
    "\n",
    "manager = multiprocessing.Manager()\n",
    "return_dict = manager.dict()\n",
    "workers = []\n",
    "\n",
    "for n_neighbors in [30, 40, 50]:\n",
    "    for n_training_neighbors in [2000, 5000, 20000, 40000]:\n",
    "        for alpha in [0.75]:\n",
    "            for beta in [0.6]:\n",
    "                for kappa in [30, 40, 50]:\n",
    "                    for theta in [0.6, 0.7, 0.8, 0.9]:\n",
    "                        for n in [40, 50, 60]:\n",
    "                            worker = multiprocessing.Process(\n",
    "                                target=\n",
    "                                    score,\n",
    "                                args=(\n",
    "                                    return_dict,\n",
    "                                    n_neighbors,\n",
    "                                    n_training_neighbors,\n",
    "                                    alpha,\n",
    "                                    beta,\n",
    "                                    kappa,\n",
    "                                    theta,\n",
    "                                    n\n",
    "                                )\n",
    "                            )\n",
    "                            workers.append(worker)\n",
    "\n",
    "num_cpu_cores = os.getenv(\"NUM_CPU_CORES\")\n",
    "if num_cpu_cores is None:\n",
    "    num_cpu_cores = input(\"Enter the number of CPU cores this computer has (ex. '12'): \")\n",
    "num_cpu_cores = max(1, int(num_cpu_cores) - 4)\n",
    "\n",
    "timer = time.time()\n",
    "num_workers_executed = num_cpu_cores\n",
    "while num_workers_executed < len(workers):\n",
    "    for i in range(num_cpu_cores):\n",
    "        workers[num_workers_executed - i].start()\n",
    "    for i in range(num_cpu_cores):\n",
    "        os.system('clear')\n",
    "        print(f\"Tuning {100*round((num_workers_executed-(num_cpu_cores - i))/len(workers), 3)}% complete\")\n",
    "        print(f\"Estimated runtime info: {timer}/{timer/((num_workers_executed-(num_cpu_cores + i))/len(workers))} seconds\")\n",
    "        workers[num_workers_executed - i].join()\n",
    "    num_workers_executed += num_cpu_cores\n",
    "\n",
    "\n",
    "print(\"# Correctly predicted: (higher is better)\")\n",
    "best_score = sys.maxsize\n",
    "best_hpc = None\n",
    "best_action_classifier = None\n",
    "for hyper_parameter_combo, (action_classifier, result) in return_dict.items():\n",
    "    if result > best_score:\n",
    "        best_hpc = hyper_parameter_combo\n",
    "        best_action_classifier = action_classifier\n",
    "        best_score = result\n"
   ]
  },
  {
   "cell_type": "markdown",
   "metadata": {},
   "source": [
    "## Print best action classifier and its score"
   ]
  },
  {
   "cell_type": "code",
   "execution_count": null,
   "metadata": {
    "pycharm": {
     "name": "#%%\n"
    }
   },
   "outputs": [],
   "source": [
    "print(\"The best hyper parameter combo was:\")\n",
    "print(f\"    n_neighbors: {best_hpc[0]}\")\n",
    "print(f\"    n_training_neighbors: {best_hpc[1]}\")\n",
    "print(f\"    alpha: {best_hpc[2]}\")\n",
    "print(f\"    beta: {best_hpc[3]}\")\n",
    "print(f\"    kappa: {best_hpc[4]}\")\n",
    "print(f\"    theta: {best_hpc[5]}\")\n",
    "print(f\"    n: {best_hpc[6]}\")\n",
    "print(\"\\n--------------\\n\")\n",
    "print(f\"Its score was: {best_score}\")"
   ]
  },
  {
   "cell_type": "markdown",
   "metadata": {},
   "source": [
    "## Save the best action classifier"
   ]
  },
  {
   "cell_type": "code",
   "execution_count": null,
   "metadata": {
    "pycharm": {
     "name": "#%%\n"
    },
    "scrolled": true
   },
   "outputs": [],
   "source": [
    "best_action_classifier.save_pickle(\"../pickle/best_action_classifier.p\")"
   ]
  },
  {
   "cell_type": "markdown",
   "metadata": {},
   "source": [
    "## Load best action classifier"
   ]
  },
  {
   "cell_type": "code",
   "execution_count": null,
   "metadata": {
    "pycharm": {
     "name": "#%%\n"
    }
   },
   "outputs": [],
   "source": [
    "action_classifier = classifiers.load_pickle(\"../pickle/best_action_classifier.p\")"
   ]
  },
  {
   "cell_type": "markdown",
   "metadata": {},
   "source": [
    "## Save the best action classifier"
   ]
  },
  {
   "cell_type": "code",
   "execution_count": null,
   "metadata": {
    "pycharm": {
     "name": "#%%\n"
    }
   },
   "outputs": [],
   "source": [
    "best_action_classifier.save_pickle(\"../pickle/best_action_classifier.p\")"
   ]
  },
  {
   "cell_type": "markdown",
   "metadata": {},
   "source": [
    "## Load best action classifier"
   ]
  },
  {
   "cell_type": "code",
   "execution_count": null,
   "metadata": {
    "pycharm": {
     "name": "#%%\n"
    }
   },
   "outputs": [],
   "source": [
    "action_classifier = classifiers.load_pickle(\"../pickle/best_action_classifier.p\")"
   ]
  },
  {
   "cell_type": "markdown",
   "metadata": {},
   "source": [
    "## Predict live data"
   ]
  },
  {
   "cell_type": "code",
   "execution_count": null,
   "metadata": {
    "pycharm": {
     "name": "#%%\n"
    }
   },
   "outputs": [],
   "source": [
    "#TODO add live predictions when mehmet publishes the UI code"
   ]
  },
  {
   "cell_type": "markdown",
   "metadata": {},
   "source": [
    "# DAB"
   ]
  },
  {
   "cell_type": "code",
   "execution_count": null,
   "metadata": {
    "pycharm": {
     "name": "#%%\n"
    }
   },
   "outputs": [],
   "source": [
    "print(\"dab\")\n"
   ]
  }
 ],
 "metadata": {
  "kernelspec": {
   "display_name": "Python 3",
   "language": "python",
   "name": "python3"
  },
  "language_info": {
   "codemirror_mode": {
    "name": "ipython",
    "version": 3
   },
   "file_extension": ".py",
   "mimetype": "text/x-python",
   "name": "python",
   "nbconvert_exporter": "python",
   "pygments_lexer": "ipython3",
   "version": "3.8.3"
  }
 },
 "nbformat": 4,
 "nbformat_minor": 1
}