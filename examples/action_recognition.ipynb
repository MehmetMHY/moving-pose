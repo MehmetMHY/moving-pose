{
 "cells": [
  {
   "cell_type": "code",
   "execution_count": 1,
   "metadata": {},
   "outputs": [],
   "source": [
    "import multiprocessing\n",
    "import os\n",
    "import sys\n",
    "sys.path.append(\"..\")\n",
    "from sklearn.model_selection import train_test_split\n",
    "\n",
    "from movingpose.estimator import neighbors\n",
    "from movingpose.estimator import classifiers\n",
    "\n",
    "from movingpose.preprocessing import moving_pose\n",
    "from movingpose.preprocessing import kinect_skeleton_data"
   ]
  },
  {
   "cell_type": "markdown",
   "metadata": {},
   "source": [
    "## Pickle multiview action data"
   ]
  },
  {
   "cell_type": "code",
   "execution_count": null,
   "metadata": {
    "pycharm": {
     "name": "#%%\n",
     "is_executing": true
    }
   },
   "outputs": [
    {
     "name": "stdout",
     "output_type": "stream",
     "text": [
      "Pickling skeleton data...\n"
     ]
    }
   ],
   "source": [
    "kinect_skeleton_data.pickle_dir(\"../pickle/multiview.p\", \"../ext/dataset/multiview_action/\")"
   ]
  },
  {
   "cell_type": "markdown",
   "metadata": {},
   "source": [
    "## Load pickled multiview action data"
   ]
  },
  {
   "cell_type": "code",
   "execution_count": null,
   "metadata": {
    "pycharm": {
     "name": "#%%\n",
     "is_executing": true
    }
   },
   "outputs": [],
   "source": [
    "raw_data_dict = kinect_skeleton_data.load_pickle(\"../pickle/multiview.p\")"
   ]
  },
  {
   "cell_type": "markdown",
   "metadata": {},
   "source": [
    "## Format multiview action data"
   ]
  },
  {
   "cell_type": "code",
   "execution_count": null,
   "metadata": {
    "pycharm": {
     "name": "#%%\n",
     "is_executing": true
    }
   },
   "outputs": [],
   "source": [
    "X, labels = moving_pose.format_skeleton_data_dict(raw_data_dict)"
   ]
  },
  {
   "cell_type": "markdown",
   "metadata": {},
   "source": [
    "## Perform basic verification that skeleton data is formatted correctly"
   ]
  },
  {
   "cell_type": "code",
   "execution_count": null,
   "metadata": {
    "pycharm": {
     "name": "#%%\n",
     "is_executing": true
    }
   },
   "outputs": [],
   "source": [
    "for action in X:\n",
    "    for frame_num, pose in enumerate(action):\n",
    "        assert pose.shape == (20, 10), f\"{pose.shape} =/= (20, 10)\"\n",
    "        for i, descriptor in enumerate(pose):\n",
    "            if i == 0:\n",
    "                assert list(descriptor)[:-1] == [0, 0, 0, 0, 0, 0, 0, 0, 0]\n",
    "            assert descriptor[-1] == frame_num, f\"{descriptor[-1]} =/= {frame_num}\""
   ]
  },
  {
   "cell_type": "markdown",
   "metadata": {},
   "source": [
    "## Create train/test split"
   ]
  },
  {
   "cell_type": "code",
   "execution_count": null,
   "metadata": {
    "pycharm": {
     "name": "#%%\n",
     "is_executing": true
    }
   },
   "outputs": [],
   "source": [
    "X_train, X_test, y_train, y_test = train_test_split(X, labels, random_state=42)"
   ]
  },
  {
   "cell_type": "markdown",
   "metadata": {
    "pycharm": {
     "name": "#%% md\n"
    }
   },
   "source": [
    "## Pickle Action Classifiers"
   ]
  },
  {
   "cell_type": "code",
   "execution_count": null,
   "metadata": {
    "pycharm": {
     "name": "#%%\n",
     "is_executing": true
    }
   },
   "outputs": [],
   "source": [
    "def pickle_action_classifiers(n_training_neighbors, cache_path):\n",
    "    nearest_pose_estimator = neighbors.NearestPoses(\n",
    "        n_neighbors=20,\n",
    "        n_training_neighbors=n_training_neighbors,\n",
    "        alpha=0.75,\n",
    "        beta=0.6,\n",
    "        kappa=80\n",
    "    )\n",
    "    action_classifier = classifiers.ActionClassifier(\n",
    "        nearest_pose_estimator=nearest_pose_estimator,\n",
    "        theta=0.5,\n",
    "        n=80\n",
    "    )\n",
    "    action_classifier.fit(\n",
    "        X_train,\n",
    "        y_train,\n",
    "        cache_path=cache_path\n",
    "    )\n",
    "\n",
    "cache_workers = []\n",
    "for n_training_neighbors in [2000, 5000, 10000, 20000, 30000, 40000]:\n",
    "    cache_path = f\"../pickle/action_classifier_training-{str(n_training_neighbors)}.p\"\n",
    "    if not os.path.exists(cache_path):\n",
    "        worker = multiprocessing.Process(\n",
    "            target=\n",
    "                pickle_action_classifiers,\n",
    "            args=(\n",
    "                n_training_neighbors,\n",
    "                cache_path\n",
    "            )\n",
    "        )\n",
    "        cache_workers.append(worker)\n",
    "\n",
    "for cache_worker in cache_workers:\n",
    "    cache_worker.start()\n",
    "    \n",
    "for cache_worker in cache_workers:\n",
    "    cache_worker.join()"
   ]
  },
  {
   "cell_type": "markdown",
   "metadata": {},
   "source": [
    "## Train Action Classifier with normalized training data"
   ]
  },
  {
   "cell_type": "code",
   "execution_count": null,
   "metadata": {
    "pycharm": {
     "name": "#%%\n",
     "is_executing": true
    }
   },
   "outputs": [],
   "source": [
    "def score(return_dict, n_neighbors, n_training_neighbors, alpha, beta, kappa, theta, n):\n",
    "    nearest_pose_estimator = neighbors.NearestPoses(\n",
    "        n_neighbors=n_neighbors,\n",
    "        n_training_neighbors=n_training_neighbors,\n",
    "        alpha=alpha,\n",
    "        beta=beta,\n",
    "        kappa=kappa\n",
    "    )\n",
    "    action_classifier = classifiers.ActionClassifier(\n",
    "        nearest_pose_estimator=nearest_pose_estimator,\n",
    "        theta=theta,\n",
    "        n=n\n",
    "    )\n",
    "    action_classifier.fit(\n",
    "        X_train,\n",
    "        y_train,\n",
    "        cache_path=f\"../pickle/action_classifier_training-{str(n_training_neighbors)}.p\"\n",
    "    )\n",
    "    result = action_classifier.predict_all(X_test)\n",
    "    return_dict[(n_neighbors, n_training_neighbors, alpha, beta, kappa, theta, n)] = (action_classifier, result)\n",
    "\n",
    "manager = multiprocessing.Manager()\n",
    "return_dict = manager.dict()\n",
    "workers = []\n",
    "\n",
    "for n_neighbors in [20, 25, 30]:\n",
    "    for n_training_neighbors in [2000, 5000, 10000, 20000, 30000, 40000]:\n",
    "        for alpha in [0.75]:\n",
    "            for beta in [0.6]:\n",
    "                for kappa in [20, 30, 40, 50]:\n",
    "                    for theta in [0.6, 0.7, 0.8, 0.9]:\n",
    "                        for n in [40, 60, 80, 100, 120, 140, 160]:\n",
    "                            worker = multiprocessing.Process(\n",
    "                                target=\n",
    "                                    score,\n",
    "                                args=(\n",
    "                                    return_dict,\n",
    "                                    n_neighbors,\n",
    "                                    n_training_neighbors,\n",
    "                                    alpha,\n",
    "                                    beta,\n",
    "                                    kappa,\n",
    "                                    theta,\n",
    "                                    n\n",
    "                                )\n",
    "                            )\n",
    "                            workers.append(worker)\n",
    "\n",
    "num_cpu_cores = os.getenv(\"NUM_CPU_CORES\")\n",
    "if num_cpu_cores is None:\n",
    "    num_cpu_cores = input(\"Enter the number of CPU cores this computer has (ex. '12'): \")\n",
    "num_cpu_cores = min(1, int(num_cpu_cores) - 3)\n",
    "\n",
    "num_workers_executed = 0\n",
    "while num_workers_executed < len(workers):\n",
    "    for i in range(num_cpu_cores):\n",
    "        workers[num_workers_executed + i].start()\n",
    "    for i in range(num_cpu_cores):\n",
    "        workers[num_workers_executed + i].join()\n",
    "        print(f\"Combinations tested: {num_workers_executed + i + 1}/{len(workers)}\")\n",
    "    num_workers_executed += num_cpu_cores\n",
    "\n",
    "\n",
    "print(\"# Correctly predicted: (higher is better)\")\n",
    "best_score = sys.maxsize\n",
    "best_hpc = None\n",
    "best_action_classifier = None\n",
    "for hyper_parameter_combo, (action_classifier, result) in return_dict.items():\n",
    "    if result > best_score:\n",
    "        best_hpc = hyper_parameter_combo\n",
    "        best_action_classifier = action_classifier\n",
    "        best_score = result\n"
   ]
  },
  {
   "cell_type": "markdown",
   "metadata": {},
   "source": [
    "## Print best action classifier and its score"
   ]
  },
  {
   "cell_type": "code",
   "execution_count": null,
   "metadata": {
    "pycharm": {
     "name": "#%%\n",
     "is_executing": true
    }
   },
   "outputs": [],
   "source": [
    "print(\"The best hyper parameter combo was:\")\n",
    "print(f\"    n_neighbors: {best_hpc[0]}\")\n",
    "print(f\"    n_training_neighbors: {best_hpc[1]}\")\n",
    "print(f\"    alpha: {best_hpc[2]}\")\n",
    "print(f\"    beta: {best_hpc[3]}\")\n",
    "print(f\"    kappa: {best_hpc[4]}\")\n",
    "print(f\"    theta: {best_hpc[5]}\")\n",
    "print(f\"    n: {best_hpc[6]}\")\n",
    "print(\"\\n--------------\\n\")\n",
    "print(f\"Its score was: {best_score}\")"
   ]
  },
  {
   "cell_type": "markdown",
   "metadata": {},
   "source": [
    "## Save the best action classifier"
   ]
  },
  {
   "cell_type": "code",
   "execution_count": null,
   "metadata": {
    "pycharm": {
     "name": "#%%\n",
     "is_executing": true
    },
    "scrolled": true
   },
   "outputs": [],
   "source": [
    "best_action_classifier.save_pickle(\"../pickle/best_action_classifier.p\")"
   ]
  },
  {
   "cell_type": "markdown",
   "metadata": {},
   "source": [
    "## Load best action classifier"
   ]
  },
  {
   "cell_type": "code",
   "execution_count": null,
   "metadata": {
    "pycharm": {
     "name": "#%%\n",
     "is_executing": true
    }
   },
   "outputs": [],
   "source": [
    "action_classifier = classifiers.load_pickle(\"../pickle/best_action_classifier.p\")"
   ]
  },
  {
   "cell_type": "markdown",
   "metadata": {},
   "source": [
    "## Save the best action classifier"
   ]
  },
  {
   "cell_type": "code",
   "execution_count": null,
   "metadata": {
    "pycharm": {
     "name": "#%%\n",
     "is_executing": true
    }
   },
   "outputs": [],
   "source": [
    "best_action_classifier.save_pickle(\"../pickle/best_action_classifier.p\")"
   ]
  },
  {
   "cell_type": "markdown",
   "metadata": {},
   "source": [
    "## Load best action classifier"
   ]
  },
  {
   "cell_type": "code",
   "execution_count": null,
   "metadata": {
    "pycharm": {
     "name": "#%%\n",
     "is_executing": true
    }
   },
   "outputs": [],
   "source": [
    "action_classifier = classifiers.load_pickle(\"../pickle/best_action_classifier.p\")"
   ]
  },
  {
   "cell_type": "markdown",
   "metadata": {},
   "source": [
    "## Predict live data"
   ]
  },
  {
   "cell_type": "code",
   "execution_count": null,
   "metadata": {
    "pycharm": {
     "name": "#%%\n",
     "is_executing": true
    }
   },
   "outputs": [],
   "source": [
    "#TODO add live predictions when mehmet publishes the UI code"
   ]
  },
  {
   "cell_type": "markdown",
   "metadata": {},
   "source": [
    "# DAB"
   ]
  },
  {
   "cell_type": "code",
   "execution_count": null,
   "metadata": {
    "pycharm": {
     "name": "#%%\n",
     "is_executing": true
    }
   },
   "outputs": [],
   "source": [
    "print(\"dab\")\n"
   ]
  }
 ],
 "metadata": {
  "kernelspec": {
   "display_name": "Python 3",
   "language": "python",
   "name": "python3"
  },
  "language_info": {
   "codemirror_mode": {
    "name": "ipython",
    "version": 3
   },
   "file_extension": ".py",
   "mimetype": "text/x-python",
   "name": "python",
   "nbconvert_exporter": "python",
   "pygments_lexer": "ipython3",
   "version": "3.8.3"
  }
 },
 "nbformat": 4,
 "nbformat_minor": 1
}