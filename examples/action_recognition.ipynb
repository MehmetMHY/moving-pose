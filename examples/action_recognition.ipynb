{
 "cells": [
  {
   "cell_type": "code",
   "execution_count": 2,
   "metadata": {},
   "outputs": [],
   "source": [
    "import sys\n",
    "sys.path.append(\"..\")\n",
    "from sklearn.model_selection import train_test_split\n",
    "import numpy as np\n",
    "\n",
    "from movingpose.estimator import neighbors\n",
    "from movingpose.estimator import classifiers\n",
    "\n",
    "from movingpose.preprocessing import moving_pose\n",
    "from movingpose.preprocessing import kinect_skeleton_data"
   ]
  },
  {
   "cell_type": "markdown",
   "metadata": {},
   "source": [
    "## Pickle multiview action data"
   ]
  },
  {
   "cell_type": "code",
   "execution_count": 3,
   "metadata": {
    "pycharm": {
     "name": "#%%\n"
    }
   },
   "outputs": [
    {
     "name": "stdout",
     "output_type": "stream",
     "text": [
      "Pickling skeleton data...\n",
      "Saving data...\n",
      "Saved data to file: ../pickle/multiview.p\n",
      "Program took 14.910820722579956 to run!\n"
     ]
    }
   ],
   "source": [
    "kinect_skeleton_data.pickle_dir(\"../pickle/multiview.p\", \"../ext/dataset/multiview_action/\")"
   ]
  },
  {
   "cell_type": "markdown",
   "metadata": {},
   "source": [
    "## Load pickled multiview action data"
   ]
  },
  {
   "cell_type": "code",
   "execution_count": 4,
   "metadata": {
    "pycharm": {
     "name": "#%%\n"
    }
   },
   "outputs": [],
   "source": [
    "raw_data_dict = kinect_skeleton_data.load_pickle(\"../pickle/multiview.p\")"
   ]
  },
  {
   "cell_type": "markdown",
   "metadata": {},
   "source": [
    "## Format multiview action data"
   ]
  },
  {
   "cell_type": "code",
   "execution_count": 5,
   "metadata": {
    "pycharm": {
     "name": "#%%\n"
    }
   },
   "outputs": [
    {
     "name": "stdout",
     "output_type": "stream",
     "text": [
      "['drink' 'play guitar' 'read' 'use vacuum cleaner' 'use laptop'\n",
      " 'play guitar' 'call cellphone' 'play guitar' 'sit still' 'play guitar'\n",
      " 'sit down' 'call cellphone' 'use vacuum cleaner' 'sit still' 'sit still'\n",
      " 'drink' 'sit down' 'play game' 'lay down on sofa' 'walking'\n",
      " 'write on paper' 'use laptop' 'use vacuum cleaner' 'drink'\n",
      " 'write on paper' 'write on paper' 'sit still' 'cheer up' 'sit still'\n",
      " 'lay down on sofa' 'play game' 'play guitar' 'sit down' 'sit down'\n",
      " 'write on paper' 'call cellphone' 'stand up' 'use vacuum cleaner'\n",
      " 'use laptop' 'use vacuum cleaner' 'play guitar' 'sit still' 'cheer up'\n",
      " 'call cellphone' 'sit down' 'walking' 'drink' 'write on paper'\n",
      " 'toss paper' 'cheer up' 'play guitar' 'toss paper' 'lay down on sofa'\n",
      " 'walking' 'eat' 'call cellphone' 'use vacuum cleaner' 'sit still' 'eat'\n",
      " 'play guitar' 'read' 'sit still' 'stand up' 'lay down on sofa' 'read'\n",
      " 'lay down on sofa' 'eat' 'toss paper' 'eat' 'call cellphone' 'walking'\n",
      " 'cheer up' 'stand up' 'toss paper' 'use vacuum cleaner' 'toss paper'\n",
      " 'play game' 'sit still' 'write on paper' 'read' 'write on paper'\n",
      " 'play game' 'use vacuum cleaner' 'sit down' 'eat' 'read' 'play game'\n",
      " 'read' 'read' 'play guitar' 'play guitar' 'use vacuum cleaner'\n",
      " 'sit still' 'stand up' 'use vacuum cleaner' 'play guitar'\n",
      " 'lay down on sofa' 'write on paper' 'cheer up' 'cheer up' 'drink'\n",
      " 'cheer up' 'toss paper' 'read' 'drink' 'lay down on sofa'\n",
      " 'write on paper' 'toss paper' 'read' 'drink' 'use vacuum cleaner'\n",
      " 'use laptop' 'call cellphone' 'play guitar' 'use laptop' 'read'\n",
      " 'use laptop' 'play guitar' 'play game' 'call cellphone' 'call cellphone'\n",
      " 'lay down on sofa' 'use vacuum cleaner' 'write on paper' 'cheer up'\n",
      " 'toss paper' 'cheer up' 'drink' 'lay down on sofa' 'play guitar'\n",
      " 'cheer up' 'sit down' 'read' 'eat' 'toss paper' 'drink' 'use laptop'\n",
      " 'drink' 'walking' 'use laptop' 'drink' 'walking' 'lay down on sofa'\n",
      " 'stand up' 'walking' 'sit down' 'walking' 'lay down on sofa' 'play game'\n",
      " 'play game' 'play game' 'walking' 'drink' 'write on paper' 'cheer up'\n",
      " 'eat' 'toss paper' 'call cellphone' 'use laptop' 'call cellphone'\n",
      " 'use vacuum cleaner' 'eat' 'call cellphone' 'stand up' 'stand up'\n",
      " 'sit still' 'stand up' 'cheer up' 'cheer up' 'toss paper' 'use laptop'\n",
      " 'play game' 'write on paper' 'use vacuum cleaner' 'sit still' 'eat'\n",
      " 'write on paper' 'play game' 'drink' 'toss paper' 'stand up' 'play game'\n",
      " 'sit still' 'play guitar' 'walking' 'call cellphone' 'play guitar'\n",
      " 'sit down' 'walking' 'walking' 'play game' 'eat' 'play guitar' 'cheer up'\n",
      " 'read' 'stand up' 'toss paper' 'sit down' 'drink' 'sit down' 'cheer up'\n",
      " 'read' 'use laptop' 'walking' 'lay down on sofa' 'read' 'write on paper'\n",
      " 'read' 'sit still' 'call cellphone' 'write on paper' 'play guitar'\n",
      " 'walking' 'use laptop' 'call cellphone' 'use laptop' 'eat' 'play guitar'\n",
      " 'stand up' 'drink' 'eat' 'stand up' 'use vacuum cleaner' 'write on paper'\n",
      " 'play game' 'sit down' 'read' 'use laptop' 'sit down' 'drink'\n",
      " 'lay down on sofa' 'eat' 'toss paper' 'use vacuum cleaner' 'walking'\n",
      " 'write on paper' 'play game' 'play game' 'cheer up' 'sit down' 'drink'\n",
      " 'use laptop' 'read' 'use vacuum cleaner' 'lay down on sofa' 'walking'\n",
      " 'stand up' 'toss paper' 'cheer up' 'walking' 'sit down' 'sit down'\n",
      " 'play game' 'eat' 'eat' 'sit down' 'drink' 'sit down'\n",
      " 'use vacuum cleaner' 'lay down on sofa' 'write on paper' 'stand up'\n",
      " 'play game' 'stand up' 'read' 'cheer up' 'use laptop' 'walking'\n",
      " 'stand up' 'play game' 'drink' 'lay down on sofa' 'call cellphone' 'eat'\n",
      " 'use laptop' 'call cellphone' 'walking' 'cheer up' 'call cellphone'\n",
      " 'toss paper' 'eat' 'drink' 'play game' 'sit down' 'use vacuum cleaner'\n",
      " 'write on paper' 'toss paper' 'sit still' 'lay down on sofa' 'eat'\n",
      " 'sit still' 'lay down on sofa' 'sit down' 'use laptop' 'cheer up' 'eat'\n",
      " 'lay down on sofa' 'use laptop' 'sit still' 'read' 'use vacuum cleaner'\n",
      " 'toss paper' 'stand up' 'sit still' 'sit still' 'play guitar' 'stand up'\n",
      " 'sit still' 'call cellphone' 'write on paper' 'stand up' 'stand up'\n",
      " 'toss paper' 'read' 'toss paper' 'eat' 'walking' 'call cellphone'\n",
      " 'use laptop' 'lay down on sofa']\n"
     ]
    },
    {
     "name": "stderr",
     "output_type": "stream",
     "text": [
      "/home/mobley/Documents/mines/machine-learning/CSCI470-Final/movingpose/preprocessing/moving_pose.py:103: VisibleDeprecationWarning: Creating an ndarray from ragged nested sequences (which is a list-or-tuple of lists-or-tuples-or ndarrays with different lengths or shapes) is deprecated. If you meant to do this, you must specify 'dtype=object' when creating the ndarray\n",
      "  return np.array(X), labels\n"
     ]
    }
   ],
   "source": [
    "X, labels = moving_pose.format_skeleton_data_dict(raw_data_dict)"
   ]
  },
  {
   "cell_type": "markdown",
   "metadata": {},
   "source": [
    "## Perform basic verification skeleton data is formatted correctly"
   ]
  },
  {
   "cell_type": "code",
   "execution_count": 6,
   "metadata": {
    "pycharm": {
     "name": "#%%\n"
    }
   },
   "outputs": [
    {
     "ename": "AssertionError",
     "evalue": "2.0 =/= 0",
     "output_type": "error",
     "traceback": [
      "\u001B[0;31m---------------------------------------------------------------------------\u001B[0m",
      "\u001B[0;31mAssertionError\u001B[0m                            Traceback (most recent call last)",
      "\u001B[0;32m<ipython-input-6-9899ed90ac3d>\u001B[0m in \u001B[0;36m<module>\u001B[0;34m\u001B[0m\n\u001B[1;32m      2\u001B[0m     \u001B[0;32mfor\u001B[0m \u001B[0mi\u001B[0m \u001B[0;32min\u001B[0m \u001B[0mrange\u001B[0m\u001B[0;34m(\u001B[0m\u001B[0;36m0\u001B[0m\u001B[0;34m,\u001B[0m \u001B[0mlen\u001B[0m\u001B[0;34m(\u001B[0m\u001B[0maction_data\u001B[0m\u001B[0;34m)\u001B[0m\u001B[0;34m,\u001B[0m \u001B[0;36m20\u001B[0m\u001B[0;34m)\u001B[0m\u001B[0;34m:\u001B[0m\u001B[0;34m\u001B[0m\u001B[0;34m\u001B[0m\u001B[0m\n\u001B[1;32m      3\u001B[0m         \u001B[0;32massert\u001B[0m \u001B[0mlist\u001B[0m\u001B[0;34m(\u001B[0m\u001B[0maction_data\u001B[0m\u001B[0;34m[\u001B[0m\u001B[0mi\u001B[0m\u001B[0;34m]\u001B[0m\u001B[0;34m[\u001B[0m\u001B[0;34m:\u001B[0m\u001B[0;34m-\u001B[0m\u001B[0;36m1\u001B[0m\u001B[0;34m]\u001B[0m\u001B[0;34m)\u001B[0m \u001B[0;34m==\u001B[0m \u001B[0;34m[\u001B[0m\u001B[0;36m0\u001B[0m\u001B[0;34m,\u001B[0m \u001B[0;36m0\u001B[0m\u001B[0;34m,\u001B[0m \u001B[0;36m0\u001B[0m\u001B[0;34m,\u001B[0m \u001B[0;36m0\u001B[0m\u001B[0;34m,\u001B[0m \u001B[0;36m0\u001B[0m\u001B[0;34m,\u001B[0m \u001B[0;36m0\u001B[0m\u001B[0;34m,\u001B[0m \u001B[0;36m0\u001B[0m\u001B[0;34m,\u001B[0m \u001B[0;36m0\u001B[0m\u001B[0;34m,\u001B[0m \u001B[0;36m0\u001B[0m\u001B[0;34m]\u001B[0m\u001B[0;34m\u001B[0m\u001B[0;34m\u001B[0m\u001B[0m\n\u001B[0;32m----> 4\u001B[0;31m         \u001B[0;32massert\u001B[0m \u001B[0maction_data\u001B[0m\u001B[0;34m[\u001B[0m\u001B[0mi\u001B[0m\u001B[0;34m]\u001B[0m\u001B[0;34m[\u001B[0m\u001B[0;34m-\u001B[0m\u001B[0;36m1\u001B[0m\u001B[0;34m]\u001B[0m \u001B[0;34m==\u001B[0m \u001B[0mi\u001B[0m\u001B[0;34m//\u001B[0m\u001B[0;36m20\u001B[0m\u001B[0;34m,\u001B[0m \u001B[0;34mf\"{action_data[i][-1]} =/= {i//20}\"\u001B[0m\u001B[0;34m\u001B[0m\u001B[0;34m\u001B[0m\u001B[0m\n\u001B[0m\u001B[1;32m      5\u001B[0m \u001B[0;34m\u001B[0m\u001B[0m\n",
      "\u001B[0;31mAssertionError\u001B[0m: 2.0 =/= 0"
     ]
    }
   ],
   "source": [
    "for action_data in X:\n",
    "    for i in range(0, len(action_data), 20):\n",
    "        assert list(action_data[i][:-1]) == [0, 0, 0, 0, 0, 0, 0, 0, 0]\n",
    "        assert action_data[i][-1] == i//20, f\"{action_data[i][-1]} =/= {i//20}\""
   ]
  },
  {
   "cell_type": "markdown",
   "metadata": {},
   "source": [
    "## Create train/test split"
   ]
  },
  {
   "cell_type": "code",
   "execution_count": null,
   "metadata": {
    "pycharm": {
     "name": "#%%\n"
    }
   },
   "outputs": [],
   "source": [
    "X_train, X_test, y_train, y_test = train_test_split(X, labels, random_state=42)"
   ]
  },
  {
   "cell_type": "markdown",
   "metadata": {},
   "source": [
    "## Train Action Classifier with normalized training data"
   ]
  },
  {
   "cell_type": "code",
   "execution_count": null,
   "metadata": {
    "pycharm": {
     "name": "#%%\n"
    },
    "scrolled": true
   },
   "outputs": [],
   "source": [
    "best_score = sys.maxsize\n",
    "best_action_classifier = None\n",
    "for n_neighbors in range(5, 15, 5):\n",
    "    for n_training_neighbors in range(10, 40, 10):\n",
    "        for alpha in np.arange(0.2, 0.8, 0.1):\n",
    "            for beta in np.arange(0.1, 0.5, 0.1):\n",
    "                for kappa in range(3, 10, 1):\n",
    "                    nearest_descriptor_estimator = neighbors.NearestPoses(\n",
    "                        n_neighbors=n_neighbors,\n",
    "                        n_training_neighbors=n_training_neighbors,\n",
    "                        alpha=alpha,\n",
    "                        beta=beta,\n",
    "                        kappa=kappa\n",
    "                    )\n",
    "                    for theta in np.arange(0.2, 0.8, 0.05):\n",
    "                        for n in range(5, 15, 1):\n",
    "                            action_classifier = classifiers.ActionClassifier(\n",
    "                                nearest_descriptor_estimator=nearest_descriptor_estimator,\n",
    "                                theta=theta,\n",
    "                                n=n\n",
    "                            )\n",
    "                            action_classifier.fit(X_train, y_train)\n",
    "                            y_pred = action_classifier.predict(X_test)\n",
    "\n",
    "                            diff = 0\n",
    "                            for pred, actual in zip(y_pred, y_test):\n",
    "                                diff += abs(pred - actual)\n",
    "\n",
    "                            if diff < best_score:\n",
    "                                best_score = diff\n",
    "                                best_action_classifier = action_classifier"
   ]
  },
  {
   "cell_type": "markdown",
   "metadata": {},
   "source": [
    "## Print best action classifier and its score"
   ]
  },
  {
   "cell_type": "code",
   "execution_count": null,
   "metadata": {
    "pycharm": {
     "name": "#%%\n"
    }
   },
   "outputs": [],
   "source": [
    "print(f\"The best action classifier was {best_action_classifier}\")\n",
    "print(\"\\n--------------\\n\")\n",
    "print(f\"Its score was: {best_score}\")"
   ]
  },
  {
   "cell_type": "markdown",
   "metadata": {},
   "source": [
    "## Save the best action classifier"
   ]
  },
  {
   "cell_type": "code",
   "execution_count": null,
   "metadata": {
    "pycharm": {
     "name": "#%%\n"
    }
   },
   "outputs": [],
   "source": [
    "best_action_classifier.save_pickle(\"../pickle/best_action_classifier.p\")"
   ]
  },
  {
   "cell_type": "markdown",
   "metadata": {},
   "source": [
    "## Load best action classifier"
   ]
  },
  {
   "cell_type": "code",
   "execution_count": null,
   "metadata": {
    "pycharm": {
     "name": "#%%\n"
    }
   },
   "outputs": [],
   "source": [
    "action_classifier = classifiers.load_pickle(\"../pickle/best_action_classifier.p\")"
   ]
  },
  {
   "cell_type": "markdown",
   "metadata": {},
   "source": [
    "## Predict live data"
   ]
  },
  {
   "cell_type": "code",
   "execution_count": null,
   "metadata": {
    "pycharm": {
     "name": "#%%\n"
    }
   },
   "outputs": [],
   "source": [
    "#TODO add live predictions when mehmet publishes the UI code"
   ]
  },
  {
   "cell_type": "markdown",
   "metadata": {},
   "source": [
    "# DAB"
   ]
  },
  {
   "cell_type": "code",
   "execution_count": null,
   "metadata": {
    "pycharm": {
     "name": "#%%\n"
    }
   },
   "outputs": [],
   "source": [
    "print(\"dab\")\n"
   ]
  }
 ],
 "metadata": {
  "kernelspec": {
   "display_name": "Python 3",
   "language": "python",
   "name": "python3"
  },
  "language_info": {
   "codemirror_mode": {
    "name": "ipython",
    "version": 3
   },
   "file_extension": ".py",
   "mimetype": "text/x-python",
   "name": "python",
   "nbconvert_exporter": "python",
   "pygments_lexer": "ipython3",
   "version": "3.8.6"
  }
 },
 "nbformat": 4,
 "nbformat_minor": 1
}