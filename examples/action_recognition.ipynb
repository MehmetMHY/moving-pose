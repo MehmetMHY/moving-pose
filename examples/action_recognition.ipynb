{
 "cells": [
  {
   "cell_type": "code",
   "execution_count": 1,
   "metadata": {},
   "outputs": [],
   "source": [
    "import multiprocessing\n",
    "import os\n",
    "import sys\n",
    "from sklearn.model_selection import train_test_split\n",
    "\n",
    "sys.path.append(\"..\")\n",
    "\n",
    "from movingpose.estimator import neighbors\n",
    "from movingpose.estimator import classifiers\n",
    "\n",
    "from movingpose.preprocessing import moving_pose\n",
    "from movingpose.preprocessing import kinect_skeleton_data"
   ]
  },
  {
   "cell_type": "markdown",
   "metadata": {},
   "source": [
    "## Pickle multiview action data"
   ]
  },
  {
   "cell_type": "code",
   "execution_count": 2,
   "metadata": {
    "pycharm": {
     "name": "#%%\n"
    }
   },
   "outputs": [
    {
     "name": "stdout",
     "output_type": "stream",
     "text": [
      "Pickling skeleton data...\n",
      "Saving data...\n",
      "Saved data to file: ../pickle/multiview.p\n",
      "Program took 16.7268705368042 to run!\n"
     ]
    }
   ],
   "source": [
    "kinect_skeleton_data.pickle_dir(\"../pickle/multiview.p\", \"../ext/dataset/multiview_action/\")"
   ]
  },
  {
   "cell_type": "markdown",
   "metadata": {},
   "source": [
    "## Load pickled multiview action data"
   ]
  },
  {
   "cell_type": "code",
   "execution_count": 3,
   "metadata": {
    "pycharm": {
     "name": "#%%\n"
    }
   },
   "outputs": [],
   "source": [
    "raw_data_dict = kinect_skeleton_data.load_pickle(\"../pickle/multiview.p\")"
   ]
  },
  {
   "cell_type": "markdown",
   "metadata": {},
   "source": [
    "## Format multiview action data"
   ]
  },
  {
   "cell_type": "code",
   "execution_count": 4,
   "metadata": {
    "pycharm": {
     "name": "#%%\n"
    }
   },
   "outputs": [],
   "source": [
    "X, labels = moving_pose.format_skeleton_data_dict(raw_data_dict)"
   ]
  },
  {
   "cell_type": "markdown",
   "metadata": {},
   "source": [
    "## Perform basic verification that skeleton data is formatted correctly"
   ]
  },
  {
   "cell_type": "code",
   "execution_count": 5,
   "metadata": {
    "pycharm": {
     "name": "#%%\n"
    }
   },
   "outputs": [],
   "source": [
    "for action in X:\n",
    "    for frame_num, pose in enumerate(action):\n",
    "        assert pose.shape == (20, 10), f\"{pose.shape} =/= (20, 10)\"\n",
    "        for i, descriptor in enumerate(pose):\n",
    "            if i == 0:\n",
    "                assert list(descriptor)[:-1] == [0, 0, 0, 0, 0, 0, 0, 0, 0]\n",
    "            assert descriptor[-1] == frame_num, f\"{descriptor[-1]} =/= {frame_num}\""
   ]
  },
  {
   "cell_type": "markdown",
   "metadata": {},
   "source": [
    "## Create train/test split"
   ]
  },
  {
   "cell_type": "code",
   "execution_count": 6,
   "metadata": {
    "pycharm": {
     "name": "#%%\n"
    }
   },
   "outputs": [],
   "source": [
    "X_train, X_test, y_train, y_test = train_test_split(X, labels, random_state=42)"
   ]
  },
  {
   "cell_type": "markdown",
   "metadata": {
    "pycharm": {
     "name": "#%% md\n"
    }
   },
   "source": [
    "## Pickle Action Classifiers"
   ]
  },
  {
   "cell_type": "code",
   "execution_count": 7,
   "metadata": {
    "pycharm": {
     "name": "#%%\n"
    }
   },
   "outputs": [],
   "source": [
    "def pickle_action_classifiers(n_training_neighbors, cache_path):\n",
    "    nearest_pose_estimator = neighbors.NearestPoses(\n",
    "        n_neighbors=20,\n",
    "        n_training_neighbors=n_training_neighbors,\n",
    "        alpha=0.75,\n",
    "        beta=0.6,\n",
    "        kappa=80\n",
    "    )\n",
    "    action_classifier = classifiers.ActionClassifier(\n",
    "        nearest_pose_estimator=nearest_pose_estimator,\n",
    "        theta=0.5,\n",
    "        n=80\n",
    "    )\n",
    "    action_classifier.fit(\n",
    "        X_train,\n",
    "        y_train,\n",
    "        cache_path=cache_path,\n",
    "        verbose=True\n",
    "    )\n",
    "\n",
    "cache_workers = []\n",
    "for n_training_neighbors in [2000, 5000, 10000, 20000, 30000, 40000]:\n",
    "    cache_path = f\"../pickle/action_classifier_training-{str(n_training_neighbors)}.p\"\n",
    "    if not os.path.exists(cache_path):\n",
    "        worker = multiprocessing.Process(\n",
    "            target=\n",
    "                pickle_action_classifiers,\n",
    "            args=(\n",
    "                n_training_neighbors,\n",
    "                cache_path\n",
    "            )\n",
    "        )\n",
    "        cache_workers.append(worker)\n",
    "\n",
    "for cache_worker in cache_workers:\n",
    "    cache_worker.start()\n",
    "    \n",
    "for cache_worker in cache_workers:\n",
    "    cache_worker.join()"
   ]
  },
  {
   "cell_type": "markdown",
   "metadata": {},
   "source": [
    "## Train Action Classifier with normalized training data"
   ]
  },
  {
   "cell_type": "code",
   "execution_count": null,
   "metadata": {
    "pycharm": {
     "name": "#%%\n",
     "is_executing": true
    }
   },
   "outputs": [],
   "source": [
    "def score(return_dict, n_neighbors, n_training_neighbors, alpha, beta, kappa, theta, n):\n",
    "    nearest_pose_estimator = neighbors.NearestPoses(\n",
    "        n_neighbors=n_neighbors,\n",
    "        n_training_neighbors=n_training_neighbors,\n",
    "        alpha=alpha,\n",
    "        beta=beta,\n",
    "        kappa=kappa\n",
    "    )\n",
    "    action_classifier = classifiers.ActionClassifier(\n",
    "        nearest_pose_estimator=nearest_pose_estimator,\n",
    "        theta=theta,\n",
    "        n=n\n",
    "    )\n",
    "    action_classifier.fit(\n",
    "        X_train,\n",
    "        y_train,\n",
    "        cache_path=f\"../pickle/action_classifier_training-{str(n_training_neighbors)}.p\"\n",
    "    )\n",
    "    y_pred = action_classifier.predict_all(X_test, verbose=False)\n",
    "\n",
    "    result = 0\n",
    "    for pred, actual in zip(y_pred, y_test):\n",
    "        result += 1 if pred == actual else 0\n",
    "\n",
    "    best_score = return_dict[\"best\"]\n",
    "    if result > best_score:\n",
    "        print(f\"Correctly predicted {result}/{len(y_pred)}\")\n",
    "        return_dict[\"best\"] = result\n",
    "        action_classifier.save_pickle(\"../pickle/best_action_classifier.p\")\n",
    "\n",
    "\n",
    "manager = multiprocessing.Manager()\n",
    "return_dict = manager.dict()\n",
    "return_dict[\"best\"] = 0\n",
    "workers = []\n",
    "\n",
    "for kappa in [50, 100]:\n",
    "    for n in [50, 100]:\n",
    "        for theta in [0.4, 0.6]:\n",
    "            for n_neighbors in [50, 100]:\n",
    "                for n_training_neighbors in [2000, 5000, 20000, 40000]:\n",
    "                    for alpha in [0.75]:\n",
    "                        for beta in [0.6]:\n",
    "                            worker = multiprocessing.Process(\n",
    "                                target=\n",
    "                                    score,\n",
    "                                args=(\n",
    "                                    return_dict,\n",
    "                                    n_neighbors,\n",
    "                                    n_training_neighbors,\n",
    "                                    alpha,\n",
    "                                    beta,\n",
    "                                    kappa,\n",
    "                                    theta,\n",
    "                                    n\n",
    "                                )\n",
    "                            )\n",
    "                            workers.append(worker)\n",
    "\n",
    "num_cpu_cores = os.getenv(\"NUM_CPU_CORES\")\n",
    "if num_cpu_cores is None:\n",
    "    num_cpu_cores = input(\"Enter the number of CPU cores this computer has (ex. '12'): \")\n",
    "num_cpu_cores = max(1, int(num_cpu_cores) - 4)\n",
    "\n",
    "num_workers_executed = num_cpu_cores\n",
    "while num_workers_executed - num_cpu_cores < len(workers):\n",
    "    for i in range(num_cpu_cores, max(num_workers_executed - len(workers), 0), -1):\n",
    "        workers[num_workers_executed - i].start()\n",
    "    for i in range(num_cpu_cores, max(num_workers_executed - len(workers), 0), -1):\n",
    "        workers[num_workers_executed - i].join()\n",
    "    num_workers_executed += num_cpu_cores\n"
   ]
  }
 ],
 "metadata": {
  "kernelspec": {
   "display_name": "Python 3",
   "language": "python",
   "name": "python3"
  }
 },
 "nbformat": 4,
 "nbformat_minor": 1
}