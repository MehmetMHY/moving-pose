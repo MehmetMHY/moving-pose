{
 "cells": [
  {
   "cell_type": "code",
   "execution_count": 1,
   "metadata": {},
   "outputs": [],
   "source": [
    "import multiprocessing\n",
    "import os\n",
    "import sys\n",
    "sys.path.append(\"..\")\n",
    "from sklearn.model_selection import train_test_split\n",
    "\n",
    "from movingpose.estimator import neighbors\n",
    "from movingpose.estimator import classifiers\n",
    "\n",
    "from movingpose.preprocessing import moving_pose\n",
    "from movingpose.preprocessing import kinect_skeleton_data"
   ]
  },
  {
   "cell_type": "markdown",
   "metadata": {},
   "source": [
    "## Pickle multiview action data"
   ]
  },
  {
   "cell_type": "code",
   "execution_count": 2,
   "metadata": {
    "pycharm": {
     "name": "#%%\n"
    }
   },
   "outputs": [
    {
     "name": "stdout",
     "output_type": "stream",
     "text": [
      "Pickling skeleton data...\n",
      "Saving data...\n",
      "Saved data to file: ../pickle/multiview.p\n",
      "Program took 16.507559061050415 to run!\n"
     ]
    }
   ],
   "source": [
    "kinect_skeleton_data.pickle_dir(\"../pickle/multiview.p\", \"../ext/dataset/multiview_action/\")"
   ]
  },
  {
   "cell_type": "markdown",
   "metadata": {},
   "source": [
    "## Load pickled multiview action data"
   ]
  },
  {
   "cell_type": "code",
   "execution_count": 2,
   "metadata": {
    "pycharm": {
     "name": "#%%\n"
    }
   },
   "outputs": [],
   "source": [
    "raw_data_dict = kinect_skeleton_data.load_pickle(\"../pickle/multiview.p\")"
   ]
  },
  {
   "cell_type": "markdown",
   "metadata": {},
   "source": [
    "## Format multiview action data"
   ]
  },
  {
   "cell_type": "code",
   "execution_count": 3,
   "metadata": {
    "pycharm": {
     "name": "#%%\n"
    }
   },
   "outputs": [],
   "source": [
    "X, labels = moving_pose.format_skeleton_data_dict(raw_data_dict)"
   ]
  },
  {
   "cell_type": "markdown",
   "metadata": {},
   "source": [
    "## Perform basic verification that skeleton data is formatted correctly"
   ]
  },
  {
   "cell_type": "code",
   "execution_count": 4,
   "metadata": {
    "pycharm": {
     "name": "#%%\n"
    }
   },
   "outputs": [
    {
     "ename": "AssertionError",
     "evalue": "",
     "output_type": "error",
     "traceback": [
      "\u001b[0;31m---------------------------------------------------------------------------\u001b[0m",
      "\u001b[0;31mAssertionError\u001b[0m                            Traceback (most recent call last)",
      "\u001b[0;32m<ipython-input-4-9c85f522366d>\u001b[0m in \u001b[0;36m<module>\u001b[0;34m\u001b[0m\n\u001b[1;32m      4\u001b[0m         \u001b[0;32mfor\u001b[0m \u001b[0mi\u001b[0m\u001b[0;34m,\u001b[0m \u001b[0mdescriptor\u001b[0m \u001b[0;32min\u001b[0m \u001b[0menumerate\u001b[0m\u001b[0;34m(\u001b[0m\u001b[0mpose\u001b[0m\u001b[0;34m)\u001b[0m\u001b[0;34m:\u001b[0m\u001b[0;34m\u001b[0m\u001b[0;34m\u001b[0m\u001b[0m\n\u001b[1;32m      5\u001b[0m             \u001b[0;32mif\u001b[0m \u001b[0mi\u001b[0m \u001b[0;34m==\u001b[0m \u001b[0;36m0\u001b[0m\u001b[0;34m:\u001b[0m\u001b[0;34m\u001b[0m\u001b[0;34m\u001b[0m\u001b[0m\n\u001b[0;32m----> 6\u001b[0;31m                 \u001b[0;32massert\u001b[0m \u001b[0mlist\u001b[0m\u001b[0;34m(\u001b[0m\u001b[0mdescriptor\u001b[0m\u001b[0;34m)\u001b[0m\u001b[0;34m[\u001b[0m\u001b[0;34m:\u001b[0m\u001b[0;34m-\u001b[0m\u001b[0;36m1\u001b[0m\u001b[0;34m]\u001b[0m \u001b[0;34m==\u001b[0m \u001b[0;34m[\u001b[0m\u001b[0;36m0\u001b[0m\u001b[0;34m,\u001b[0m \u001b[0;36m0\u001b[0m\u001b[0;34m,\u001b[0m \u001b[0;36m0\u001b[0m\u001b[0;34m,\u001b[0m \u001b[0;36m0\u001b[0m\u001b[0;34m,\u001b[0m \u001b[0;36m0\u001b[0m\u001b[0;34m,\u001b[0m \u001b[0;36m0\u001b[0m\u001b[0;34m,\u001b[0m \u001b[0;36m0\u001b[0m\u001b[0;34m,\u001b[0m \u001b[0;36m0\u001b[0m\u001b[0;34m,\u001b[0m \u001b[0;36m0\u001b[0m\u001b[0;34m]\u001b[0m\u001b[0;34m\u001b[0m\u001b[0;34m\u001b[0m\u001b[0m\n\u001b[0m\u001b[1;32m      7\u001b[0m             \u001b[0;32massert\u001b[0m \u001b[0mdescriptor\u001b[0m\u001b[0;34m[\u001b[0m\u001b[0;34m-\u001b[0m\u001b[0;36m1\u001b[0m\u001b[0;34m]\u001b[0m \u001b[0;34m==\u001b[0m \u001b[0mframe_num\u001b[0m\u001b[0;34m,\u001b[0m \u001b[0;34mf\"{descriptor[-1]} =/= {frame_num}\"\u001b[0m\u001b[0;34m\u001b[0m\u001b[0;34m\u001b[0m\u001b[0m\n",
      "\u001b[0;31mAssertionError\u001b[0m: "
     ]
    }
   ],
   "source": [
    "for action in X:\n",
    "    for frame_num, pose in enumerate(action):\n",
    "        assert pose.shape == (20, 10), f\"{pose.shape} =/= (20, 10)\"\n",
    "        for i, descriptor in enumerate(pose):\n",
    "            if i == 0:\n",
    "                assert list(descriptor)[:-1] == [0, 0, 0, 0, 0, 0, 0, 0, 0]\n",
    "            assert descriptor[-1] == frame_num, f\"{descriptor[-1]} =/= {frame_num}\""
   ]
  },
  {
   "cell_type": "markdown",
   "metadata": {},
   "source": [
    "## Create train/test split"
   ]
  },
  {
   "cell_type": "code",
   "execution_count": 6,
   "metadata": {
    "pycharm": {
     "name": "#%%\n"
    }
   },
   "outputs": [],
   "source": [
    "X_train, X_test, y_train, y_test = train_test_split(X, labels, random_state=42)"
   ]
  },
  {
   "cell_type": "markdown",
   "metadata": {
    "pycharm": {
     "name": "#%% md\n"
    }
   },
   "source": [
    "## Pickle Action Classifiers"
   ]
  },
  {
   "cell_type": "code",
   "execution_count": 7,
   "metadata": {
    "pycharm": {
     "name": "#%%\n"
    }
   },
   "outputs": [],
   "source": [
    "for n_training_neighbors in [2000, 5000, 10000, 20000, 30000, 40000]:\n",
    "    nearest_pose_estimator = neighbors.NearestPoses(\n",
    "        n_neighbors=20,\n",
    "        n_training_neighbors=n_training_neighbors,\n",
    "        alpha=0.75,\n",
    "        beta=0.6,\n",
    "        kappa=80\n",
    "    )\n",
    "    action_classifier = classifiers.ActionClassifier(\n",
    "        nearest_pose_estimator=nearest_pose_estimator,\n",
    "        theta=0.5,\n",
    "        n=80\n",
    "    )\n",
    "    action_classifier.fit(\n",
    "        X_train,\n",
    "        y_train,\n",
    "        cache_path=f\"../pickle/action_classifier_training-{str(n_training_neighbors)}.p\"\n",
    "    )"
   ]
  },
  {
   "cell_type": "markdown",
   "metadata": {},
   "source": [
    "## Train Action Classifier with normalized training data"
   ]
  },
  {
   "cell_type": "code",
   "execution_count": 8,
   "metadata": {
    "pycharm": {
     "name": "#%%\n"
    },
    "scrolled": true
   },
   "outputs": [
    {
     "name": "stderr",
     "output_type": "stream",
     "text": [
      "Process Process-7:\n",
      "Traceback (most recent call last):\n",
      "  File \"/usr/lib/python3.8/multiprocessing/process.py\", line 315, in _bootstrap\n",
      "    self.run()\n",
      "Process Process-3:\n",
      "Traceback (most recent call last):\n",
      "  File \"/usr/lib/python3.8/multiprocessing/process.py\", line 315, in _bootstrap\n",
      "    self.run()\n",
      "  File \"/usr/lib/python3.8/multiprocessing/process.py\", line 108, in run\n",
      "    self._target(*self._args, **self._kwargs)\n",
      "  File \"<ipython-input-8-9b4ccb8b587b>\", line 19, in predict\n",
      "    result = action_classifier.predict_all(X_test)\n",
      "  File \"/usr/lib/python3.8/multiprocessing/process.py\", line 108, in run\n",
      "    self._target(*self._args, **self._kwargs)\n",
      "  File \"/home/mobley/Documents/repos/yuk/skeleton-representations-and-classifications/movingpose/estimator/classifiers.py\", line 119, in predict_all\n",
      "    return [self.predict(X, poses_are_normalized) for X in Xs]\n",
      "  File \"<ipython-input-8-9b4ccb8b587b>\", line 19, in predict\n",
      "    result = action_classifier.predict_all(X_test)\n",
      "  File \"/home/mobley/Documents/repos/yuk/skeleton-representations-and-classifications/movingpose/estimator/classifiers.py\", line 119, in predict_all\n",
      "    return [self.predict(X, poses_are_normalized) for X in Xs]\n",
      "  File \"/home/mobley/Documents/repos/yuk/skeleton-representations-and-classifications/movingpose/estimator/classifiers.py\", line 119, in <listcomp>\n",
      "    return [self.predict(X, poses_are_normalized) for X in Xs]\n",
      "Process Process-4:\n",
      "  File \"/home/mobley/Documents/repos/yuk/skeleton-representations-and-classifications/movingpose/estimator/classifiers.py\", line 119, in <listcomp>\n",
      "    return [self.predict(X, poses_are_normalized) for X in Xs]\n",
      "  File \"/home/mobley/Documents/repos/yuk/skeleton-representations-and-classifications/movingpose/estimator/classifiers.py\", line 95, in predict\n",
      "    for nearby_pose, score in self.nearest_pose_estimator.k_poses(pose):\n",
      "  File \"/home/mobley/Documents/repos/yuk/skeleton-representations-and-classifications/movingpose/estimator/neighbors.py\", line 196, in k_poses\n",
      "    traditional_knn = KNeighborsClassifier(n_neighbors=self.n_neighbors).fit(relevant_poses, relevant_labels_v)\n",
      "Traceback (most recent call last):\n",
      "  File \"/home/mobley/Documents/repos/yuk/skeleton-representations-and-classifications/venv/lib/python3.8/site-packages/sklearn/neighbors/_base.py\", line 1150, in fit\n",
      "    classes, self._y[:, k] = np.unique(y[:, k], return_inverse=True)\n",
      "  File \"/home/mobley/Documents/repos/yuk/skeleton-representations-and-classifications/venv/lib/python3.8/site-packages/numpy/lib/arraysetops.py\", line 261, in unique\n",
      "    ret = _unique1d(ar, return_index, return_inverse, return_counts)\n",
      "  File \"/usr/lib/python3.8/multiprocessing/process.py\", line 315, in _bootstrap\n",
      "    self.run()\n",
      "  File \"<__array_function__ internals>\", line 5, in unique\n",
      "  File \"/home/mobley/Documents/repos/yuk/skeleton-representations-and-classifications/venv/lib/python3.8/site-packages/numpy/lib/arraysetops.py\", line 332, in _unique1d\n",
      "    imask = np.cumsum(mask) - 1\n",
      "  File \"<__array_function__ internals>\", line 5, in cumsum\n",
      "  File \"/home/mobley/Documents/repos/yuk/skeleton-representations-and-classifications/venv/lib/python3.8/site-packages/numpy/core/fromnumeric.py\", line 2483, in cumsum\n",
      "    return _wrapfunc(a, 'cumsum', axis=axis, dtype=dtype, out=out)\n",
      "  File \"/home/mobley/Documents/repos/yuk/skeleton-representations-and-classifications/venv/lib/python3.8/site-packages/numpy/core/fromnumeric.py\", line 58, in _wrapfunc\n",
      "    return bound(*args, **kwds)\n",
      "KeyboardInterrupt\n",
      "  File \"/home/mobley/Documents/repos/yuk/skeleton-representations-and-classifications/movingpose/estimator/classifiers.py\", line 95, in predict\n",
      "    for nearby_pose, score in self.nearest_pose_estimator.k_poses(pose):\n",
      "  File \"/home/mobley/Documents/repos/yuk/skeleton-representations-and-classifications/movingpose/estimator/neighbors.py\", line 196, in k_poses\n",
      "    traditional_knn = KNeighborsClassifier(n_neighbors=self.n_neighbors).fit(relevant_poses, relevant_labels_v)\n",
      "  File \"/home/mobley/Documents/repos/yuk/skeleton-representations-and-classifications/venv/lib/python3.8/site-packages/sklearn/neighbors/_base.py\", line 1131, in fit\n",
      "    X, y = self._validate_data(X, y, accept_sparse=\"csr\",\n",
      "  File \"/usr/lib/python3.8/multiprocessing/process.py\", line 108, in run\n",
      "    self._target(*self._args, **self._kwargs)\n",
      "  File \"<ipython-input-8-9b4ccb8b587b>\", line 19, in predict\n",
      "    result = action_classifier.predict_all(X_test)\n",
      "  File \"/home/mobley/Documents/repos/yuk/skeleton-representations-and-classifications/venv/lib/python3.8/site-packages/sklearn/base.py\", line 432, in _validate_data\n",
      "    X, y = check_X_y(X, y, **check_params)\n",
      "  File \"/home/mobley/Documents/repos/yuk/skeleton-representations-and-classifications/venv/lib/python3.8/site-packages/sklearn/utils/validation.py\", line 72, in inner_f\n",
      "    return f(**kwargs)\n",
      "  File \"/home/mobley/Documents/repos/yuk/skeleton-representations-and-classifications/venv/lib/python3.8/site-packages/sklearn/utils/validation.py\", line 795, in check_X_y\n",
      "    X = check_array(X, accept_sparse=accept_sparse,\n",
      "  File \"/home/mobley/Documents/repos/yuk/skeleton-representations-and-classifications/movingpose/estimator/classifiers.py\", line 119, in predict_all\n",
      "    return [self.predict(X, poses_are_normalized) for X in Xs]\n",
      "  File \"/home/mobley/Documents/repos/yuk/skeleton-representations-and-classifications/venv/lib/python3.8/site-packages/sklearn/utils/validation.py\", line 72, in inner_f\n",
      "    return f(**kwargs)\n",
      "  File \"/home/mobley/Documents/repos/yuk/skeleton-representations-and-classifications/movingpose/estimator/classifiers.py\", line 119, in <listcomp>\n",
      "    return [self.predict(X, poses_are_normalized) for X in Xs]\n",
      "  File \"/home/mobley/Documents/repos/yuk/skeleton-representations-and-classifications/movingpose/estimator/classifiers.py\", line 95, in predict\n",
      "    for nearby_pose, score in self.nearest_pose_estimator.k_poses(pose):\n",
      "  File \"/home/mobley/Documents/repos/yuk/skeleton-representations-and-classifications/movingpose/estimator/neighbors.py\", line 196, in k_poses\n",
      "    traditional_knn = KNeighborsClassifier(n_neighbors=self.n_neighbors).fit(relevant_poses, relevant_labels_v)\n",
      "  File \"/home/mobley/Documents/repos/yuk/skeleton-representations-and-classifications/venv/lib/python3.8/site-packages/sklearn/utils/validation.py\", line 598, in check_array\n",
      "    array = np.asarray(array, order=order, dtype=dtype)\n",
      "  File \"/home/mobley/Documents/repos/yuk/skeleton-representations-and-classifications/venv/lib/python3.8/site-packages/sklearn/neighbors/_base.py\", line 1157, in fit\n",
      "    return self._fit(X)\n",
      "  File \"/home/mobley/Documents/repos/yuk/skeleton-representations-and-classifications/venv/lib/python3.8/site-packages/numpy/core/_asarray.py\", line 83, in asarray\n",
      "    return array(a, dtype, copy=False, order=order)\n",
      "  File \"/home/mobley/Documents/repos/yuk/skeleton-representations-and-classifications/venv/lib/python3.8/site-packages/sklearn/neighbors/_base.py\", line 456, in _fit\n",
      "    self._tree = KDTree(X, self.leaf_size,\n",
      "KeyboardInterrupt\n",
      "KeyboardInterrupt\n",
      "Process Process-6:\n",
      "Traceback (most recent call last):\n",
      "  File \"/usr/lib/python3.8/multiprocessing/process.py\", line 315, in _bootstrap\n",
      "    self.run()\n",
      "  File \"/usr/lib/python3.8/multiprocessing/process.py\", line 108, in run\n",
      "    self._target(*self._args, **self._kwargs)\n",
      "  File \"<ipython-input-8-9b4ccb8b587b>\", line 19, in predict\n",
      "    result = action_classifier.predict_all(X_test)\n",
      "  File \"/home/mobley/Documents/repos/yuk/skeleton-representations-and-classifications/movingpose/estimator/classifiers.py\", line 119, in predict_all\n",
      "    return [self.predict(X, poses_are_normalized) for X in Xs]\n",
      "  File \"/home/mobley/Documents/repos/yuk/skeleton-representations-and-classifications/movingpose/estimator/classifiers.py\", line 119, in <listcomp>\n",
      "    return [self.predict(X, poses_are_normalized) for X in Xs]\n",
      "  File \"/home/mobley/Documents/repos/yuk/skeleton-representations-and-classifications/movingpose/estimator/classifiers.py\", line 95, in predict\n",
      "    for nearby_pose, score in self.nearest_pose_estimator.k_poses(pose):\n",
      "  File \"/home/mobley/Documents/repos/yuk/skeleton-representations-and-classifications/movingpose/estimator/neighbors.py\", line 196, in k_poses\n",
      "    traditional_knn = KNeighborsClassifier(n_neighbors=self.n_neighbors).fit(relevant_poses, relevant_labels_v)\n",
      "  File \"/home/mobley/Documents/repos/yuk/skeleton-representations-and-classifications/venv/lib/python3.8/site-packages/sklearn/neighbors/_base.py\", line 1157, in fit\n",
      "    return self._fit(X)\n",
      "Process Process-5:\n",
      "  File \"/home/mobley/Documents/repos/yuk/skeleton-representations-and-classifications/venv/lib/python3.8/site-packages/sklearn/neighbors/_base.py\", line 456, in _fit\n",
      "    self._tree = KDTree(X, self.leaf_size,\n",
      "Traceback (most recent call last):\n",
      "KeyboardInterrupt\n",
      "ERROR:root:Internal Python error in the inspect module.\n",
      "Below is the traceback from this internal error.\n",
      "\n"
     ]
    },
    {
     "name": "stdout",
     "output_type": "stream",
     "text": [
      "Traceback (most recent call last):\n",
      "  File \"/home/mobley/Documents/repos/yuk/skeleton-representations-and-classifications/venv/lib/python3.8/site-packages/IPython/core/interactiveshell.py\", line 3418, in run_code\n",
      "    exec(code_obj, self.user_global_ns, self.user_ns)\n",
      "  File \"<ipython-input-8-9b4ccb8b587b>\", line 59, in <module>\n",
      "    workers[num_workers_executed + i].join()\n",
      "  File \"/usr/lib/python3.8/multiprocessing/process.py\", line 149, in join\n",
      "    res = self._popen.wait(timeout)\n",
      "  File \"/usr/lib/python3.8/multiprocessing/popen_fork.py\", line 47, in wait\n",
      "    return self.poll(os.WNOHANG if timeout == 0.0 else 0)\n",
      "  File \"/usr/lib/python3.8/multiprocessing/popen_fork.py\", line 27, in poll\n",
      "    pid, sts = os.waitpid(self.pid, flag)\n",
      "KeyboardInterrupt\n",
      "\n",
      "During handling of the above exception, another exception occurred:\n",
      "\n",
      "Traceback (most recent call last):\n",
      "  File \"/home/mobley/Documents/repos/yuk/skeleton-representations-and-classifications/venv/lib/python3.8/site-packages/IPython/core/interactiveshell.py\", line 2045, in showtraceback\n",
      "    stb = value._render_traceback_()\n",
      "AttributeError: 'KeyboardInterrupt' object has no attribute '_render_traceback_'\n",
      "\n",
      "During handling of the above exception, another exception occurred:\n",
      "\n",
      "Traceback (most recent call last):\n",
      "  File \"/home/mobley/Documents/repos/yuk/skeleton-representations-and-classifications/venv/lib/python3.8/site-packages/IPython/core/ultratb.py\", line 1170, in get_records\n",
      "    return _fixed_getinnerframes(etb, number_of_lines_of_context, tb_offset)\n",
      "  File \"/home/mobley/Documents/repos/yuk/skeleton-representations-and-classifications/venv/lib/python3.8/site-packages/IPython/core/ultratb.py\", line 316, in wrapped\n",
      "    return f(*args, **kwargs)\n",
      "  File \"/home/mobley/Documents/repos/yuk/skeleton-representations-and-classifications/venv/lib/python3.8/site-packages/IPython/core/ultratb.py\", line 350, in _fixed_getinnerframes\n",
      "    records = fix_frame_records_filenames(inspect.getinnerframes(etb, context))\n",
      "  File \"/usr/lib/python3.8/inspect.py\", line 1503, in getinnerframes\n",
      "    frameinfo = (tb.tb_frame,) + getframeinfo(tb, context)\n",
      "  File \"/usr/lib/python3.8/inspect.py\", line 1461, in getframeinfo\n",
      "    filename = getsourcefile(frame) or getfile(frame)\n",
      "  File \"/usr/lib/python3.8/inspect.py\", line 708, in getsourcefile\n",
      "    if getattr(getmodule(object, filename), '__loader__', None) is not None:\n",
      "  File \"/usr/lib/python3.8/inspect.py\", line 754, in getmodule\n",
      "    os.path.realpath(f)] = module.__name__\n",
      "  File \"/usr/lib/python3.8/posixpath.py\", line 391, in realpath\n",
      "    path, ok = _joinrealpath(filename[:0], filename, {})\n",
      "  File \"/usr/lib/python3.8/posixpath.py\", line 425, in _joinrealpath\n",
      "    if not islink(newpath):\n",
      "  File \"/usr/lib/python3.8/posixpath.py\", line 167, in islink\n",
      "    st = os.lstat(path)\n",
      "KeyboardInterrupt\n"
     ]
    },
    {
     "ename": "TypeError",
     "evalue": "object of type 'NoneType' has no len()",
     "output_type": "error",
     "traceback": [
      "\u001b[0;31m---------------------------------------------------------------------------\u001b[0m",
      "\u001b[0;31mKeyboardInterrupt\u001b[0m                         Traceback (most recent call last)",
      "    \u001b[0;31m[... skipping hidden 1 frame]\u001b[0m\n",
      "\u001b[0;32m<ipython-input-8-9b4ccb8b587b>\u001b[0m in \u001b[0;36m<module>\u001b[0;34m\u001b[0m\n\u001b[1;32m     58\u001b[0m     \u001b[0;32mfor\u001b[0m \u001b[0mi\u001b[0m \u001b[0;32min\u001b[0m \u001b[0mrange\u001b[0m\u001b[0;34m(\u001b[0m\u001b[0mnum_cpu_threads\u001b[0m\u001b[0;34m)\u001b[0m\u001b[0;34m:\u001b[0m\u001b[0;34m\u001b[0m\u001b[0;34m\u001b[0m\u001b[0m\n\u001b[0;32m---> 59\u001b[0;31m         \u001b[0mworkers\u001b[0m\u001b[0;34m[\u001b[0m\u001b[0mnum_workers_executed\u001b[0m \u001b[0;34m+\u001b[0m \u001b[0mi\u001b[0m\u001b[0;34m]\u001b[0m\u001b[0;34m.\u001b[0m\u001b[0mjoin\u001b[0m\u001b[0;34m(\u001b[0m\u001b[0;34m)\u001b[0m\u001b[0;34m\u001b[0m\u001b[0;34m\u001b[0m\u001b[0m\n\u001b[0m\u001b[1;32m     60\u001b[0m     \u001b[0mnum_workers_executed\u001b[0m \u001b[0;34m+=\u001b[0m \u001b[0mnum_cpu_threads\u001b[0m\u001b[0;34m\u001b[0m\u001b[0;34m\u001b[0m\u001b[0m\n",
      "\u001b[0;32m/usr/lib/python3.8/multiprocessing/process.py\u001b[0m in \u001b[0;36mjoin\u001b[0;34m(self, timeout)\u001b[0m\n\u001b[1;32m    148\u001b[0m         \u001b[0;32massert\u001b[0m \u001b[0mself\u001b[0m\u001b[0;34m.\u001b[0m\u001b[0m_popen\u001b[0m \u001b[0;32mis\u001b[0m \u001b[0;32mnot\u001b[0m \u001b[0;32mNone\u001b[0m\u001b[0;34m,\u001b[0m \u001b[0;34m'can only join a started process'\u001b[0m\u001b[0;34m\u001b[0m\u001b[0;34m\u001b[0m\u001b[0m\n\u001b[0;32m--> 149\u001b[0;31m         \u001b[0mres\u001b[0m \u001b[0;34m=\u001b[0m \u001b[0mself\u001b[0m\u001b[0;34m.\u001b[0m\u001b[0m_popen\u001b[0m\u001b[0;34m.\u001b[0m\u001b[0mwait\u001b[0m\u001b[0;34m(\u001b[0m\u001b[0mtimeout\u001b[0m\u001b[0;34m)\u001b[0m\u001b[0;34m\u001b[0m\u001b[0;34m\u001b[0m\u001b[0m\n\u001b[0m\u001b[1;32m    150\u001b[0m         \u001b[0;32mif\u001b[0m \u001b[0mres\u001b[0m \u001b[0;32mis\u001b[0m \u001b[0;32mnot\u001b[0m \u001b[0;32mNone\u001b[0m\u001b[0;34m:\u001b[0m\u001b[0;34m\u001b[0m\u001b[0;34m\u001b[0m\u001b[0m\n",
      "\u001b[0;32m/usr/lib/python3.8/multiprocessing/popen_fork.py\u001b[0m in \u001b[0;36mwait\u001b[0;34m(self, timeout)\u001b[0m\n\u001b[1;32m     46\u001b[0m             \u001b[0;31m# This shouldn't block if wait() returned successfully.\u001b[0m\u001b[0;34m\u001b[0m\u001b[0;34m\u001b[0m\u001b[0;34m\u001b[0m\u001b[0m\n\u001b[0;32m---> 47\u001b[0;31m             \u001b[0;32mreturn\u001b[0m \u001b[0mself\u001b[0m\u001b[0;34m.\u001b[0m\u001b[0mpoll\u001b[0m\u001b[0;34m(\u001b[0m\u001b[0mos\u001b[0m\u001b[0;34m.\u001b[0m\u001b[0mWNOHANG\u001b[0m \u001b[0;32mif\u001b[0m \u001b[0mtimeout\u001b[0m \u001b[0;34m==\u001b[0m \u001b[0;36m0.0\u001b[0m \u001b[0;32melse\u001b[0m \u001b[0;36m0\u001b[0m\u001b[0;34m)\u001b[0m\u001b[0;34m\u001b[0m\u001b[0;34m\u001b[0m\u001b[0m\n\u001b[0m\u001b[1;32m     48\u001b[0m         \u001b[0;32mreturn\u001b[0m \u001b[0mself\u001b[0m\u001b[0;34m.\u001b[0m\u001b[0mreturncode\u001b[0m\u001b[0;34m\u001b[0m\u001b[0;34m\u001b[0m\u001b[0m\n",
      "\u001b[0;32m/usr/lib/python3.8/multiprocessing/popen_fork.py\u001b[0m in \u001b[0;36mpoll\u001b[0;34m(self, flag)\u001b[0m\n\u001b[1;32m     26\u001b[0m             \u001b[0;32mtry\u001b[0m\u001b[0;34m:\u001b[0m\u001b[0;34m\u001b[0m\u001b[0;34m\u001b[0m\u001b[0m\n\u001b[0;32m---> 27\u001b[0;31m                 \u001b[0mpid\u001b[0m\u001b[0;34m,\u001b[0m \u001b[0msts\u001b[0m \u001b[0;34m=\u001b[0m \u001b[0mos\u001b[0m\u001b[0;34m.\u001b[0m\u001b[0mwaitpid\u001b[0m\u001b[0;34m(\u001b[0m\u001b[0mself\u001b[0m\u001b[0;34m.\u001b[0m\u001b[0mpid\u001b[0m\u001b[0;34m,\u001b[0m \u001b[0mflag\u001b[0m\u001b[0;34m)\u001b[0m\u001b[0;34m\u001b[0m\u001b[0;34m\u001b[0m\u001b[0m\n\u001b[0m\u001b[1;32m     28\u001b[0m             \u001b[0;32mexcept\u001b[0m \u001b[0mOSError\u001b[0m \u001b[0;32mas\u001b[0m \u001b[0me\u001b[0m\u001b[0;34m:\u001b[0m\u001b[0;34m\u001b[0m\u001b[0;34m\u001b[0m\u001b[0m\n",
      "\u001b[0;31mKeyboardInterrupt\u001b[0m: ",
      "\nDuring handling of the above exception, another exception occurred:\n",
      "\u001b[0;31mAttributeError\u001b[0m                            Traceback (most recent call last)",
      "\u001b[0;32m~/Documents/repos/yuk/skeleton-representations-and-classifications/venv/lib/python3.8/site-packages/IPython/core/interactiveshell.py\u001b[0m in \u001b[0;36mshowtraceback\u001b[0;34m(self, exc_tuple, filename, tb_offset, exception_only, running_compiled_code)\u001b[0m\n\u001b[1;32m   2044\u001b[0m                         \u001b[0;31m# in the engines. This should return a list of strings.\u001b[0m\u001b[0;34m\u001b[0m\u001b[0;34m\u001b[0m\u001b[0;34m\u001b[0m\u001b[0m\n\u001b[0;32m-> 2045\u001b[0;31m                         \u001b[0mstb\u001b[0m \u001b[0;34m=\u001b[0m \u001b[0mvalue\u001b[0m\u001b[0;34m.\u001b[0m\u001b[0m_render_traceback_\u001b[0m\u001b[0;34m(\u001b[0m\u001b[0;34m)\u001b[0m\u001b[0;34m\u001b[0m\u001b[0;34m\u001b[0m\u001b[0m\n\u001b[0m\u001b[1;32m   2046\u001b[0m                     \u001b[0;32mexcept\u001b[0m \u001b[0mException\u001b[0m\u001b[0;34m:\u001b[0m\u001b[0;34m\u001b[0m\u001b[0;34m\u001b[0m\u001b[0m\n",
      "\u001b[0;31mAttributeError\u001b[0m: 'KeyboardInterrupt' object has no attribute '_render_traceback_'",
      "\nDuring handling of the above exception, another exception occurred:\n",
      "\u001b[0;31mTypeError\u001b[0m                                 Traceback (most recent call last)",
      "    \u001b[0;31m[... skipping hidden 1 frame]\u001b[0m\n",
      "\u001b[0;32m~/Documents/repos/yuk/skeleton-representations-and-classifications/venv/lib/python3.8/site-packages/IPython/core/interactiveshell.py\u001b[0m in \u001b[0;36mshowtraceback\u001b[0;34m(self, exc_tuple, filename, tb_offset, exception_only, running_compiled_code)\u001b[0m\n\u001b[1;32m   2045\u001b[0m                         \u001b[0mstb\u001b[0m \u001b[0;34m=\u001b[0m \u001b[0mvalue\u001b[0m\u001b[0;34m.\u001b[0m\u001b[0m_render_traceback_\u001b[0m\u001b[0;34m(\u001b[0m\u001b[0;34m)\u001b[0m\u001b[0;34m\u001b[0m\u001b[0;34m\u001b[0m\u001b[0m\n\u001b[1;32m   2046\u001b[0m                     \u001b[0;32mexcept\u001b[0m \u001b[0mException\u001b[0m\u001b[0;34m:\u001b[0m\u001b[0;34m\u001b[0m\u001b[0;34m\u001b[0m\u001b[0m\n\u001b[0;32m-> 2047\u001b[0;31m                         stb = self.InteractiveTB.structured_traceback(etype,\n\u001b[0m\u001b[1;32m   2048\u001b[0m                                             value, tb, tb_offset=tb_offset)\n\u001b[1;32m   2049\u001b[0m \u001b[0;34m\u001b[0m\u001b[0m\n",
      "\u001b[0;32m~/Documents/repos/yuk/skeleton-representations-and-classifications/venv/lib/python3.8/site-packages/IPython/core/ultratb.py\u001b[0m in \u001b[0;36mstructured_traceback\u001b[0;34m(self, etype, value, tb, tb_offset, number_of_lines_of_context)\u001b[0m\n\u001b[1;32m   1434\u001b[0m         \u001b[0;32melse\u001b[0m\u001b[0;34m:\u001b[0m\u001b[0;34m\u001b[0m\u001b[0;34m\u001b[0m\u001b[0m\n\u001b[1;32m   1435\u001b[0m             \u001b[0mself\u001b[0m\u001b[0;34m.\u001b[0m\u001b[0mtb\u001b[0m \u001b[0;34m=\u001b[0m \u001b[0mtb\u001b[0m\u001b[0;34m\u001b[0m\u001b[0;34m\u001b[0m\u001b[0m\n\u001b[0;32m-> 1436\u001b[0;31m         return FormattedTB.structured_traceback(\n\u001b[0m\u001b[1;32m   1437\u001b[0m             self, etype, value, tb, tb_offset, number_of_lines_of_context)\n\u001b[1;32m   1438\u001b[0m \u001b[0;34m\u001b[0m\u001b[0m\n",
      "\u001b[0;32m~/Documents/repos/yuk/skeleton-representations-and-classifications/venv/lib/python3.8/site-packages/IPython/core/ultratb.py\u001b[0m in \u001b[0;36mstructured_traceback\u001b[0;34m(self, etype, value, tb, tb_offset, number_of_lines_of_context)\u001b[0m\n\u001b[1;32m   1334\u001b[0m         \u001b[0;32mif\u001b[0m \u001b[0mmode\u001b[0m \u001b[0;32min\u001b[0m \u001b[0mself\u001b[0m\u001b[0;34m.\u001b[0m\u001b[0mverbose_modes\u001b[0m\u001b[0;34m:\u001b[0m\u001b[0;34m\u001b[0m\u001b[0;34m\u001b[0m\u001b[0m\n\u001b[1;32m   1335\u001b[0m             \u001b[0;31m# Verbose modes need a full traceback\u001b[0m\u001b[0;34m\u001b[0m\u001b[0;34m\u001b[0m\u001b[0;34m\u001b[0m\u001b[0m\n\u001b[0;32m-> 1336\u001b[0;31m             return VerboseTB.structured_traceback(\n\u001b[0m\u001b[1;32m   1337\u001b[0m                 \u001b[0mself\u001b[0m\u001b[0;34m,\u001b[0m \u001b[0metype\u001b[0m\u001b[0;34m,\u001b[0m \u001b[0mvalue\u001b[0m\u001b[0;34m,\u001b[0m \u001b[0mtb\u001b[0m\u001b[0;34m,\u001b[0m \u001b[0mtb_offset\u001b[0m\u001b[0;34m,\u001b[0m \u001b[0mnumber_of_lines_of_context\u001b[0m\u001b[0;34m\u001b[0m\u001b[0;34m\u001b[0m\u001b[0m\n\u001b[1;32m   1338\u001b[0m             )\n",
      "\u001b[0;32m~/Documents/repos/yuk/skeleton-representations-and-classifications/venv/lib/python3.8/site-packages/IPython/core/ultratb.py\u001b[0m in \u001b[0;36mstructured_traceback\u001b[0;34m(self, etype, evalue, etb, tb_offset, number_of_lines_of_context)\u001b[0m\n\u001b[1;32m   1191\u001b[0m         \u001b[0;34m\"\"\"Return a nice text document describing the traceback.\"\"\"\u001b[0m\u001b[0;34m\u001b[0m\u001b[0;34m\u001b[0m\u001b[0m\n\u001b[1;32m   1192\u001b[0m \u001b[0;34m\u001b[0m\u001b[0m\n\u001b[0;32m-> 1193\u001b[0;31m         formatted_exception = self.format_exception_as_a_whole(etype, evalue, etb, number_of_lines_of_context,\n\u001b[0m\u001b[1;32m   1194\u001b[0m                                                                tb_offset)\n\u001b[1;32m   1195\u001b[0m \u001b[0;34m\u001b[0m\u001b[0m\n",
      "\u001b[0;32m~/Documents/repos/yuk/skeleton-representations-and-classifications/venv/lib/python3.8/site-packages/IPython/core/ultratb.py\u001b[0m in \u001b[0;36mformat_exception_as_a_whole\u001b[0;34m(self, etype, evalue, etb, number_of_lines_of_context, tb_offset)\u001b[0m\n\u001b[1;32m   1149\u001b[0m \u001b[0;34m\u001b[0m\u001b[0m\n\u001b[1;32m   1150\u001b[0m \u001b[0;34m\u001b[0m\u001b[0m\n\u001b[0;32m-> 1151\u001b[0;31m         \u001b[0mlast_unique\u001b[0m\u001b[0;34m,\u001b[0m \u001b[0mrecursion_repeat\u001b[0m \u001b[0;34m=\u001b[0m \u001b[0mfind_recursion\u001b[0m\u001b[0;34m(\u001b[0m\u001b[0morig_etype\u001b[0m\u001b[0;34m,\u001b[0m \u001b[0mevalue\u001b[0m\u001b[0;34m,\u001b[0m \u001b[0mrecords\u001b[0m\u001b[0;34m)\u001b[0m\u001b[0;34m\u001b[0m\u001b[0;34m\u001b[0m\u001b[0m\n\u001b[0m\u001b[1;32m   1152\u001b[0m \u001b[0;34m\u001b[0m\u001b[0m\n\u001b[1;32m   1153\u001b[0m         \u001b[0mframes\u001b[0m \u001b[0;34m=\u001b[0m \u001b[0mself\u001b[0m\u001b[0;34m.\u001b[0m\u001b[0mformat_records\u001b[0m\u001b[0;34m(\u001b[0m\u001b[0mrecords\u001b[0m\u001b[0;34m,\u001b[0m \u001b[0mlast_unique\u001b[0m\u001b[0;34m,\u001b[0m \u001b[0mrecursion_repeat\u001b[0m\u001b[0;34m)\u001b[0m\u001b[0;34m\u001b[0m\u001b[0;34m\u001b[0m\u001b[0m\n",
      "\u001b[0;32m~/Documents/repos/yuk/skeleton-representations-and-classifications/venv/lib/python3.8/site-packages/IPython/core/ultratb.py\u001b[0m in \u001b[0;36mfind_recursion\u001b[0;34m(etype, value, records)\u001b[0m\n\u001b[1;32m    449\u001b[0m     \u001b[0;31m# first frame (from in to out) that looks different.\u001b[0m\u001b[0;34m\u001b[0m\u001b[0;34m\u001b[0m\u001b[0;34m\u001b[0m\u001b[0m\n\u001b[1;32m    450\u001b[0m     \u001b[0;32mif\u001b[0m \u001b[0;32mnot\u001b[0m \u001b[0mis_recursion_error\u001b[0m\u001b[0;34m(\u001b[0m\u001b[0metype\u001b[0m\u001b[0;34m,\u001b[0m \u001b[0mvalue\u001b[0m\u001b[0;34m,\u001b[0m \u001b[0mrecords\u001b[0m\u001b[0;34m)\u001b[0m\u001b[0;34m:\u001b[0m\u001b[0;34m\u001b[0m\u001b[0;34m\u001b[0m\u001b[0m\n\u001b[0;32m--> 451\u001b[0;31m         \u001b[0;32mreturn\u001b[0m \u001b[0mlen\u001b[0m\u001b[0;34m(\u001b[0m\u001b[0mrecords\u001b[0m\u001b[0;34m)\u001b[0m\u001b[0;34m,\u001b[0m \u001b[0;36m0\u001b[0m\u001b[0;34m\u001b[0m\u001b[0;34m\u001b[0m\u001b[0m\n\u001b[0m\u001b[1;32m    452\u001b[0m \u001b[0;34m\u001b[0m\u001b[0m\n\u001b[1;32m    453\u001b[0m     \u001b[0;31m# Select filename, lineno, func_name to track frames with\u001b[0m\u001b[0;34m\u001b[0m\u001b[0;34m\u001b[0m\u001b[0;34m\u001b[0m\u001b[0m\n",
      "\u001b[0;31mTypeError\u001b[0m: object of type 'NoneType' has no len()"
     ]
    }
   ],
   "source": [
    "def predict(return_dict, n_neighbors, n_training_neighbors, alpha, beta, kappa, theta, n):\n",
    "    nearest_pose_estimator = neighbors.NearestPoses(\n",
    "        n_neighbors=n_neighbors,\n",
    "        n_training_neighbors=n_training_neighbors,\n",
    "        alpha=alpha,\n",
    "        beta=beta,\n",
    "        kappa=kappa\n",
    "    )\n",
    "    action_classifier = classifiers.ActionClassifier(\n",
    "        nearest_pose_estimator=nearest_pose_estimator,\n",
    "        theta=theta,\n",
    "        n=n\n",
    "    )\n",
    "    action_classifier.fit(\n",
    "        X_train,\n",
    "        y_train,\n",
    "        cache_path=f\"../pickle/action_classifier_training-{str(n_training_neighbors)}.p\"\n",
    "    )\n",
    "    result = action_classifier.predict_all(X_test)\n",
    "    return_dict[(n_neighbors, n_training_neighbors, alpha, beta, kappa, theta, n)] = (action_classifier, result)\n",
    "\n",
    "manager = multiprocessing.Manager()\n",
    "return_dict = manager.dict()\n",
    "workers = []\n",
    "\n",
    "for n_neighbors in [20, 25, 30]:\n",
    "    for n_training_neighbors in [2000, 5000, 10000, 20000, 30000, 40000]:\n",
    "        for alpha in [0.75]:\n",
    "            for beta in [0.6]:\n",
    "                for kappa in [20, 30, 40, 50]:\n",
    "                    for theta in [0.6, 0.7, 0.8, 0.9]:\n",
    "                        for n in [40, 60, 80, 100, 120, 140, 160]:\n",
    "                            worker = multiprocessing.Process(\n",
    "                                target=\n",
    "                                    predict,\n",
    "                                args=(\n",
    "                                    return_dict,\n",
    "                                    n_neighbors,\n",
    "                                    n_training_neighbors,\n",
    "                                    alpha,\n",
    "                                    beta,\n",
    "                                    kappa,\n",
    "                                    theta,\n",
    "                                    n\n",
    "                                )\n",
    "                            )\n",
    "                            workers.append(worker)\n",
    "\n",
    "num_cpu_cores = os.getenv(\"NUM_CPU_CORES\")\n",
    "if num_cpu_cores is None:\n",
    "    num_cpu_cores = input(\"Enter the number of CPU cores this computer has (ex. '12'): \")\n",
    "num_cpu_cores = int(num_cpu_cores)\n",
    "\n",
    "num_workers_executed = 0\n",
    "while num_workers_executed < len(workers):\n",
    "    for i in range(num_cpu_cores):\n",
    "        workers[num_workers_executed + i].start()\n",
    "    for i in range(num_cpu_cores):\n",
    "        workers[num_workers_executed + i].join()\n",
    "        print(f\"Combinations tested: {num_workers_executed + i + 1}/{len(workers)}\")\n",
    "    num_workers_executed += num_cpu_cores\n",
    "\n",
    "\n",
    "print(\"# Correctly predicted: (higher is better)\")\n",
    "best_score = sys.maxsize\n",
    "best_hpc = None\n",
    "best_action_classifier = None\n",
    "for hyper_parameter_combo, (action_classifier, result) in return_dict.items():\n",
    "    if result > best_score:\n",
    "        best_hpc = hyper_parameter_combo\n",
    "        best_action_classifier = action_classifier\n",
    "        best_score = result\n"
   ]
  },
  {
   "cell_type": "markdown",
   "metadata": {},
   "source": [
    "## Print best action classifier and its score"
   ]
  },
  {
   "cell_type": "code",
   "execution_count": null,
   "metadata": {
    "pycharm": {
     "name": "#%%\n"
    }
   },
   "outputs": [],
   "source": [
    "print(\"The best hyper parameter combo was:\")\n",
    "print(f\"    n_neighbors: {best_hpc[0]}\")\n",
    "print(f\"    n_training_neighbors: {best_hpc[1]}\")\n",
    "print(f\"    alpha: {best_hpc[2]}\")\n",
    "print(f\"    beta: {best_hpc[3]}\")\n",
    "print(f\"    kappa: {best_hpc[4]}\")\n",
    "print(f\"    theta: {best_hpc[5]}\")\n",
    "print(f\"    n: {best_hpc[6]}\")\n",
    "print(\"\\n--------------\\n\")\n",
    "print(f\"Its score was: {best_score}\")"
   ]
  },
  {
   "cell_type": "markdown",
   "metadata": {},
   "source": [
    "## Save the best action classifier"
   ]
  },
  {
   "cell_type": "code",
   "execution_count": null,
   "metadata": {
    "pycharm": {
     "name": "#%%\n"
    }
   },
   "outputs": [],
   "source": [
    "best_action_classifier.save_pickle(\"../pickle/best_action_classifier.p\")"
   ]
  },
  {
   "cell_type": "markdown",
   "metadata": {},
   "source": [
    "## Load best action classifier"
   ]
  },
  {
   "cell_type": "code",
   "execution_count": null,
   "metadata": {
    "pycharm": {
     "name": "#%%\n"
    }
   },
   "outputs": [],
   "source": [
    "action_classifier = classifiers.load_pickle(\"../pickle/best_action_classifier.p\")"
   ]
  },
  {
   "cell_type": "markdown",
   "metadata": {},
   "source": [
    "## Predict live data"
   ]
  },
  {
   "cell_type": "code",
   "execution_count": null,
   "metadata": {
    "pycharm": {
     "name": "#%%\n"
    }
   },
   "outputs": [],
   "source": [
    "#TODO add live predictions when mehmet publishes the UI code"
   ]
  },
  {
   "cell_type": "markdown",
   "metadata": {},
   "source": [
    "# DAB"
   ]
  },
  {
   "cell_type": "code",
   "execution_count": null,
   "metadata": {
    "pycharm": {
     "name": "#%%\n"
    }
   },
   "outputs": [],
   "source": [
    "print(\"dab\")\n"
   ]
  }
 ],
 "metadata": {
  "kernelspec": {
   "display_name": "Python 3",
   "language": "python",
   "name": "python3"
  },
  "language_info": {
   "codemirror_mode": {
    "name": "ipython",
    "version": 3
   },
   "file_extension": ".py",
   "mimetype": "text/x-python",
   "name": "python",
   "nbconvert_exporter": "python",
   "pygments_lexer": "ipython3",
   "version": "3.8.3"
  }
 },
 "nbformat": 4,
 "nbformat_minor": 1
}
