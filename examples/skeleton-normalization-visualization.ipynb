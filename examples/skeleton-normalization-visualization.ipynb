{
 "cells": [
  {
   "cell_type": "code",
   "execution_count": 1,
   "metadata": {},
   "outputs": [],
   "source": [
    "from mpl_toolkits.mplot3d import Axes3D\n",
    "import matplotlib.pyplot as plt\n",
    "import numpy as np\n",
    "import random\n",
    "\n",
    "%matplotlib notebook"
   ]
  },
  {
   "cell_type": "code",
   "execution_count": 2,
   "metadata": {},
   "outputs": [],
   "source": [
    "import sys\n",
    "sys.path.append('..')\n",
    "import movingpose.preprocessing.skeleton_normalization as sn\n",
    "import movingpose.preprocessing.kinect_skeleton_data as gd\n",
    "from movingpose.preprocessing.kinect_skeleton_data import load_pickle\n",
    "from movingpose.preprocessing.moving_pose import format_skeleton_data_dict"
   ]
  },
  {
   "cell_type": "code",
   "execution_count": 3,
   "metadata": {},
   "outputs": [
    {
     "ename": "NameError",
     "evalue": "name 'kinect_skeleton_data' is not defined",
     "output_type": "error",
     "traceback": [
      "\u001b[0;31m---------------------------------------------------------------------------\u001b[0m",
      "\u001b[0;31mNameError\u001b[0m                                 Traceback (most recent call last)",
      "\u001b[0;32m<ipython-input-3-1540004b5e20>\u001b[0m in \u001b[0;36m<module>\u001b[0;34m\u001b[0m\n\u001b[0;32m----> 1\u001b[0;31m \u001b[0mkinect_skeleton_data\u001b[0m\u001b[0;34m.\u001b[0m\u001b[0mpickle_dir\u001b[0m\u001b[0;34m(\u001b[0m\u001b[0;34m\"../pickle/multiview.p\"\u001b[0m\u001b[0;34m,\u001b[0m \u001b[0;34m\"../ext/dataset/multiview_action/\"\u001b[0m\u001b[0;34m)\u001b[0m\u001b[0;34m\u001b[0m\u001b[0;34m\u001b[0m\u001b[0m\n\u001b[0m",
      "\u001b[0;31mNameError\u001b[0m: name 'kinect_skeleton_data' is not defined"
     ]
    }
   ],
   "source": [
    "kinect_skeleton_data.pickle_dir(\"../pickle/multiview.p\", \"../ext/dataset/multiview_action/\")"
   ]
  },
  {
   "cell_type": "code",
   "execution_count": 4,
   "metadata": {},
   "outputs": [],
   "source": [
    "raw_data_dict = load_pickle(\"../pickle/multiview.p\")"
   ]
  },
  {
   "cell_type": "code",
   "execution_count": 16,
   "metadata": {},
   "outputs": [],
   "source": [
    "X_gf, labels_gf = format_skeleton_data_dict(raw_data_dict)\n",
    "X_no_gf, labels_no_gf = format_skeleton_data_dict(raw_data_dict, False)"
   ]
  },
  {
   "cell_type": "code",
   "execution_count": 21,
   "metadata": {},
   "outputs": [
    {
     "ename": "SyntaxError",
     "evalue": "EOL while scanning string literal (<ipython-input-21-d2e88dc71c24>, line 18)",
     "output_type": "error",
     "traceback": [
      "\u001b[0;36m  File \u001b[0;32m\"<ipython-input-21-d2e88dc71c24>\"\u001b[0;36m, line \u001b[0;32m18\u001b[0m\n\u001b[0;31m    print(f'Inspecting: {labels_gf[rand_sequence_i]} at frame {random_frame_i + 1})\u001b[0m\n\u001b[0m                                                                                   ^\u001b[0m\n\u001b[0;31mSyntaxError\u001b[0m\u001b[0;31m:\u001b[0m EOL while scanning string literal\n"
     ]
    }
   ],
   "source": [
    "rand_sequence_i = random.randint(0,len(X_gf))\n",
    "random_action_sequence = X_gf[rand_sequence_i]\n",
    "random_frame_i = random.randint(0, len(random_action_sequence) - 1)\n",
    "\n",
    "frame_data = random_action_sequence[random_frame_i]\n",
    "x_gf = [descriptor[0] for descriptor in frame_data]\n",
    "y_gf = [descriptor[1] for descriptor in frame_data]\n",
    "z_gf = [descriptor[2] for descriptor in frame_data]\n",
    "\n",
    "\n",
    "random_action_sequence = X_no_gf[rand_sequence_i]\n",
    "frame_data = random_action_sequence[random_frame_i]\n",
    "frame_data = random_action_sequence[random.randint(0, len(random_action_sequence))]\n",
    "x_no_gf = [descriptor[0] for descriptor in frame_data]\n",
    "y_no_gf = [descriptor[1] for descriptor in frame_data]\n",
    "z_no_gf = [descriptor[2] for descriptor in frame_data]\n",
    "\n",
    "print(f'Inspecting: {labels_gf[rand_sequence_i]} at frame {random_frame_i + 1}')\n",
    "\n",
    "colors = ['blue' for i in range(20)]\n",
    "colors[0] = 'red'  # hip is red\n",
    "colors[7] = 'green'  # hands and feet are green\n",
    "colors[11] = 'green'\n",
    "colors[15] = 'green'\n",
    "colors[19] = 'green'\n",
    "colors[3] = 'black' # head is black\n",
    "\n",
    "fig = plt.figure()\n",
    "ax = fig.add_subplot(1, 2, 1, projection='3d')\n",
    "ax.scatter(x_gf, y_gf, z_gf, color=colors)\n",
    "ax.set_title('gf')\n",
    "\n",
    "\n",
    "\n",
    "ax = fig.add_subplot(1, 2, 2, projection='3d')\n",
    "ax.scatter(x_no_gf, y_no_gf, z_no_gf, color=colors)\n",
    "ax.set_title('no gf')"
   ]
  },
  {
   "cell_type": "code",
   "execution_count": null,
   "metadata": {},
   "outputs": [],
   "source": []
  }
 ],
 "metadata": {
  "kernelspec": {
   "display_name": "Python 3",
   "language": "python",
   "name": "python3"
  },
  "language_info": {
   "codemirror_mode": {
    "name": "ipython",
    "version": 3
   },
   "file_extension": ".py",
   "mimetype": "text/x-python",
   "name": "python",
   "nbconvert_exporter": "python",
   "pygments_lexer": "ipython3",
   "version": "3.8.3"
  }
 },
 "nbformat": 4,
 "nbformat_minor": 4
}
