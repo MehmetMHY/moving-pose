{
 "cells": [
  {
   "cell_type": "code",
   "execution_count": 49,
   "metadata": {},
   "outputs": [],
   "source": [
    "from math import pi, sqrt, exp\n",
    "from scipy.ndimage import gaussian_filter1d\n",
    "import numpy as np\n",
    "import cv2\n",
    "\n",
    "def printList(values):\n",
    "    c = 1\n",
    "    for i in values:\n",
    "        print(c, i)\n",
    "        c = c + 1\n",
    "        \n",
    "# 5x1 Gaussian Filter\n",
    "def gauss(n, sigma):\n",
    "    r = range(-int(n/2),int(n/2)+1)\n",
    "    return [1 / (sigma * sqrt(2*pi)) * exp(-float(x)**2/(2*sigma**2)) for x in r]"
   ]
  },
  {
   "cell_type": "code",
   "execution_count": 50,
   "metadata": {},
   "outputs": [],
   "source": [
    "frame = [[0.103, -0.423, 2.320], [0.101, -0.379, 2.314], [0.108, -0.163, 2.249], [0.128, 0.025, 2.148], [-0.081, -0.223, 2.282], [-0.119, -0.426, 2.195] ,[-0.143, -0.651, 2.075] ,[-0.121, -0.755, 2.012] ,[0.258, -0.217, 2.323] ,[0.268, -0.397, 2.267] ,[0.082, -0.441, 2.052] ,[0.122, -0.477, 2.028] ,[0.012, -0.499, 2.323] ,[-0.171, -0.623, 2.102] ,[-0.181, -0.826, 2.039] ,[-0.121, -0.814, 2.076] ,[0.204, -0.494, 2.339] ,[0.305, -0.643, 2.083] ,[0.286, -0.788, 2.114] ,[0.273, -0.854, 2.087]]"
   ]
  },
  {
   "cell_type": "code",
   "execution_count": 89,
   "metadata": {},
   "outputs": [
    {
     "name": "stdout",
     "output_type": "stream",
     "text": [
      "[[0.05448868]\n",
      " [0.24420134]\n",
      " [0.40261995]\n",
      " [0.24420134]\n",
      " [0.05448868]]\n",
      "[0.08770302 0.37529419 0.73870861]\n",
      "\n",
      "0.10278970727023612\n",
      "-0.392715473383483\n",
      "2.3132858077098293\n",
      "\n",
      "\n"
     ]
    }
   ],
   "source": [
    "# print(\"-----[ BEFORE ]-----\")\n",
    "# printList(frame)\n",
    "# print()\n",
    "\n",
    "o = 1\n",
    "n = 5\n",
    "\n",
    "filter = gauss(n, o)\n",
    "filter = tuple(filter)\n",
    "#print(filter)\n",
    "kernel = cv2.getGaussianKernel(ksize=5,sigma=1)\n",
    "print(kernel)\n",
    "\n",
    "arr = np.column_stack(frame)\n",
    "#print(arr[:,0])\n",
    "\n",
    "blur = cv2.GaussianBlur(arr,(1,5), 1)\n",
    "\n",
    "print(blur[:,0])\n",
    "\n",
    "p = gaussian_filter1d(arr[0], 1)\n",
    "f = gaussian_filter1d(arr[1], 1)\n",
    "c = gaussian_filter1d(arr[2], 1)\n",
    "print()\n",
    "print(p[0])\n",
    "print(f[0])\n",
    "print(c[0])\n",
    "print() ; print()\n",
    "\n"
   ]
  },
  {
   "cell_type": "code",
   "execution_count": 99,
   "metadata": {},
   "outputs": [],
   "source": [
    "kernel = cv2.getGaussianKernel(ksize=5,sigma=1)\n",
    "arr = np.column_stack(frame)\n"
   ]
  },
  {
   "cell_type": "code",
   "execution_count": 103,
   "metadata": {},
   "outputs": [
    {
     "name": "stdout",
     "output_type": "stream",
     "text": [
      "[ 0.103  0.101  0.108  0.128 -0.081 -0.119 -0.143 -0.121  0.258  0.268\n",
      "  0.082  0.122  0.012 -0.171 -0.181 -0.121  0.204  0.305  0.286  0.273]\n"
     ]
    }
   ],
   "source": [
    "def doIt(values):\n",
    "    print(values)\n",
    "    for i in range(len(values)):\n",
    "        \n",
    "    \n",
    "doIt(arr[0])"
   ]
  },
  {
   "cell_type": "code",
   "execution_count": null,
   "metadata": {},
   "outputs": [],
   "source": []
  }
 ],
 "metadata": {
  "kernelspec": {
   "display_name": "Python 3",
   "language": "python",
   "name": "python3"
  },
  "language_info": {
   "codemirror_mode": {
    "name": "ipython",
    "version": 3
   },
   "file_extension": ".py",
   "mimetype": "text/x-python",
   "name": "python",
   "nbconvert_exporter": "python",
   "pygments_lexer": "ipython3",
   "version": "3.8.6"
  }
 },
 "nbformat": 4,
 "nbformat_minor": 4
}
