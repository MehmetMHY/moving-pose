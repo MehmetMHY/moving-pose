{
 "cells": [
  {
   "cell_type": "code",
   "execution_count": 2,
   "metadata": {},
   "outputs": [],
   "source": [
    "from math import pi, sqrt, exp\n",
    "import numpy as np\n",
    "\n",
    "def printList(values):\n",
    "    c = 1\n",
    "    for i in values:\n",
    "        print(c, i)\n",
    "        c = c + 1\n",
    "        \n",
    "# 5x1 Gaussian Filter\n",
    "def gauss(n, sigma):\n",
    "    r = range(-int(n/2),int(n/2)+1)\n",
    "    return [1 / (sigma * sqrt(2*pi)) * exp(-float(x)**2/(2*sigma**2)) for x in r]"
   ]
  },
  {
   "cell_type": "code",
   "execution_count": 3,
   "metadata": {},
   "outputs": [],
   "source": [
    "frame = [[0.103, -0.423, 2.320], [0.101, -0.379, 2.314], [0.108, -0.163, 2.249], [0.128, 0.025, 2.148], [-0.081, -0.223, 2.282], [-0.119, -0.426, 2.195] ,[-0.143, -0.651, 2.075] ,[-0.121, -0.755, 2.012] ,[0.258, -0.217, 2.323] ,[0.268, -0.397, 2.267] ,[0.082, -0.441, 2.052] ,[0.122, -0.477, 2.028] ,[0.012, -0.499, 2.323] ,[-0.171, -0.623, 2.102] ,[-0.181, -0.826, 2.039] ,[-0.121, -0.814, 2.076] ,[0.204, -0.494, 2.339] ,[0.305, -0.643, 2.083] ,[0.286, -0.788, 2.114] ,[0.273, -0.854, 2.087]]"
   ]
  },
  {
   "cell_type": "code",
   "execution_count": 4,
   "metadata": {},
   "outputs": [
    {
     "name": "stdout",
     "output_type": "stream",
     "text": [
      "-----[ BEFORE ]-----\n",
      "1 [0.103, -0.423, 2.32]\n",
      "2 [0.101, -0.379, 2.314]\n",
      "3 [0.108, -0.163, 2.249]\n",
      "4 [0.128, 0.025, 2.148]\n",
      "5 [-0.081, -0.223, 2.282]\n",
      "6 [-0.119, -0.426, 2.195]\n",
      "7 [-0.143, -0.651, 2.075]\n",
      "8 [-0.121, -0.755, 2.012]\n",
      "9 [0.258, -0.217, 2.323]\n",
      "10 [0.268, -0.397, 2.267]\n",
      "11 [0.082, -0.441, 2.052]\n",
      "12 [0.122, -0.477, 2.028]\n",
      "13 [0.012, -0.499, 2.323]\n",
      "14 [-0.171, -0.623, 2.102]\n",
      "15 [-0.181, -0.826, 2.039]\n",
      "16 [-0.121, -0.814, 2.076]\n",
      "17 [0.204, -0.494, 2.339]\n",
      "18 [0.305, -0.643, 2.083]\n",
      "19 [0.286, -0.788, 2.114]\n",
      "20 [0.273, -0.854, 2.087]\n",
      "\n",
      "[[ 0.00556107 -0.02283818  0.12525904]\n",
      " [ 0.02492298 -0.10235362  0.56137208]\n",
      " [ 0.04109105 -0.16875258  0.92554609]\n",
      " [ 0.02492298 -0.10235362  0.56137208]\n",
      " [ 0.00556107 -0.02283818  0.12525904]]\n"
     ]
    }
   ],
   "source": [
    "print(\"-----[ BEFORE ]-----\")\n",
    "printList(frame)\n",
    "print()\n",
    "\n",
    "o = 1\n",
    "n = 5\n",
    "\n",
    "filter = gauss(n, o)\n",
    "temp = np.vstack(filter)\n",
    "\n",
    "print(temp*frame[0])"
   ]
  },
  {
   "cell_type": "code",
   "execution_count": null,
   "metadata": {},
   "outputs": [],
   "source": []
  }
 ],
 "metadata": {
  "kernelspec": {
   "display_name": "Python 3",
   "language": "python",
   "name": "python3"
  },
  "language_info": {
   "codemirror_mode": {
    "name": "ipython",
    "version": 3
   },
   "file_extension": ".py",
   "mimetype": "text/x-python",
   "name": "python",
   "nbconvert_exporter": "python",
   "pygments_lexer": "ipython3",
   "version": "3.8.5"
  }
 },
 "nbformat": 4,
 "nbformat_minor": 4
}
