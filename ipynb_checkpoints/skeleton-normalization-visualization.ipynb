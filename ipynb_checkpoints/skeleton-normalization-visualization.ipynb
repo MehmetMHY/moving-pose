{
 "cells": [
  {
   "cell_type": "code",
   "execution_count": 16,
   "metadata": {},
   "outputs": [],
   "source": [
    "from mpl_toolkits.mplot3d import Axes3D\n",
    "import matplotlib.pyplot as plt\n",
    "import numpy as np\n",
    "\n",
    "%matplotlib notebook"
   ]
  },
  {
   "cell_type": "code",
   "execution_count": 17,
   "metadata": {},
   "outputs": [],
   "source": [
    "import sys\n",
    "sys.path.append('../')\n",
    "from Skeleton import Skeleton\n",
    "import SkeletonNormalization as SN\n",
    "import get_data as gd\n",
    "from find_R import *"
   ]
  },
  {
   "cell_type": "code",
   "execution_count": 18,
   "metadata": {},
   "outputs": [
    {
     "name": "stdout",
     "output_type": "stream",
     "text": [
      "(109, 20, 5)\n",
      "(20, 5)\n"
     ]
    }
   ],
   "source": [
    "train = gd.loadData('../train.p')\n",
    "# a08_s01_e01_skeleton_proj.txt         hands raised over head\n",
    "# a10_s06_e02_skeleton_proj.txt         wave\n",
    "action_data = train[\"a08_s01_e01_skeleton_proj.txt\"]\n",
    "print(np.array(action_data).shape)\n",
    "print(np.array(action_data)[0,:,:].shape) # frame 1\n",
    "\n",
    "def get_frame(frame, data):\n",
    "    return np.array(data)[frame - 1,:,1:]"
   ]
  },
  {
   "cell_type": "code",
   "execution_count": 19,
   "metadata": {},
   "outputs": [
    {
     "name": "stdout",
     "output_type": "stream",
     "text": [
      "(array([-0.042, -0.432,  2.252]), array([-0.134, -0.502,  2.223]))\n",
      "(array([-0.042, -0.432,  2.252]), array([-0.045, -0.361,  2.258]))\n",
      "(array([-0.042, -0.432,  2.252]), array([ 0.052, -0.511,  2.278]))\n",
      "(array([-0.134, -0.502,  2.223]), array([-0.169, -0.529,  1.873]))\n",
      "(array([-0.045, -0.361,  2.258]), array([-0.044, -0.004,  2.249]))\n",
      "(array([ 0.052, -0.511,  2.278]), array([ 0.135, -0.529,  1.936]))\n",
      "(array([-0.169, -0.529,  1.873]), array([-0.168, -0.817,  1.922]))\n",
      "(array([-0.044, -0.004,  2.249]), array([-0.202, -0.114,  2.221]))\n",
      "(array([-0.044, -0.004,  2.249]), array([-0.024,  0.214,  2.259]))\n",
      "(array([-0.044, -0.004,  2.249]), array([ 0.115, -0.118,  2.306]))\n",
      "(array([ 0.135, -0.529,  1.936]), array([ 0.139, -0.829,  1.955]))\n",
      "(array([-0.168, -0.817,  1.922]), array([-0.145, -0.857,  1.838]))\n",
      "(array([-0.202, -0.114,  2.221]), array([-0.261, -0.355,  2.18 ]))\n",
      "(array([ 0.115, -0.118,  2.306]), array([ 0.141, -0.351,  2.247]))\n",
      "(array([ 0.139, -0.829,  1.955]), array([ 0.162, -0.87 ,  1.871]))\n",
      "(array([-0.261, -0.355,  2.18 ]), array([-0.25 , -0.47 ,  2.007]))\n",
      "(array([ 0.141, -0.351,  2.247]), array([ 0.198, -0.468,  2.084]))\n",
      "(array([-0.25 , -0.47 ,  2.007]), array([-0.248, -0.512,  1.96 ]))\n",
      "(array([ 0.198, -0.468,  2.084]), array([ 0.165, -0.482,  2.03 ]))\n"
     ]
    }
   ],
   "source": [
    "# get data from the first frame\n",
    "frame_data = get_frame(1, action_data)\n",
    "skele = Skeleton(frame_data)\n",
    "for i in skele:\n",
    "    print(i)"
   ]
  },
  {
   "cell_type": "code",
   "execution_count": 24,
   "metadata": {},
   "outputs": [
    {
     "ename": "TypeError",
     "evalue": "array() missing required argument 'object' (pos 1)",
     "output_type": "error",
     "traceback": [
      "\u001B[0;31m---------------------------------------------------------------------------\u001B[0m",
      "\u001B[0;31mTypeError\u001B[0m                                 Traceback (most recent call last)",
      "\u001B[0;32m<ipython-input-24-e32b988ccaaa>\u001B[0m in \u001B[0;36m<module>\u001B[0;34m\u001B[0m\n\u001B[1;32m      1\u001B[0m \u001B[0;31m# pydev_debug_cell\u001B[0m\u001B[0;34m\u001B[0m\u001B[0;34m\u001B[0m\u001B[0;34m\u001B[0m\u001B[0m\n\u001B[1;32m      2\u001B[0m \u001B[0;31m# normalize data\u001B[0m\u001B[0;34m\u001B[0m\u001B[0;34m\u001B[0m\u001B[0;34m\u001B[0m\u001B[0m\n\u001B[0;32m----> 3\u001B[0;31m \u001B[0mR\u001B[0m \u001B[0;34m=\u001B[0m \u001B[0mavg_dis_r\u001B[0m\u001B[0;34m(\u001B[0m\u001B[0mtrain\u001B[0m\u001B[0;34m)\u001B[0m\u001B[0;34m\u001B[0m\u001B[0;34m\u001B[0m\u001B[0m\n\u001B[0m\u001B[1;32m      4\u001B[0m \u001B[0mprint\u001B[0m\u001B[0;34m(\u001B[0m\u001B[0mR\u001B[0m\u001B[0;34m)\u001B[0m\u001B[0;34m\u001B[0m\u001B[0;34m\u001B[0m\u001B[0m\n\u001B[1;32m      5\u001B[0m \u001B[0mnorm_skele\u001B[0m \u001B[0;34m=\u001B[0m \u001B[0mSN\u001B[0m\u001B[0;34m.\u001B[0m\u001B[0mnormalize_skeleton\u001B[0m\u001B[0;34m(\u001B[0m\u001B[0mframe_data\u001B[0m\u001B[0;34m,\u001B[0m \u001B[0mR\u001B[0m\u001B[0;34m)\u001B[0m\u001B[0;34m\u001B[0m\u001B[0;34m\u001B[0m\u001B[0m\n",
      "\u001B[0;32m~/Documents/mines/machine-learning/CSCI470-Final/find_R.py\u001B[0m in \u001B[0;36mavg_dis_r\u001B[0;34m(data)\u001B[0m\n\u001B[1;32m      9\u001B[0m     \u001B[0;32mreturn\u001B[0m \u001B[0md\u001B[0m\u001B[0;34m\u001B[0m\u001B[0;34m\u001B[0m\u001B[0m\n\u001B[1;32m     10\u001B[0m \u001B[0;34m\u001B[0m\u001B[0m\n\u001B[0;32m---> 11\u001B[0;31m \u001B[0;34m\u001B[0m\u001B[0m\n\u001B[0m\u001B[1;32m     12\u001B[0m \u001B[0;32mdef\u001B[0m \u001B[0mavg_dis_r\u001B[0m\u001B[0;34m(\u001B[0m\u001B[0mdata\u001B[0m\u001B[0;34m)\u001B[0m\u001B[0;34m:\u001B[0m\u001B[0;34m\u001B[0m\u001B[0;34m\u001B[0m\u001B[0m\n\u001B[1;32m     13\u001B[0m     \u001B[0mbodies\u001B[0m \u001B[0;34m=\u001B[0m \u001B[0;34m[\u001B[0m\u001B[0;34m]\u001B[0m\u001B[0;34m\u001B[0m\u001B[0;34m\u001B[0m\u001B[0m\n",
      "\u001B[0;31mTypeError\u001B[0m: array() missing required argument 'object' (pos 1)"
     ]
    }
   ],
   "source": [
    "# normalize data\n",
    "R = avg_dis_r(train)\n",
    "print(R)\n",
    "norm_skele = SN.normalize_skeleton(frame_data, R)\n",
    "xs_norm, ys_norm, zs_norm = norm_skele[:,0], norm_skele[:,1], norm_skele[:,2]"
   ]
  },
  {
   "cell_type": "code",
   "execution_count": null,
   "metadata": {},
   "outputs": [],
   "source": [
    "colors = ['blue' for i in range(20)]\n",
    "colors[0] = 'red'  # hip is red\n",
    "colors[7] = 'green'  # hands and feet are green\n",
    "colors[11] = 'green'\n",
    "colors[15] = 'green'\n",
    "colors[19] = 'green'\n",
    "colors[3] = 'black' # head is black\n",
    "\n",
    "xs, ys, zs = frame_data[:, 1], frame_data[:, 2], frame_data[:, 3]\n",
    "fig = plt.figure()\n",
    "ax = fig.add_subplot(1, 2, 1, projection='3d')\n",
    "scatter_1 = ax.scatter(xs, ys, zs, color=colors)\n",
    "ax = fig.add_subplot(1, 2, 2, projection='3d')\n",
    "scatter_2 = ax.scatter(xs_norm, ys_norm, zs_norm, color=colors)\n",
    "plt.show()"
   ]
  },
  {
   "cell_type": "code",
   "execution_count": null,
   "outputs": [],
   "source": [],
   "metadata": {
    "collapsed": false,
    "pycharm": {
     "name": "#%%\n"
    }
   }
  },
  {
   "cell_type": "code",
   "execution_count": null,
   "outputs": [],
   "source": [],
   "metadata": {
    "collapsed": false,
    "pycharm": {
     "name": "#%%\n"
    }
   }
  },
  {
   "cell_type": "code",
   "execution_count": null,
   "outputs": [],
   "source": [],
   "metadata": {
    "collapsed": false,
    "pycharm": {
     "name": "#%%\n"
    }
   }
  },
  {
   "cell_type": "code",
   "execution_count": null,
   "metadata": {},
   "outputs": [],
   "source": []
  },
  {
   "cell_type": "code",
   "execution_count": null,
   "metadata": {},
   "outputs": [],
   "source": []
  },
  {
   "cell_type": "code",
   "execution_count": null,
   "metadata": {},
   "outputs": [],
   "source": []
  }
 ],
 "metadata": {
  "kernelspec": {
   "display_name": "Python 3",
   "language": "python",
   "name": "python3"
  },
  "language_info": {
   "codemirror_mode": {
    "name": "ipython",
    "version": 3
   },
   "file_extension": ".py",
   "mimetype": "text/x-python",
   "name": "python",
   "nbconvert_exporter": "python",
   "pygments_lexer": "ipython3",
   "version": "3.8.0"
  }
 },
 "nbformat": 4,
 "nbformat_minor": 4
}